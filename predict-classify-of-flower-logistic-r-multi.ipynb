{
 "cells": [
  {
   "cell_type": "markdown",
   "id": "c49e608c",
   "metadata": {
    "papermill": {
     "duration": 0.034363,
     "end_time": "2022-05-08T08:58:41.929706",
     "exception": false,
     "start_time": "2022-05-08T08:58:41.895343",
     "status": "completed"
    },
    "tags": []
   },
   "source": [
    "# Import Libraries"
   ]
  },
  {
   "cell_type": "code",
   "execution_count": 1,
   "id": "e8b3091a",
   "metadata": {
    "_cell_guid": "b1076dfc-b9ad-4769-8c92-a6c4dae69d19",
    "_uuid": "8f2839f25d086af736a60e9eeb907d3b93b6e0e5",
    "execution": {
     "iopub.execute_input": "2022-05-08T08:58:41.997379Z",
     "iopub.status.busy": "2022-05-08T08:58:41.996890Z",
     "iopub.status.idle": "2022-05-08T08:58:43.317223Z",
     "shell.execute_reply": "2022-05-08T08:58:43.316292Z"
    },
    "papermill": {
     "duration": 1.357782,
     "end_time": "2022-05-08T08:58:43.319837",
     "exception": false,
     "start_time": "2022-05-08T08:58:41.962055",
     "status": "completed"
    },
    "tags": []
   },
   "outputs": [],
   "source": [
    "import numpy as np\n",
    "import pandas as pd\n",
    "import matplotlib.pyplot as plt\n",
    "import seaborn as sns\n",
    "from sklearn.datasets import load_iris\n",
    "iris = load_iris()"
   ]
  },
  {
   "cell_type": "markdown",
   "id": "7653c69d",
   "metadata": {
    "papermill": {
     "duration": 0.03223,
     "end_time": "2022-05-08T08:58:43.385356",
     "exception": false,
     "start_time": "2022-05-08T08:58:43.353126",
     "status": "completed"
    },
    "tags": []
   },
   "source": [
    "**Look inside of iris**"
   ]
  },
  {
   "cell_type": "code",
   "execution_count": 2,
   "id": "98a45143",
   "metadata": {
    "execution": {
     "iopub.execute_input": "2022-05-08T08:58:43.451830Z",
     "iopub.status.busy": "2022-05-08T08:58:43.451525Z",
     "iopub.status.idle": "2022-05-08T08:58:43.459649Z",
     "shell.execute_reply": "2022-05-08T08:58:43.458738Z"
    },
    "papermill": {
     "duration": 0.044613,
     "end_time": "2022-05-08T08:58:43.462389",
     "exception": false,
     "start_time": "2022-05-08T08:58:43.417776",
     "status": "completed"
    },
    "tags": []
   },
   "outputs": [
    {
     "data": {
      "text/plain": [
       "['DESCR',\n",
       " 'data',\n",
       " 'data_module',\n",
       " 'feature_names',\n",
       " 'filename',\n",
       " 'frame',\n",
       " 'target',\n",
       " 'target_names']"
      ]
     },
     "execution_count": 2,
     "metadata": {},
     "output_type": "execute_result"
    }
   ],
   "source": [
    "dir(iris)"
   ]
  },
  {
   "cell_type": "markdown",
   "id": "3395545e",
   "metadata": {
    "papermill": {
     "duration": 0.03421,
     "end_time": "2022-05-08T08:58:43.530849",
     "exception": false,
     "start_time": "2022-05-08T08:58:43.496639",
     "status": "completed"
    },
    "tags": []
   },
   "source": [
    "# Dataset"
   ]
  },
  {
   "cell_type": "markdown",
   "id": "57c5a474",
   "metadata": {
    "papermill": {
     "duration": 0.032339,
     "end_time": "2022-05-08T08:58:43.596172",
     "exception": false,
     "start_time": "2022-05-08T08:58:43.563833",
     "status": "completed"
    },
    "tags": []
   },
   "source": [
    "**Pick feature_names**"
   ]
  },
  {
   "cell_type": "code",
   "execution_count": 3,
   "id": "bfaf76aa",
   "metadata": {
    "execution": {
     "iopub.execute_input": "2022-05-08T08:58:43.664830Z",
     "iopub.status.busy": "2022-05-08T08:58:43.664261Z",
     "iopub.status.idle": "2022-05-08T08:58:43.669548Z",
     "shell.execute_reply": "2022-05-08T08:58:43.668671Z"
    },
    "papermill": {
     "duration": 0.042696,
     "end_time": "2022-05-08T08:58:43.671463",
     "exception": false,
     "start_time": "2022-05-08T08:58:43.628767",
     "status": "completed"
    },
    "tags": []
   },
   "outputs": [
    {
     "data": {
      "text/plain": [
       "['sepal length (cm)',\n",
       " 'sepal width (cm)',\n",
       " 'petal length (cm)',\n",
       " 'petal width (cm)']"
      ]
     },
     "execution_count": 3,
     "metadata": {},
     "output_type": "execute_result"
    }
   ],
   "source": [
    "iris.feature_names"
   ]
  },
  {
   "cell_type": "code",
   "execution_count": 4,
   "id": "80614a34",
   "metadata": {
    "execution": {
     "iopub.execute_input": "2022-05-08T08:58:43.740061Z",
     "iopub.status.busy": "2022-05-08T08:58:43.739531Z",
     "iopub.status.idle": "2022-05-08T08:58:43.766637Z",
     "shell.execute_reply": "2022-05-08T08:58:43.766000Z"
    },
    "papermill": {
     "duration": 0.063427,
     "end_time": "2022-05-08T08:58:43.768534",
     "exception": false,
     "start_time": "2022-05-08T08:58:43.705107",
     "status": "completed"
    },
    "tags": []
   },
   "outputs": [
    {
     "data": {
      "text/html": [
       "<div>\n",
       "<style scoped>\n",
       "    .dataframe tbody tr th:only-of-type {\n",
       "        vertical-align: middle;\n",
       "    }\n",
       "\n",
       "    .dataframe tbody tr th {\n",
       "        vertical-align: top;\n",
       "    }\n",
       "\n",
       "    .dataframe thead th {\n",
       "        text-align: right;\n",
       "    }\n",
       "</style>\n",
       "<table border=\"1\" class=\"dataframe\">\n",
       "  <thead>\n",
       "    <tr style=\"text-align: right;\">\n",
       "      <th></th>\n",
       "      <th>sepal length (cm)</th>\n",
       "      <th>sepal width (cm)</th>\n",
       "      <th>petal length (cm)</th>\n",
       "      <th>petal width (cm)</th>\n",
       "    </tr>\n",
       "  </thead>\n",
       "  <tbody>\n",
       "    <tr>\n",
       "      <th>0</th>\n",
       "      <td>5.1</td>\n",
       "      <td>3.5</td>\n",
       "      <td>1.4</td>\n",
       "      <td>0.2</td>\n",
       "    </tr>\n",
       "    <tr>\n",
       "      <th>1</th>\n",
       "      <td>4.9</td>\n",
       "      <td>3.0</td>\n",
       "      <td>1.4</td>\n",
       "      <td>0.2</td>\n",
       "    </tr>\n",
       "    <tr>\n",
       "      <th>2</th>\n",
       "      <td>4.7</td>\n",
       "      <td>3.2</td>\n",
       "      <td>1.3</td>\n",
       "      <td>0.2</td>\n",
       "    </tr>\n",
       "    <tr>\n",
       "      <th>3</th>\n",
       "      <td>4.6</td>\n",
       "      <td>3.1</td>\n",
       "      <td>1.5</td>\n",
       "      <td>0.2</td>\n",
       "    </tr>\n",
       "    <tr>\n",
       "      <th>4</th>\n",
       "      <td>5.0</td>\n",
       "      <td>3.6</td>\n",
       "      <td>1.4</td>\n",
       "      <td>0.2</td>\n",
       "    </tr>\n",
       "    <tr>\n",
       "      <th>...</th>\n",
       "      <td>...</td>\n",
       "      <td>...</td>\n",
       "      <td>...</td>\n",
       "      <td>...</td>\n",
       "    </tr>\n",
       "    <tr>\n",
       "      <th>145</th>\n",
       "      <td>6.7</td>\n",
       "      <td>3.0</td>\n",
       "      <td>5.2</td>\n",
       "      <td>2.3</td>\n",
       "    </tr>\n",
       "    <tr>\n",
       "      <th>146</th>\n",
       "      <td>6.3</td>\n",
       "      <td>2.5</td>\n",
       "      <td>5.0</td>\n",
       "      <td>1.9</td>\n",
       "    </tr>\n",
       "    <tr>\n",
       "      <th>147</th>\n",
       "      <td>6.5</td>\n",
       "      <td>3.0</td>\n",
       "      <td>5.2</td>\n",
       "      <td>2.0</td>\n",
       "    </tr>\n",
       "    <tr>\n",
       "      <th>148</th>\n",
       "      <td>6.2</td>\n",
       "      <td>3.4</td>\n",
       "      <td>5.4</td>\n",
       "      <td>2.3</td>\n",
       "    </tr>\n",
       "    <tr>\n",
       "      <th>149</th>\n",
       "      <td>5.9</td>\n",
       "      <td>3.0</td>\n",
       "      <td>5.1</td>\n",
       "      <td>1.8</td>\n",
       "    </tr>\n",
       "  </tbody>\n",
       "</table>\n",
       "<p>150 rows × 4 columns</p>\n",
       "</div>"
      ],
      "text/plain": [
       "     sepal length (cm)  sepal width (cm)  petal length (cm)  petal width (cm)\n",
       "0                  5.1               3.5                1.4               0.2\n",
       "1                  4.9               3.0                1.4               0.2\n",
       "2                  4.7               3.2                1.3               0.2\n",
       "3                  4.6               3.1                1.5               0.2\n",
       "4                  5.0               3.6                1.4               0.2\n",
       "..                 ...               ...                ...               ...\n",
       "145                6.7               3.0                5.2               2.3\n",
       "146                6.3               2.5                5.0               1.9\n",
       "147                6.5               3.0                5.2               2.0\n",
       "148                6.2               3.4                5.4               2.3\n",
       "149                5.9               3.0                5.1               1.8\n",
       "\n",
       "[150 rows x 4 columns]"
      ]
     },
     "execution_count": 4,
     "metadata": {},
     "output_type": "execute_result"
    }
   ],
   "source": [
    "df = pd.DataFrame(iris.data,columns=iris.feature_names)\n",
    "df"
   ]
  },
  {
   "cell_type": "markdown",
   "id": "df48a689",
   "metadata": {
    "papermill": {
     "duration": 0.033402,
     "end_time": "2022-05-08T08:58:43.835756",
     "exception": false,
     "start_time": "2022-05-08T08:58:43.802354",
     "status": "completed"
    },
    "tags": []
   },
   "source": [
    "**Add Target on Dataframe**"
   ]
  },
  {
   "cell_type": "code",
   "execution_count": 5,
   "id": "b32b8f03",
   "metadata": {
    "execution": {
     "iopub.execute_input": "2022-05-08T08:58:43.906271Z",
     "iopub.status.busy": "2022-05-08T08:58:43.905945Z",
     "iopub.status.idle": "2022-05-08T08:58:43.923767Z",
     "shell.execute_reply": "2022-05-08T08:58:43.922874Z"
    },
    "papermill": {
     "duration": 0.055226,
     "end_time": "2022-05-08T08:58:43.925720",
     "exception": false,
     "start_time": "2022-05-08T08:58:43.870494",
     "status": "completed"
    },
    "tags": []
   },
   "outputs": [
    {
     "data": {
      "text/html": [
       "<div>\n",
       "<style scoped>\n",
       "    .dataframe tbody tr th:only-of-type {\n",
       "        vertical-align: middle;\n",
       "    }\n",
       "\n",
       "    .dataframe tbody tr th {\n",
       "        vertical-align: top;\n",
       "    }\n",
       "\n",
       "    .dataframe thead th {\n",
       "        text-align: right;\n",
       "    }\n",
       "</style>\n",
       "<table border=\"1\" class=\"dataframe\">\n",
       "  <thead>\n",
       "    <tr style=\"text-align: right;\">\n",
       "      <th></th>\n",
       "      <th>sepal length (cm)</th>\n",
       "      <th>sepal width (cm)</th>\n",
       "      <th>petal length (cm)</th>\n",
       "      <th>petal width (cm)</th>\n",
       "      <th>target</th>\n",
       "    </tr>\n",
       "  </thead>\n",
       "  <tbody>\n",
       "    <tr>\n",
       "      <th>0</th>\n",
       "      <td>5.1</td>\n",
       "      <td>3.5</td>\n",
       "      <td>1.4</td>\n",
       "      <td>0.2</td>\n",
       "      <td>0</td>\n",
       "    </tr>\n",
       "    <tr>\n",
       "      <th>1</th>\n",
       "      <td>4.9</td>\n",
       "      <td>3.0</td>\n",
       "      <td>1.4</td>\n",
       "      <td>0.2</td>\n",
       "      <td>0</td>\n",
       "    </tr>\n",
       "    <tr>\n",
       "      <th>2</th>\n",
       "      <td>4.7</td>\n",
       "      <td>3.2</td>\n",
       "      <td>1.3</td>\n",
       "      <td>0.2</td>\n",
       "      <td>0</td>\n",
       "    </tr>\n",
       "    <tr>\n",
       "      <th>3</th>\n",
       "      <td>4.6</td>\n",
       "      <td>3.1</td>\n",
       "      <td>1.5</td>\n",
       "      <td>0.2</td>\n",
       "      <td>0</td>\n",
       "    </tr>\n",
       "    <tr>\n",
       "      <th>4</th>\n",
       "      <td>5.0</td>\n",
       "      <td>3.6</td>\n",
       "      <td>1.4</td>\n",
       "      <td>0.2</td>\n",
       "      <td>0</td>\n",
       "    </tr>\n",
       "  </tbody>\n",
       "</table>\n",
       "</div>"
      ],
      "text/plain": [
       "   sepal length (cm)  sepal width (cm)  petal length (cm)  petal width (cm)  \\\n",
       "0                5.1               3.5                1.4               0.2   \n",
       "1                4.9               3.0                1.4               0.2   \n",
       "2                4.7               3.2                1.3               0.2   \n",
       "3                4.6               3.1                1.5               0.2   \n",
       "4                5.0               3.6                1.4               0.2   \n",
       "\n",
       "   target  \n",
       "0       0  \n",
       "1       0  \n",
       "2       0  \n",
       "3       0  \n",
       "4       0  "
      ]
     },
     "execution_count": 5,
     "metadata": {},
     "output_type": "execute_result"
    }
   ],
   "source": [
    "df['target'] = iris.target\n",
    "df.head()"
   ]
  },
  {
   "cell_type": "markdown",
   "id": "e08de9ec",
   "metadata": {
    "papermill": {
     "duration": 0.034236,
     "end_time": "2022-05-08T08:58:43.994333",
     "exception": false,
     "start_time": "2022-05-08T08:58:43.960097",
     "status": "completed"
    },
    "tags": []
   },
   "source": [
    "**Add target_names**"
   ]
  },
  {
   "cell_type": "code",
   "execution_count": 6,
   "id": "c735497c",
   "metadata": {
    "execution": {
     "iopub.execute_input": "2022-05-08T08:58:44.066195Z",
     "iopub.status.busy": "2022-05-08T08:58:44.065575Z",
     "iopub.status.idle": "2022-05-08T08:58:44.070974Z",
     "shell.execute_reply": "2022-05-08T08:58:44.070139Z"
    },
    "papermill": {
     "duration": 0.043584,
     "end_time": "2022-05-08T08:58:44.073113",
     "exception": false,
     "start_time": "2022-05-08T08:58:44.029529",
     "status": "completed"
    },
    "tags": []
   },
   "outputs": [
    {
     "data": {
      "text/plain": [
       "array(['setosa', 'versicolor', 'virginica'], dtype='<U10')"
      ]
     },
     "execution_count": 6,
     "metadata": {},
     "output_type": "execute_result"
    }
   ],
   "source": [
    "iris.target_names"
   ]
  },
  {
   "cell_type": "code",
   "execution_count": 7,
   "id": "415230fc",
   "metadata": {
    "execution": {
     "iopub.execute_input": "2022-05-08T08:58:44.144437Z",
     "iopub.status.busy": "2022-05-08T08:58:44.144110Z",
     "iopub.status.idle": "2022-05-08T08:58:44.164034Z",
     "shell.execute_reply": "2022-05-08T08:58:44.163329Z"
    },
    "papermill": {
     "duration": 0.05873,
     "end_time": "2022-05-08T08:58:44.166483",
     "exception": false,
     "start_time": "2022-05-08T08:58:44.107753",
     "status": "completed"
    },
    "tags": []
   },
   "outputs": [
    {
     "data": {
      "text/html": [
       "<div>\n",
       "<style scoped>\n",
       "    .dataframe tbody tr th:only-of-type {\n",
       "        vertical-align: middle;\n",
       "    }\n",
       "\n",
       "    .dataframe tbody tr th {\n",
       "        vertical-align: top;\n",
       "    }\n",
       "\n",
       "    .dataframe thead th {\n",
       "        text-align: right;\n",
       "    }\n",
       "</style>\n",
       "<table border=\"1\" class=\"dataframe\">\n",
       "  <thead>\n",
       "    <tr style=\"text-align: right;\">\n",
       "      <th></th>\n",
       "      <th>sepal length (cm)</th>\n",
       "      <th>sepal width (cm)</th>\n",
       "      <th>petal length (cm)</th>\n",
       "      <th>petal width (cm)</th>\n",
       "      <th>target</th>\n",
       "      <th>flower_name</th>\n",
       "    </tr>\n",
       "  </thead>\n",
       "  <tbody>\n",
       "    <tr>\n",
       "      <th>0</th>\n",
       "      <td>5.1</td>\n",
       "      <td>3.5</td>\n",
       "      <td>1.4</td>\n",
       "      <td>0.2</td>\n",
       "      <td>0</td>\n",
       "      <td>setosa</td>\n",
       "    </tr>\n",
       "    <tr>\n",
       "      <th>1</th>\n",
       "      <td>4.9</td>\n",
       "      <td>3.0</td>\n",
       "      <td>1.4</td>\n",
       "      <td>0.2</td>\n",
       "      <td>0</td>\n",
       "      <td>setosa</td>\n",
       "    </tr>\n",
       "    <tr>\n",
       "      <th>2</th>\n",
       "      <td>4.7</td>\n",
       "      <td>3.2</td>\n",
       "      <td>1.3</td>\n",
       "      <td>0.2</td>\n",
       "      <td>0</td>\n",
       "      <td>setosa</td>\n",
       "    </tr>\n",
       "    <tr>\n",
       "      <th>3</th>\n",
       "      <td>4.6</td>\n",
       "      <td>3.1</td>\n",
       "      <td>1.5</td>\n",
       "      <td>0.2</td>\n",
       "      <td>0</td>\n",
       "      <td>setosa</td>\n",
       "    </tr>\n",
       "    <tr>\n",
       "      <th>4</th>\n",
       "      <td>5.0</td>\n",
       "      <td>3.6</td>\n",
       "      <td>1.4</td>\n",
       "      <td>0.2</td>\n",
       "      <td>0</td>\n",
       "      <td>setosa</td>\n",
       "    </tr>\n",
       "    <tr>\n",
       "      <th>...</th>\n",
       "      <td>...</td>\n",
       "      <td>...</td>\n",
       "      <td>...</td>\n",
       "      <td>...</td>\n",
       "      <td>...</td>\n",
       "      <td>...</td>\n",
       "    </tr>\n",
       "    <tr>\n",
       "      <th>145</th>\n",
       "      <td>6.7</td>\n",
       "      <td>3.0</td>\n",
       "      <td>5.2</td>\n",
       "      <td>2.3</td>\n",
       "      <td>2</td>\n",
       "      <td>virginica</td>\n",
       "    </tr>\n",
       "    <tr>\n",
       "      <th>146</th>\n",
       "      <td>6.3</td>\n",
       "      <td>2.5</td>\n",
       "      <td>5.0</td>\n",
       "      <td>1.9</td>\n",
       "      <td>2</td>\n",
       "      <td>virginica</td>\n",
       "    </tr>\n",
       "    <tr>\n",
       "      <th>147</th>\n",
       "      <td>6.5</td>\n",
       "      <td>3.0</td>\n",
       "      <td>5.2</td>\n",
       "      <td>2.0</td>\n",
       "      <td>2</td>\n",
       "      <td>virginica</td>\n",
       "    </tr>\n",
       "    <tr>\n",
       "      <th>148</th>\n",
       "      <td>6.2</td>\n",
       "      <td>3.4</td>\n",
       "      <td>5.4</td>\n",
       "      <td>2.3</td>\n",
       "      <td>2</td>\n",
       "      <td>virginica</td>\n",
       "    </tr>\n",
       "    <tr>\n",
       "      <th>149</th>\n",
       "      <td>5.9</td>\n",
       "      <td>3.0</td>\n",
       "      <td>5.1</td>\n",
       "      <td>1.8</td>\n",
       "      <td>2</td>\n",
       "      <td>virginica</td>\n",
       "    </tr>\n",
       "  </tbody>\n",
       "</table>\n",
       "<p>150 rows × 6 columns</p>\n",
       "</div>"
      ],
      "text/plain": [
       "     sepal length (cm)  sepal width (cm)  petal length (cm)  petal width (cm)  \\\n",
       "0                  5.1               3.5                1.4               0.2   \n",
       "1                  4.9               3.0                1.4               0.2   \n",
       "2                  4.7               3.2                1.3               0.2   \n",
       "3                  4.6               3.1                1.5               0.2   \n",
       "4                  5.0               3.6                1.4               0.2   \n",
       "..                 ...               ...                ...               ...   \n",
       "145                6.7               3.0                5.2               2.3   \n",
       "146                6.3               2.5                5.0               1.9   \n",
       "147                6.5               3.0                5.2               2.0   \n",
       "148                6.2               3.4                5.4               2.3   \n",
       "149                5.9               3.0                5.1               1.8   \n",
       "\n",
       "     target flower_name  \n",
       "0         0      setosa  \n",
       "1         0      setosa  \n",
       "2         0      setosa  \n",
       "3         0      setosa  \n",
       "4         0      setosa  \n",
       "..      ...         ...  \n",
       "145       2   virginica  \n",
       "146       2   virginica  \n",
       "147       2   virginica  \n",
       "148       2   virginica  \n",
       "149       2   virginica  \n",
       "\n",
       "[150 rows x 6 columns]"
      ]
     },
     "execution_count": 7,
     "metadata": {},
     "output_type": "execute_result"
    }
   ],
   "source": [
    "df['flower_name'] =df.target.apply(lambda x: iris.target_names[x])\n",
    "df"
   ]
  },
  {
   "cell_type": "markdown",
   "id": "cd725ca2",
   "metadata": {
    "papermill": {
     "duration": 0.036424,
     "end_time": "2022-05-08T08:58:44.238202",
     "exception": false,
     "start_time": "2022-05-08T08:58:44.201778",
     "status": "completed"
    },
    "tags": []
   },
   "source": [
    "# Splitting Data"
   ]
  },
  {
   "cell_type": "code",
   "execution_count": 8,
   "id": "90a275fe",
   "metadata": {
    "execution": {
     "iopub.execute_input": "2022-05-08T08:58:44.312171Z",
     "iopub.status.busy": "2022-05-08T08:58:44.311510Z",
     "iopub.status.idle": "2022-05-08T08:58:44.371045Z",
     "shell.execute_reply": "2022-05-08T08:58:44.370058Z"
    },
    "papermill": {
     "duration": 0.099938,
     "end_time": "2022-05-08T08:58:44.373645",
     "exception": false,
     "start_time": "2022-05-08T08:58:44.273707",
     "status": "completed"
    },
    "tags": []
   },
   "outputs": [],
   "source": [
    "from sklearn.model_selection import train_test_split"
   ]
  },
  {
   "cell_type": "code",
   "execution_count": 9,
   "id": "497d7080",
   "metadata": {
    "execution": {
     "iopub.execute_input": "2022-05-08T08:58:44.447622Z",
     "iopub.status.busy": "2022-05-08T08:58:44.446976Z",
     "iopub.status.idle": "2022-05-08T08:58:44.455979Z",
     "shell.execute_reply": "2022-05-08T08:58:44.455310Z"
    },
    "papermill": {
     "duration": 0.047247,
     "end_time": "2022-05-08T08:58:44.457799",
     "exception": false,
     "start_time": "2022-05-08T08:58:44.410552",
     "status": "completed"
    },
    "tags": []
   },
   "outputs": [],
   "source": [
    "X = df.drop(['target','flower_name'], axis='columns')\n",
    "y = df.target"
   ]
  },
  {
   "cell_type": "code",
   "execution_count": 10,
   "id": "2d2a893b",
   "metadata": {
    "execution": {
     "iopub.execute_input": "2022-05-08T08:58:44.531874Z",
     "iopub.status.busy": "2022-05-08T08:58:44.531211Z",
     "iopub.status.idle": "2022-05-08T08:58:44.536697Z",
     "shell.execute_reply": "2022-05-08T08:58:44.536035Z"
    },
    "papermill": {
     "duration": 0.045094,
     "end_time": "2022-05-08T08:58:44.538660",
     "exception": false,
     "start_time": "2022-05-08T08:58:44.493566",
     "status": "completed"
    },
    "tags": []
   },
   "outputs": [],
   "source": [
    "X_train, X_test, y_train, y_test = train_test_split(X, y, test_size=0.1)"
   ]
  },
  {
   "cell_type": "markdown",
   "id": "4cdc2ade",
   "metadata": {
    "papermill": {
     "duration": 0.035265,
     "end_time": "2022-05-08T08:58:44.609415",
     "exception": false,
     "start_time": "2022-05-08T08:58:44.574150",
     "status": "completed"
    },
    "tags": []
   },
   "source": [
    "# Logistic Regression Model"
   ]
  },
  {
   "cell_type": "code",
   "execution_count": 11,
   "id": "74dcb3f5",
   "metadata": {
    "execution": {
     "iopub.execute_input": "2022-05-08T08:58:44.683140Z",
     "iopub.status.busy": "2022-05-08T08:58:44.682520Z",
     "iopub.status.idle": "2022-05-08T08:58:44.809996Z",
     "shell.execute_reply": "2022-05-08T08:58:44.808944Z"
    },
    "papermill": {
     "duration": 0.169169,
     "end_time": "2022-05-08T08:58:44.813715",
     "exception": false,
     "start_time": "2022-05-08T08:58:44.644546",
     "status": "completed"
    },
    "tags": []
   },
   "outputs": [
    {
     "name": "stdout",
     "output_type": "stream",
     "text": [
      "Test Accuracy 100.00%\n"
     ]
    },
    {
     "name": "stderr",
     "output_type": "stream",
     "text": [
      "/opt/conda/lib/python3.7/site-packages/sklearn/linear_model/_logistic.py:818: ConvergenceWarning: lbfgs failed to converge (status=1):\n",
      "STOP: TOTAL NO. of ITERATIONS REACHED LIMIT.\n",
      "\n",
      "Increase the number of iterations (max_iter) or scale the data as shown in:\n",
      "    https://scikit-learn.org/stable/modules/preprocessing.html\n",
      "Please also refer to the documentation for alternative solver options:\n",
      "    https://scikit-learn.org/stable/modules/linear_model.html#logistic-regression\n",
      "  extra_warning_msg=_LOGISTIC_SOLVER_CONVERGENCE_MSG,\n"
     ]
    }
   ],
   "source": [
    "from sklearn.linear_model import LogisticRegression\n",
    "modlrm = LogisticRegression()\n",
    "\n",
    "modlrm.fit(X_train, y_train)\n",
    "\n",
    "accuracies = {}\n",
    "acc = modlrm.score(X_test,y_test)*100\n",
    "\n",
    "accuracies['Logistic Regression'] = acc\n",
    "print(\"Test Accuracy {:.2f}%\".format(acc))"
   ]
  },
  {
   "cell_type": "code",
   "execution_count": 12,
   "id": "ff635e72",
   "metadata": {
    "execution": {
     "iopub.execute_input": "2022-05-08T08:58:44.887617Z",
     "iopub.status.busy": "2022-05-08T08:58:44.887305Z",
     "iopub.status.idle": "2022-05-08T08:58:44.897278Z",
     "shell.execute_reply": "2022-05-08T08:58:44.895934Z"
    },
    "papermill": {
     "duration": 0.049246,
     "end_time": "2022-05-08T08:58:44.899254",
     "exception": false,
     "start_time": "2022-05-08T08:58:44.850008",
     "status": "completed"
    },
    "tags": []
   },
   "outputs": [
    {
     "name": "stderr",
     "output_type": "stream",
     "text": [
      "/opt/conda/lib/python3.7/site-packages/sklearn/base.py:451: UserWarning: X does not have valid feature names, but LogisticRegression was fitted with feature names\n",
      "  \"X does not have valid feature names, but\"\n"
     ]
    },
    {
     "data": {
      "text/plain": [
       "array([0])"
      ]
     },
     "execution_count": 12,
     "metadata": {},
     "output_type": "execute_result"
    }
   ],
   "source": [
    "modlrm.predict([[4.8,3.0,1.5,0.3]])"
   ]
  },
  {
   "cell_type": "markdown",
   "id": "1fcc22c4",
   "metadata": {
    "papermill": {
     "duration": 0.036254,
     "end_time": "2022-05-08T08:58:44.972191",
     "exception": false,
     "start_time": "2022-05-08T08:58:44.935937",
     "status": "completed"
    },
    "tags": []
   },
   "source": [
    "# Support Vector Machine (SVM) Model"
   ]
  },
  {
   "cell_type": "code",
   "execution_count": 13,
   "id": "f6fba26c",
   "metadata": {
    "execution": {
     "iopub.execute_input": "2022-05-08T08:58:45.049039Z",
     "iopub.status.busy": "2022-05-08T08:58:45.048437Z",
     "iopub.status.idle": "2022-05-08T08:58:45.060728Z",
     "shell.execute_reply": "2022-05-08T08:58:45.059535Z"
    },
    "papermill": {
     "duration": 0.053791,
     "end_time": "2022-05-08T08:58:45.063610",
     "exception": false,
     "start_time": "2022-05-08T08:58:45.009819",
     "status": "completed"
    },
    "tags": []
   },
   "outputs": [
    {
     "name": "stdout",
     "output_type": "stream",
     "text": [
      "Test Accuracy of SVM : 100.00%\n"
     ]
    }
   ],
   "source": [
    "from sklearn.svm import SVC\n",
    "modsvm = SVC()\n",
    "\n",
    "# SVC() = {‘linear’, ‘poly’, ‘rbf’, ‘sigmoid’, ‘precomputed’} or callable, default=’rbf’\n",
    "# use one to diffrent score\n",
    "\n",
    "modsvm.fit(X_train, y_train)\n",
    "\n",
    "acc = modsvm.score(X_test,y_test)*100\n",
    "accuracies['Support Vector Machine'] = acc\n",
    "print(\"Test Accuracy of SVM : {:.2f}%\".format(acc))"
   ]
  },
  {
   "cell_type": "code",
   "execution_count": 14,
   "id": "93bb3e22",
   "metadata": {
    "execution": {
     "iopub.execute_input": "2022-05-08T08:58:45.140558Z",
     "iopub.status.busy": "2022-05-08T08:58:45.140281Z",
     "iopub.status.idle": "2022-05-08T08:58:45.148208Z",
     "shell.execute_reply": "2022-05-08T08:58:45.147269Z"
    },
    "papermill": {
     "duration": 0.048469,
     "end_time": "2022-05-08T08:58:45.150477",
     "exception": false,
     "start_time": "2022-05-08T08:58:45.102008",
     "status": "completed"
    },
    "tags": []
   },
   "outputs": [
    {
     "name": "stderr",
     "output_type": "stream",
     "text": [
      "/opt/conda/lib/python3.7/site-packages/sklearn/base.py:451: UserWarning: X does not have valid feature names, but SVC was fitted with feature names\n",
      "  \"X does not have valid feature names, but\"\n"
     ]
    },
    {
     "data": {
      "text/plain": [
       "array([0])"
      ]
     },
     "execution_count": 14,
     "metadata": {},
     "output_type": "execute_result"
    }
   ],
   "source": [
    "modsvm.predict([[4.8,3.0,1.5,0.3]])"
   ]
  },
  {
   "cell_type": "markdown",
   "id": "150fabc2",
   "metadata": {
    "papermill": {
     "duration": 0.038032,
     "end_time": "2022-05-08T08:58:45.226449",
     "exception": false,
     "start_time": "2022-05-08T08:58:45.188417",
     "status": "completed"
    },
    "tags": []
   },
   "source": [
    "# Decision Tree Model"
   ]
  },
  {
   "cell_type": "code",
   "execution_count": 15,
   "id": "c98202ed",
   "metadata": {
    "execution": {
     "iopub.execute_input": "2022-05-08T08:58:45.304109Z",
     "iopub.status.busy": "2022-05-08T08:58:45.303513Z",
     "iopub.status.idle": "2022-05-08T08:58:45.392780Z",
     "shell.execute_reply": "2022-05-08T08:58:45.392031Z"
    },
    "papermill": {
     "duration": 0.131522,
     "end_time": "2022-05-08T08:58:45.395965",
     "exception": false,
     "start_time": "2022-05-08T08:58:45.264443",
     "status": "completed"
    },
    "tags": []
   },
   "outputs": [
    {
     "name": "stdout",
     "output_type": "stream",
     "text": [
      "Decision Tree Test Accuracy 100.00%\n"
     ]
    }
   ],
   "source": [
    "from sklearn import tree\n",
    "moddt = tree.DecisionTreeClassifier()\n",
    "moddt.fit(X_train, y_train)\n",
    "\n",
    "acc = moddt.score(X_test, y_test)*100\n",
    "accuracies['Decision Tree'] = acc\n",
    "print(\"Decision Tree Test Accuracy {:.2f}%\".format(acc))"
   ]
  },
  {
   "cell_type": "code",
   "execution_count": 16,
   "id": "147c6a22",
   "metadata": {
    "execution": {
     "iopub.execute_input": "2022-05-08T08:58:45.476331Z",
     "iopub.status.busy": "2022-05-08T08:58:45.475716Z",
     "iopub.status.idle": "2022-05-08T08:58:45.484698Z",
     "shell.execute_reply": "2022-05-08T08:58:45.483097Z"
    },
    "papermill": {
     "duration": 0.051348,
     "end_time": "2022-05-08T08:58:45.486773",
     "exception": false,
     "start_time": "2022-05-08T08:58:45.435425",
     "status": "completed"
    },
    "tags": []
   },
   "outputs": [
    {
     "name": "stderr",
     "output_type": "stream",
     "text": [
      "/opt/conda/lib/python3.7/site-packages/sklearn/base.py:451: UserWarning: X does not have valid feature names, but DecisionTreeClassifier was fitted with feature names\n",
      "  \"X does not have valid feature names, but\"\n"
     ]
    },
    {
     "data": {
      "text/plain": [
       "array([0])"
      ]
     },
     "execution_count": 16,
     "metadata": {},
     "output_type": "execute_result"
    }
   ],
   "source": [
    "moddt.predict([[4.8,3.0,1.5,0.3]])"
   ]
  },
  {
   "cell_type": "markdown",
   "id": "49ce9a9a",
   "metadata": {
    "papermill": {
     "duration": 0.041368,
     "end_time": "2022-05-08T08:58:45.567892",
     "exception": false,
     "start_time": "2022-05-08T08:58:45.526524",
     "status": "completed"
    },
    "tags": []
   },
   "source": [
    "# Random Forest Model"
   ]
  },
  {
   "cell_type": "code",
   "execution_count": 17,
   "id": "9ca6ea1a",
   "metadata": {
    "execution": {
     "iopub.execute_input": "2022-05-08T08:58:45.651541Z",
     "iopub.status.busy": "2022-05-08T08:58:45.651214Z",
     "iopub.status.idle": "2022-05-08T08:58:45.916187Z",
     "shell.execute_reply": "2022-05-08T08:58:45.914762Z"
    },
    "papermill": {
     "duration": 0.308136,
     "end_time": "2022-05-08T08:58:45.918677",
     "exception": false,
     "start_time": "2022-05-08T08:58:45.610541",
     "status": "completed"
    },
    "tags": []
   },
   "outputs": [
    {
     "name": "stdout",
     "output_type": "stream",
     "text": [
      "Random Forest Test Accuracy 100.00%\n"
     ]
    }
   ],
   "source": [
    "from sklearn.ensemble import RandomForestClassifier\n",
    "modrf = RandomForestClassifier()\n",
    "modrf.fit(X_train, y_train)\n",
    "modrf.score(X_test, y_test)\n",
    "\n",
    "acc = modrf.score(X_test, y_test)*100\n",
    "accuracies['Random Forest'] = acc\n",
    "print(\"Random Forest Test Accuracy {:.2f}%\".format(acc))"
   ]
  },
  {
   "cell_type": "code",
   "execution_count": 18,
   "id": "3ee1dbae",
   "metadata": {
    "execution": {
     "iopub.execute_input": "2022-05-08T08:58:46.000881Z",
     "iopub.status.busy": "2022-05-08T08:58:46.000590Z",
     "iopub.status.idle": "2022-05-08T08:58:46.020158Z",
     "shell.execute_reply": "2022-05-08T08:58:46.019152Z"
    },
    "papermill": {
     "duration": 0.063968,
     "end_time": "2022-05-08T08:58:46.022580",
     "exception": false,
     "start_time": "2022-05-08T08:58:45.958612",
     "status": "completed"
    },
    "tags": []
   },
   "outputs": [
    {
     "name": "stderr",
     "output_type": "stream",
     "text": [
      "/opt/conda/lib/python3.7/site-packages/sklearn/base.py:451: UserWarning: X does not have valid feature names, but RandomForestClassifier was fitted with feature names\n",
      "  \"X does not have valid feature names, but\"\n"
     ]
    },
    {
     "data": {
      "text/plain": [
       "array([0])"
      ]
     },
     "execution_count": 18,
     "metadata": {},
     "output_type": "execute_result"
    }
   ],
   "source": [
    "modrf.predict([[4.8,3.0,1.5,0.3]])"
   ]
  },
  {
   "cell_type": "markdown",
   "id": "a9c6fd4e",
   "metadata": {
    "papermill": {
     "duration": 0.039578,
     "end_time": "2022-05-08T08:58:46.101885",
     "exception": false,
     "start_time": "2022-05-08T08:58:46.062307",
     "status": "completed"
    },
    "tags": []
   },
   "source": [
    "# Naive Bayes"
   ]
  },
  {
   "cell_type": "code",
   "execution_count": 19,
   "id": "343194c4",
   "metadata": {
    "execution": {
     "iopub.execute_input": "2022-05-08T08:58:46.183699Z",
     "iopub.status.busy": "2022-05-08T08:58:46.183135Z",
     "iopub.status.idle": "2022-05-08T08:58:46.198637Z",
     "shell.execute_reply": "2022-05-08T08:58:46.197607Z"
    },
    "papermill": {
     "duration": 0.058984,
     "end_time": "2022-05-08T08:58:46.200990",
     "exception": false,
     "start_time": "2022-05-08T08:58:46.142006",
     "status": "completed"
    },
    "tags": []
   },
   "outputs": [
    {
     "name": "stdout",
     "output_type": "stream",
     "text": [
      "Naive Bayes Test Accuracy 100.00%\n"
     ]
    }
   ],
   "source": [
    "from sklearn.naive_bayes import GaussianNB\n",
    "modnb = GaussianNB()\n",
    "modnb.fit(X_train,y_train)\n",
    "modnb.score(X_test,y_test)\n",
    "\n",
    "acc = modnb.score(X_test, y_test)*100\n",
    "accuracies['Naive Bayes'] = acc\n",
    "print(\"Naive Bayes Test Accuracy {:.2f}%\".format(acc))"
   ]
  },
  {
   "cell_type": "code",
   "execution_count": 20,
   "id": "6fbffda1",
   "metadata": {
    "execution": {
     "iopub.execute_input": "2022-05-08T08:58:46.284601Z",
     "iopub.status.busy": "2022-05-08T08:58:46.284131Z",
     "iopub.status.idle": "2022-05-08T08:58:46.292136Z",
     "shell.execute_reply": "2022-05-08T08:58:46.290963Z"
    },
    "papermill": {
     "duration": 0.052422,
     "end_time": "2022-05-08T08:58:46.294610",
     "exception": false,
     "start_time": "2022-05-08T08:58:46.242188",
     "status": "completed"
    },
    "tags": []
   },
   "outputs": [
    {
     "name": "stderr",
     "output_type": "stream",
     "text": [
      "/opt/conda/lib/python3.7/site-packages/sklearn/base.py:451: UserWarning: X does not have valid feature names, but GaussianNB was fitted with feature names\n",
      "  \"X does not have valid feature names, but\"\n"
     ]
    },
    {
     "data": {
      "text/plain": [
       "array([0])"
      ]
     },
     "execution_count": 20,
     "metadata": {},
     "output_type": "execute_result"
    }
   ],
   "source": [
    "modnb.predict([[4.8,3.0,1.5,0.3]])"
   ]
  },
  {
   "cell_type": "markdown",
   "id": "7cd64fc0",
   "metadata": {
    "papermill": {
     "duration": 0.041576,
     "end_time": "2022-05-08T08:58:46.377926",
     "exception": false,
     "start_time": "2022-05-08T08:58:46.336350",
     "status": "completed"
    },
    "tags": []
   },
   "source": [
    "# Comparing Model"
   ]
  },
  {
   "cell_type": "code",
   "execution_count": 21,
   "id": "dcff5234",
   "metadata": {
    "execution": {
     "iopub.execute_input": "2022-05-08T08:58:46.464197Z",
     "iopub.status.busy": "2022-05-08T08:58:46.463559Z",
     "iopub.status.idle": "2022-05-08T08:58:46.710415Z",
     "shell.execute_reply": "2022-05-08T08:58:46.709463Z"
    },
    "papermill": {
     "duration": 0.292626,
     "end_time": "2022-05-08T08:58:46.713841",
     "exception": false,
     "start_time": "2022-05-08T08:58:46.421215",
     "status": "completed"
    },
    "tags": []
   },
   "outputs": [
    {
     "data": {
      "image/png": "[encoded data removed]",
      "text/plain": [
       "<Figure size 1152x360 with 1 Axes>"
      ]
     },
     "metadata": {},
     "output_type": "display_data"
    }
   ],
   "source": [
    "colors = [\"red\", \"green\", \"orange\", \"blue\", \"black\"]\n",
    "\n",
    "sns.set_style(\"whitegrid\")\n",
    "plt.figure(figsize=(16,5))\n",
    "plt.yticks(np.arange(0,100,10))\n",
    "plt.ylabel(\"Accuracy %\")\n",
    "plt.xlabel(\"Model\", size=18)\n",
    "sns.barplot(x=list(accuracies.keys()), y=list(accuracies.values()), palette=colors)\n",
    "plt.show()"
   ]
  },
  {
   "cell_type": "markdown",
   "id": "fb02ec87",
   "metadata": {
    "papermill": {
     "duration": 0.042628,
     "end_time": "2022-05-08T08:58:46.800291",
     "exception": false,
     "start_time": "2022-05-08T08:58:46.757663",
     "status": "completed"
    },
    "tags": []
   },
   "source": [
    "# Confusion Matrix"
   ]
  },
  {
   "cell_type": "code",
   "execution_count": 22,
   "id": "5a1a5850",
   "metadata": {
    "execution": {
     "iopub.execute_input": "2022-05-08T08:58:46.887423Z",
     "iopub.status.busy": "2022-05-08T08:58:46.886857Z",
     "iopub.status.idle": "2022-05-08T08:58:46.911289Z",
     "shell.execute_reply": "2022-05-08T08:58:46.910522Z"
    },
    "papermill": {
     "duration": 0.070947,
     "end_time": "2022-05-08T08:58:46.913454",
     "exception": false,
     "start_time": "2022-05-08T08:58:46.842507",
     "status": "completed"
    },
    "tags": []
   },
   "outputs": [],
   "source": [
    "y_pred_modlrm = modlrm.predict(X_test)\n",
    "y_pred_modsvm = modsvm.predict(X_test)\n",
    "y_pred_moddt = moddt.predict(X_test)\n",
    "y_pred_modrf = modrf.predict(X_test)\n",
    "y_pred_modnb = modnb.predict(X_test)"
   ]
  },
  {
   "cell_type": "code",
   "execution_count": 23,
   "id": "6ba54f4e",
   "metadata": {
    "execution": {
     "iopub.execute_input": "2022-05-08T08:58:46.999776Z",
     "iopub.status.busy": "2022-05-08T08:58:46.999267Z",
     "iopub.status.idle": "2022-05-08T08:58:47.008385Z",
     "shell.execute_reply": "2022-05-08T08:58:47.007735Z"
    },
    "papermill": {
     "duration": 0.054677,
     "end_time": "2022-05-08T08:58:47.010377",
     "exception": false,
     "start_time": "2022-05-08T08:58:46.955700",
     "status": "completed"
    },
    "tags": []
   },
   "outputs": [],
   "source": [
    "from sklearn.metrics import confusion_matrix\n",
    "cm_modlrm = confusion_matrix(y_test, y_pred_modlrm)\n",
    "cm_modsvm = confusion_matrix(y_test, y_pred_modsvm)\n",
    "cm_moddt = confusion_matrix(y_test, y_pred_moddt)\n",
    "cm_modrf = confusion_matrix(y_test, y_pred_modrf)\n",
    "cm_modnb = confusion_matrix(y_test, y_pred_modnb)"
   ]
  },
  {
   "cell_type": "code",
   "execution_count": 24,
   "id": "60a25431",
   "metadata": {
    "execution": {
     "iopub.execute_input": "2022-05-08T08:58:47.096864Z",
     "iopub.status.busy": "2022-05-08T08:58:47.096333Z",
     "iopub.status.idle": "2022-05-08T08:58:47.844336Z",
     "shell.execute_reply": "2022-05-08T08:58:47.843722Z"
    },
    "papermill": {
     "duration": 0.79354,
     "end_time": "2022-05-08T08:58:47.846106",
     "exception": false,
     "start_time": "2022-05-08T08:58:47.052566",
     "status": "completed"
    },
    "tags": []
   },
   "outputs": [
    {
     "data": {
      "image/png": "[encoded data removed]",
      "text/plain": [
       "<Figure size 1296x864 with 5 Axes>"
      ]
     },
     "metadata": {},
     "output_type": "display_data"
    }
   ],
   "source": [
    "plt.figure(figsize=(18,12))\n",
    "\n",
    "plt.suptitle(\"Confusion Matrixes\",fontsize=24)\n",
    "\n",
    "\n",
    "plt.subplot(2,3,1)\n",
    "plt.title(\"Logistic Regression Classifier\")\n",
    "sns.heatmap(cm_modlrm,annot=True,cmap=\"Blues\",fmt=\"d\",cbar=False, annot_kws={\"size\": 24})\n",
    "\n",
    "plt.subplot(2,3,2)\n",
    "plt.title(\"Support Vector Machine Classifier\")\n",
    "sns.heatmap(cm_modsvm,annot=True,cmap=\"Blues\",fmt=\"d\",cbar=False, annot_kws={\"size\": 24})\n",
    "\n",
    "plt.subplot(2,3,3)\n",
    "plt.title(\"Decision Tree Classifier\")\n",
    "sns.heatmap(cm_moddt,annot=True,cmap=\"Blues\",fmt=\"d\",cbar=False, annot_kws={\"size\": 24})\n",
    "\n",
    "plt.subplot(2,3,4)\n",
    "plt.title(\"Random Forest Classifier\")\n",
    "sns.heatmap(cm_modrf,annot=True,cmap=\"Blues\",fmt=\"d\",cbar=False, annot_kws={\"size\": 24})\n",
    "\n",
    "plt.subplot(2,3,5)\n",
    "plt.title(\"Naive Bayes Classifier\")\n",
    "sns.heatmap(cm_modnb,annot=True,cmap=\"Blues\",fmt=\"d\",cbar=False, annot_kws={\"size\": 24})\n",
    "\n",
    "plt.show()"
   ]
  }
 ],
 "metadata": {
  "kernelspec": {
   "display_name": "Python 3",
   "language": "python",
   "name": "python3"
  },
  "language_info": {
   "codemirror_mode": {
    "name": "ipython",
    "version": 3
   },
   "file_extension": ".py",
   "mimetype": "text/x-python",
   "name": "python",
   "nbconvert_exporter": "python",
   "pygments_lexer": "ipython3",
   "version": "3.7.12"
  },
  "papermill": {
   "default_parameters": {},
   "duration": 17.361716,
   "end_time": "2022-05-08T08:58:48.712805",
   "environment_variables": {},
   "exception": null,
   "input_path": "__notebook__.ipynb",
   "output_path": "__notebook__.ipynb",
   "parameters": {},
   "start_time": "2022-05-08T08:58:31.351089",
   "version": "2.3.4"
  }
 },
 "nbformat": 4,
 "nbformat_minor": 5
}
