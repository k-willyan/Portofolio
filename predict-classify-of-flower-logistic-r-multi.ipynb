{
 "cells": [
  {
   "cell_type": "markdown",
   "id": "2c208b90",
   "metadata": {
    "papermill": {
     "duration": 0.031592,
     "end_time": "2022-05-08T04:22:33.282500",
     "exception": false,
     "start_time": "2022-05-08T04:22:33.250908",
     "status": "completed"
    },
    "tags": []
   },
   "source": [
    "# Import Libraries"
   ]
  },
  {
   "cell_type": "code",
   "execution_count": 1,
   "id": "4b65baf5",
   "metadata": {
    "_cell_guid": "b1076dfc-b9ad-4769-8c92-a6c4dae69d19",
    "_uuid": "8f2839f25d086af736a60e9eeb907d3b93b6e0e5",
    "execution": {
     "iopub.execute_input": "2022-05-08T04:22:33.344418Z",
     "iopub.status.busy": "2022-05-08T04:22:33.344111Z",
     "iopub.status.idle": "2022-05-08T04:22:34.671738Z",
     "shell.execute_reply": "2022-05-08T04:22:34.670856Z"
    },
    "papermill": {
     "duration": 1.361672,
     "end_time": "2022-05-08T04:22:34.674263",
     "exception": false,
     "start_time": "2022-05-08T04:22:33.312591",
     "status": "completed"
    },
    "tags": []
   },
   "outputs": [],
   "source": [
    "import numpy as np\n",
    "import pandas as pd\n",
    "import matplotlib.pyplot as plt\n",
    "import seaborn as sns\n",
    "from sklearn.datasets import load_iris\n",
    "iris = load_iris()"
   ]
  },
  {
   "cell_type": "markdown",
   "id": "bb9d0386",
   "metadata": {
    "papermill": {
     "duration": 0.029794,
     "end_time": "2022-05-08T04:22:34.734934",
     "exception": false,
     "start_time": "2022-05-08T04:22:34.705140",
     "status": "completed"
    },
    "tags": []
   },
   "source": [
    "**Look inside of iris**"
   ]
  },
  {
   "cell_type": "code",
   "execution_count": 2,
   "id": "9dcd7c8d",
   "metadata": {
    "execution": {
     "iopub.execute_input": "2022-05-08T04:22:34.799203Z",
     "iopub.status.busy": "2022-05-08T04:22:34.798654Z",
     "iopub.status.idle": "2022-05-08T04:22:34.806194Z",
     "shell.execute_reply": "2022-05-08T04:22:34.805363Z"
    },
    "papermill": {
     "duration": 0.041343,
     "end_time": "2022-05-08T04:22:34.808029",
     "exception": false,
     "start_time": "2022-05-08T04:22:34.766686",
     "status": "completed"
    },
    "tags": []
   },
   "outputs": [
    {
     "data": {
      "text/plain": [
       "['DESCR',\n",
       " 'data',\n",
       " 'data_module',\n",
       " 'feature_names',\n",
       " 'filename',\n",
       " 'frame',\n",
       " 'target',\n",
       " 'target_names']"
      ]
     },
     "execution_count": 2,
     "metadata": {},
     "output_type": "execute_result"
    }
   ],
   "source": [
    "dir(iris)"
   ]
  },
  {
   "cell_type": "markdown",
   "id": "962dabe2",
   "metadata": {
    "papermill": {
     "duration": 0.030745,
     "end_time": "2022-05-08T04:22:34.869911",
     "exception": false,
     "start_time": "2022-05-08T04:22:34.839166",
     "status": "completed"
    },
    "tags": []
   },
   "source": [
    "# Dataset"
   ]
  },
  {
   "cell_type": "markdown",
   "id": "462d61d1",
   "metadata": {
    "papermill": {
     "duration": 0.032175,
     "end_time": "2022-05-08T04:22:34.933772",
     "exception": false,
     "start_time": "2022-05-08T04:22:34.901597",
     "status": "completed"
    },
    "tags": []
   },
   "source": [
    "**Pick feature_names**"
   ]
  },
  {
   "cell_type": "code",
   "execution_count": 3,
   "id": "0db4d842",
   "metadata": {
    "execution": {
     "iopub.execute_input": "2022-05-08T04:22:34.997078Z",
     "iopub.status.busy": "2022-05-08T04:22:34.996554Z",
     "iopub.status.idle": "2022-05-08T04:22:35.002064Z",
     "shell.execute_reply": "2022-05-08T04:22:35.000867Z"
    },
    "papermill": {
     "duration": 0.039717,
     "end_time": "2022-05-08T04:22:35.003930",
     "exception": false,
     "start_time": "2022-05-08T04:22:34.964213",
     "status": "completed"
    },
    "tags": []
   },
   "outputs": [
    {
     "data": {
      "text/plain": [
       "['sepal length (cm)',\n",
       " 'sepal width (cm)',\n",
       " 'petal length (cm)',\n",
       " 'petal width (cm)']"
      ]
     },
     "execution_count": 3,
     "metadata": {},
     "output_type": "execute_result"
    }
   ],
   "source": [
    "iris.feature_names"
   ]
  },
  {
   "cell_type": "code",
   "execution_count": 4,
   "id": "6cf90c02",
   "metadata": {
    "execution": {
     "iopub.execute_input": "2022-05-08T04:22:35.068923Z",
     "iopub.status.busy": "2022-05-08T04:22:35.068400Z",
     "iopub.status.idle": "2022-05-08T04:22:35.095410Z",
     "shell.execute_reply": "2022-05-08T04:22:35.094473Z"
    },
    "papermill": {
     "duration": 0.061784,
     "end_time": "2022-05-08T04:22:35.097500",
     "exception": false,
     "start_time": "2022-05-08T04:22:35.035716",
     "status": "completed"
    },
    "tags": []
   },
   "outputs": [
    {
     "data": {
      "text/html": [
       "<div>\n",
       "<style scoped>\n",
       "    .dataframe tbody tr th:only-of-type {\n",
       "        vertical-align: middle;\n",
       "    }\n",
       "\n",
       "    .dataframe tbody tr th {\n",
       "        vertical-align: top;\n",
       "    }\n",
       "\n",
       "    .dataframe thead th {\n",
       "        text-align: right;\n",
       "    }\n",
       "</style>\n",
       "<table border=\"1\" class=\"dataframe\">\n",
       "  <thead>\n",
       "    <tr style=\"text-align: right;\">\n",
       "      <th></th>\n",
       "      <th>sepal length (cm)</th>\n",
       "      <th>sepal width (cm)</th>\n",
       "      <th>petal length (cm)</th>\n",
       "      <th>petal width (cm)</th>\n",
       "    </tr>\n",
       "  </thead>\n",
       "  <tbody>\n",
       "    <tr>\n",
       "      <th>0</th>\n",
       "      <td>5.1</td>\n",
       "      <td>3.5</td>\n",
       "      <td>1.4</td>\n",
       "      <td>0.2</td>\n",
       "    </tr>\n",
       "    <tr>\n",
       "      <th>1</th>\n",
       "      <td>4.9</td>\n",
       "      <td>3.0</td>\n",
       "      <td>1.4</td>\n",
       "      <td>0.2</td>\n",
       "    </tr>\n",
       "    <tr>\n",
       "      <th>2</th>\n",
       "      <td>4.7</td>\n",
       "      <td>3.2</td>\n",
       "      <td>1.3</td>\n",
       "      <td>0.2</td>\n",
       "    </tr>\n",
       "    <tr>\n",
       "      <th>3</th>\n",
       "      <td>4.6</td>\n",
       "      <td>3.1</td>\n",
       "      <td>1.5</td>\n",
       "      <td>0.2</td>\n",
       "    </tr>\n",
       "    <tr>\n",
       "      <th>4</th>\n",
       "      <td>5.0</td>\n",
       "      <td>3.6</td>\n",
       "      <td>1.4</td>\n",
       "      <td>0.2</td>\n",
       "    </tr>\n",
       "    <tr>\n",
       "      <th>...</th>\n",
       "      <td>...</td>\n",
       "      <td>...</td>\n",
       "      <td>...</td>\n",
       "      <td>...</td>\n",
       "    </tr>\n",
       "    <tr>\n",
       "      <th>145</th>\n",
       "      <td>6.7</td>\n",
       "      <td>3.0</td>\n",
       "      <td>5.2</td>\n",
       "      <td>2.3</td>\n",
       "    </tr>\n",
       "    <tr>\n",
       "      <th>146</th>\n",
       "      <td>6.3</td>\n",
       "      <td>2.5</td>\n",
       "      <td>5.0</td>\n",
       "      <td>1.9</td>\n",
       "    </tr>\n",
       "    <tr>\n",
       "      <th>147</th>\n",
       "      <td>6.5</td>\n",
       "      <td>3.0</td>\n",
       "      <td>5.2</td>\n",
       "      <td>2.0</td>\n",
       "    </tr>\n",
       "    <tr>\n",
       "      <th>148</th>\n",
       "      <td>6.2</td>\n",
       "      <td>3.4</td>\n",
       "      <td>5.4</td>\n",
       "      <td>2.3</td>\n",
       "    </tr>\n",
       "    <tr>\n",
       "      <th>149</th>\n",
       "      <td>5.9</td>\n",
       "      <td>3.0</td>\n",
       "      <td>5.1</td>\n",
       "      <td>1.8</td>\n",
       "    </tr>\n",
       "  </tbody>\n",
       "</table>\n",
       "<p>150 rows × 4 columns</p>\n",
       "</div>"
      ],
      "text/plain": [
       "     sepal length (cm)  sepal width (cm)  petal length (cm)  petal width (cm)\n",
       "0                  5.1               3.5                1.4               0.2\n",
       "1                  4.9               3.0                1.4               0.2\n",
       "2                  4.7               3.2                1.3               0.2\n",
       "3                  4.6               3.1                1.5               0.2\n",
       "4                  5.0               3.6                1.4               0.2\n",
       "..                 ...               ...                ...               ...\n",
       "145                6.7               3.0                5.2               2.3\n",
       "146                6.3               2.5                5.0               1.9\n",
       "147                6.5               3.0                5.2               2.0\n",
       "148                6.2               3.4                5.4               2.3\n",
       "149                5.9               3.0                5.1               1.8\n",
       "\n",
       "[150 rows x 4 columns]"
      ]
     },
     "execution_count": 4,
     "metadata": {},
     "output_type": "execute_result"
    }
   ],
   "source": [
    "df = pd.DataFrame(iris.data,columns=iris.feature_names)\n",
    "df"
   ]
  },
  {
   "cell_type": "markdown",
   "id": "a7e9dd88",
   "metadata": {
    "papermill": {
     "duration": 0.031702,
     "end_time": "2022-05-08T04:22:35.161320",
     "exception": false,
     "start_time": "2022-05-08T04:22:35.129618",
     "status": "completed"
    },
    "tags": []
   },
   "source": [
    "**Add Target on Dataframe**"
   ]
  },
  {
   "cell_type": "code",
   "execution_count": 5,
   "id": "4ad54a47",
   "metadata": {
    "execution": {
     "iopub.execute_input": "2022-05-08T04:22:35.226936Z",
     "iopub.status.busy": "2022-05-08T04:22:35.226388Z",
     "iopub.status.idle": "2022-05-08T04:22:35.243638Z",
     "shell.execute_reply": "2022-05-08T04:22:35.242992Z"
    },
    "papermill": {
     "duration": 0.052313,
     "end_time": "2022-05-08T04:22:35.245523",
     "exception": false,
     "start_time": "2022-05-08T04:22:35.193210",
     "status": "completed"
    },
    "tags": []
   },
   "outputs": [
    {
     "data": {
      "text/html": [
       "<div>\n",
       "<style scoped>\n",
       "    .dataframe tbody tr th:only-of-type {\n",
       "        vertical-align: middle;\n",
       "    }\n",
       "\n",
       "    .dataframe tbody tr th {\n",
       "        vertical-align: top;\n",
       "    }\n",
       "\n",
       "    .dataframe thead th {\n",
       "        text-align: right;\n",
       "    }\n",
       "</style>\n",
       "<table border=\"1\" class=\"dataframe\">\n",
       "  <thead>\n",
       "    <tr style=\"text-align: right;\">\n",
       "      <th></th>\n",
       "      <th>sepal length (cm)</th>\n",
       "      <th>sepal width (cm)</th>\n",
       "      <th>petal length (cm)</th>\n",
       "      <th>petal width (cm)</th>\n",
       "      <th>target</th>\n",
       "    </tr>\n",
       "  </thead>\n",
       "  <tbody>\n",
       "    <tr>\n",
       "      <th>0</th>\n",
       "      <td>5.1</td>\n",
       "      <td>3.5</td>\n",
       "      <td>1.4</td>\n",
       "      <td>0.2</td>\n",
       "      <td>0</td>\n",
       "    </tr>\n",
       "    <tr>\n",
       "      <th>1</th>\n",
       "      <td>4.9</td>\n",
       "      <td>3.0</td>\n",
       "      <td>1.4</td>\n",
       "      <td>0.2</td>\n",
       "      <td>0</td>\n",
       "    </tr>\n",
       "    <tr>\n",
       "      <th>2</th>\n",
       "      <td>4.7</td>\n",
       "      <td>3.2</td>\n",
       "      <td>1.3</td>\n",
       "      <td>0.2</td>\n",
       "      <td>0</td>\n",
       "    </tr>\n",
       "    <tr>\n",
       "      <th>3</th>\n",
       "      <td>4.6</td>\n",
       "      <td>3.1</td>\n",
       "      <td>1.5</td>\n",
       "      <td>0.2</td>\n",
       "      <td>0</td>\n",
       "    </tr>\n",
       "    <tr>\n",
       "      <th>4</th>\n",
       "      <td>5.0</td>\n",
       "      <td>3.6</td>\n",
       "      <td>1.4</td>\n",
       "      <td>0.2</td>\n",
       "      <td>0</td>\n",
       "    </tr>\n",
       "  </tbody>\n",
       "</table>\n",
       "</div>"
      ],
      "text/plain": [
       "   sepal length (cm)  sepal width (cm)  petal length (cm)  petal width (cm)  \\\n",
       "0                5.1               3.5                1.4               0.2   \n",
       "1                4.9               3.0                1.4               0.2   \n",
       "2                4.7               3.2                1.3               0.2   \n",
       "3                4.6               3.1                1.5               0.2   \n",
       "4                5.0               3.6                1.4               0.2   \n",
       "\n",
       "   target  \n",
       "0       0  \n",
       "1       0  \n",
       "2       0  \n",
       "3       0  \n",
       "4       0  "
      ]
     },
     "execution_count": 5,
     "metadata": {},
     "output_type": "execute_result"
    }
   ],
   "source": [
    "df['target'] = iris.target\n",
    "df.head()"
   ]
  },
  {
   "cell_type": "markdown",
   "id": "10854192",
   "metadata": {
    "papermill": {
     "duration": 0.031622,
     "end_time": "2022-05-08T04:22:35.309243",
     "exception": false,
     "start_time": "2022-05-08T04:22:35.277621",
     "status": "completed"
    },
    "tags": []
   },
   "source": [
    "**Add target_names**"
   ]
  },
  {
   "cell_type": "code",
   "execution_count": 6,
   "id": "fcf3f7f8",
   "metadata": {
    "execution": {
     "iopub.execute_input": "2022-05-08T04:22:35.375507Z",
     "iopub.status.busy": "2022-05-08T04:22:35.374964Z",
     "iopub.status.idle": "2022-05-08T04:22:35.379780Z",
     "shell.execute_reply": "2022-05-08T04:22:35.379143Z"
    },
    "papermill": {
     "duration": 0.040011,
     "end_time": "2022-05-08T04:22:35.381605",
     "exception": false,
     "start_time": "2022-05-08T04:22:35.341594",
     "status": "completed"
    },
    "tags": []
   },
   "outputs": [
    {
     "data": {
      "text/plain": [
       "array(['setosa', 'versicolor', 'virginica'], dtype='<U10')"
      ]
     },
     "execution_count": 6,
     "metadata": {},
     "output_type": "execute_result"
    }
   ],
   "source": [
    "iris.target_names"
   ]
  },
  {
   "cell_type": "code",
   "execution_count": 7,
   "id": "da8f1641",
   "metadata": {
    "execution": {
     "iopub.execute_input": "2022-05-08T04:22:35.447899Z",
     "iopub.status.busy": "2022-05-08T04:22:35.447311Z",
     "iopub.status.idle": "2022-05-08T04:22:35.466545Z",
     "shell.execute_reply": "2022-05-08T04:22:35.465908Z"
    },
    "papermill": {
     "duration": 0.05448,
     "end_time": "2022-05-08T04:22:35.468439",
     "exception": false,
     "start_time": "2022-05-08T04:22:35.413959",
     "status": "completed"
    },
    "tags": []
   },
   "outputs": [
    {
     "data": {
      "text/html": [
       "<div>\n",
       "<style scoped>\n",
       "    .dataframe tbody tr th:only-of-type {\n",
       "        vertical-align: middle;\n",
       "    }\n",
       "\n",
       "    .dataframe tbody tr th {\n",
       "        vertical-align: top;\n",
       "    }\n",
       "\n",
       "    .dataframe thead th {\n",
       "        text-align: right;\n",
       "    }\n",
       "</style>\n",
       "<table border=\"1\" class=\"dataframe\">\n",
       "  <thead>\n",
       "    <tr style=\"text-align: right;\">\n",
       "      <th></th>\n",
       "      <th>sepal length (cm)</th>\n",
       "      <th>sepal width (cm)</th>\n",
       "      <th>petal length (cm)</th>\n",
       "      <th>petal width (cm)</th>\n",
       "      <th>target</th>\n",
       "      <th>flower_name</th>\n",
       "    </tr>\n",
       "  </thead>\n",
       "  <tbody>\n",
       "    <tr>\n",
       "      <th>0</th>\n",
       "      <td>5.1</td>\n",
       "      <td>3.5</td>\n",
       "      <td>1.4</td>\n",
       "      <td>0.2</td>\n",
       "      <td>0</td>\n",
       "      <td>setosa</td>\n",
       "    </tr>\n",
       "    <tr>\n",
       "      <th>1</th>\n",
       "      <td>4.9</td>\n",
       "      <td>3.0</td>\n",
       "      <td>1.4</td>\n",
       "      <td>0.2</td>\n",
       "      <td>0</td>\n",
       "      <td>setosa</td>\n",
       "    </tr>\n",
       "    <tr>\n",
       "      <th>2</th>\n",
       "      <td>4.7</td>\n",
       "      <td>3.2</td>\n",
       "      <td>1.3</td>\n",
       "      <td>0.2</td>\n",
       "      <td>0</td>\n",
       "      <td>setosa</td>\n",
       "    </tr>\n",
       "    <tr>\n",
       "      <th>3</th>\n",
       "      <td>4.6</td>\n",
       "      <td>3.1</td>\n",
       "      <td>1.5</td>\n",
       "      <td>0.2</td>\n",
       "      <td>0</td>\n",
       "      <td>setosa</td>\n",
       "    </tr>\n",
       "    <tr>\n",
       "      <th>4</th>\n",
       "      <td>5.0</td>\n",
       "      <td>3.6</td>\n",
       "      <td>1.4</td>\n",
       "      <td>0.2</td>\n",
       "      <td>0</td>\n",
       "      <td>setosa</td>\n",
       "    </tr>\n",
       "    <tr>\n",
       "      <th>...</th>\n",
       "      <td>...</td>\n",
       "      <td>...</td>\n",
       "      <td>...</td>\n",
       "      <td>...</td>\n",
       "      <td>...</td>\n",
       "      <td>...</td>\n",
       "    </tr>\n",
       "    <tr>\n",
       "      <th>145</th>\n",
       "      <td>6.7</td>\n",
       "      <td>3.0</td>\n",
       "      <td>5.2</td>\n",
       "      <td>2.3</td>\n",
       "      <td>2</td>\n",
       "      <td>virginica</td>\n",
       "    </tr>\n",
       "    <tr>\n",
       "      <th>146</th>\n",
       "      <td>6.3</td>\n",
       "      <td>2.5</td>\n",
       "      <td>5.0</td>\n",
       "      <td>1.9</td>\n",
       "      <td>2</td>\n",
       "      <td>virginica</td>\n",
       "    </tr>\n",
       "    <tr>\n",
       "      <th>147</th>\n",
       "      <td>6.5</td>\n",
       "      <td>3.0</td>\n",
       "      <td>5.2</td>\n",
       "      <td>2.0</td>\n",
       "      <td>2</td>\n",
       "      <td>virginica</td>\n",
       "    </tr>\n",
       "    <tr>\n",
       "      <th>148</th>\n",
       "      <td>6.2</td>\n",
       "      <td>3.4</td>\n",
       "      <td>5.4</td>\n",
       "      <td>2.3</td>\n",
       "      <td>2</td>\n",
       "      <td>virginica</td>\n",
       "    </tr>\n",
       "    <tr>\n",
       "      <th>149</th>\n",
       "      <td>5.9</td>\n",
       "      <td>3.0</td>\n",
       "      <td>5.1</td>\n",
       "      <td>1.8</td>\n",
       "      <td>2</td>\n",
       "      <td>virginica</td>\n",
       "    </tr>\n",
       "  </tbody>\n",
       "</table>\n",
       "<p>150 rows × 6 columns</p>\n",
       "</div>"
      ],
      "text/plain": [
       "     sepal length (cm)  sepal width (cm)  petal length (cm)  petal width (cm)  \\\n",
       "0                  5.1               3.5                1.4               0.2   \n",
       "1                  4.9               3.0                1.4               0.2   \n",
       "2                  4.7               3.2                1.3               0.2   \n",
       "3                  4.6               3.1                1.5               0.2   \n",
       "4                  5.0               3.6                1.4               0.2   \n",
       "..                 ...               ...                ...               ...   \n",
       "145                6.7               3.0                5.2               2.3   \n",
       "146                6.3               2.5                5.0               1.9   \n",
       "147                6.5               3.0                5.2               2.0   \n",
       "148                6.2               3.4                5.4               2.3   \n",
       "149                5.9               3.0                5.1               1.8   \n",
       "\n",
       "     target flower_name  \n",
       "0         0      setosa  \n",
       "1         0      setosa  \n",
       "2         0      setosa  \n",
       "3         0      setosa  \n",
       "4         0      setosa  \n",
       "..      ...         ...  \n",
       "145       2   virginica  \n",
       "146       2   virginica  \n",
       "147       2   virginica  \n",
       "148       2   virginica  \n",
       "149       2   virginica  \n",
       "\n",
       "[150 rows x 6 columns]"
      ]
     },
     "execution_count": 7,
     "metadata": {},
     "output_type": "execute_result"
    }
   ],
   "source": [
    "df['flower_name'] =df.target.apply(lambda x: iris.target_names[x])\n",
    "df"
   ]
  },
  {
   "cell_type": "markdown",
   "id": "3e4c146d",
   "metadata": {
    "papermill": {
     "duration": 0.032775,
     "end_time": "2022-05-08T04:22:35.534306",
     "exception": false,
     "start_time": "2022-05-08T04:22:35.501531",
     "status": "completed"
    },
    "tags": []
   },
   "source": [
    "# Splitting Data"
   ]
  },
  {
   "cell_type": "code",
   "execution_count": 8,
   "id": "4993c441",
   "metadata": {
    "execution": {
     "iopub.execute_input": "2022-05-08T04:22:35.602891Z",
     "iopub.status.busy": "2022-05-08T04:22:35.602568Z",
     "iopub.status.idle": "2022-05-08T04:22:35.661395Z",
     "shell.execute_reply": "2022-05-08T04:22:35.660430Z"
    },
    "papermill": {
     "duration": 0.096668,
     "end_time": "2022-05-08T04:22:35.663903",
     "exception": false,
     "start_time": "2022-05-08T04:22:35.567235",
     "status": "completed"
    },
    "tags": []
   },
   "outputs": [],
   "source": [
    "from sklearn.model_selection import train_test_split"
   ]
  },
  {
   "cell_type": "code",
   "execution_count": 9,
   "id": "6683e02c",
   "metadata": {
    "execution": {
     "iopub.execute_input": "2022-05-08T04:22:35.734523Z",
     "iopub.status.busy": "2022-05-08T04:22:35.734005Z",
     "iopub.status.idle": "2022-05-08T04:22:35.742504Z",
     "shell.execute_reply": "2022-05-08T04:22:35.741884Z"
    },
    "papermill": {
     "duration": 0.047354,
     "end_time": "2022-05-08T04:22:35.744655",
     "exception": false,
     "start_time": "2022-05-08T04:22:35.697301",
     "status": "completed"
    },
    "tags": []
   },
   "outputs": [],
   "source": [
    "X = df.drop(['target','flower_name'], axis='columns')\n",
    "y = df.target"
   ]
  },
  {
   "cell_type": "code",
   "execution_count": 10,
   "id": "a6f64e9e",
   "metadata": {
    "execution": {
     "iopub.execute_input": "2022-05-08T04:22:35.813884Z",
     "iopub.status.busy": "2022-05-08T04:22:35.813568Z",
     "iopub.status.idle": "2022-05-08T04:22:35.818943Z",
     "shell.execute_reply": "2022-05-08T04:22:35.818260Z"
    },
    "papermill": {
     "duration": 0.042499,
     "end_time": "2022-05-08T04:22:35.821209",
     "exception": false,
     "start_time": "2022-05-08T04:22:35.778710",
     "status": "completed"
    },
    "tags": []
   },
   "outputs": [],
   "source": [
    "X_train, X_test, y_train, y_test = train_test_split(X, y, test_size=0.2)"
   ]
  },
  {
   "cell_type": "markdown",
   "id": "75978e50",
   "metadata": {
    "papermill": {
     "duration": 0.032788,
     "end_time": "2022-05-08T04:22:35.887177",
     "exception": false,
     "start_time": "2022-05-08T04:22:35.854389",
     "status": "completed"
    },
    "tags": []
   },
   "source": [
    "# Logistic Regression Model"
   ]
  },
  {
   "cell_type": "code",
   "execution_count": 11,
   "id": "17c76718",
   "metadata": {
    "execution": {
     "iopub.execute_input": "2022-05-08T04:22:35.956747Z",
     "iopub.status.busy": "2022-05-08T04:22:35.956191Z",
     "iopub.status.idle": "2022-05-08T04:22:36.070131Z",
     "shell.execute_reply": "2022-05-08T04:22:36.069447Z"
    },
    "papermill": {
     "duration": 0.151133,
     "end_time": "2022-05-08T04:22:36.072460",
     "exception": false,
     "start_time": "2022-05-08T04:22:35.921327",
     "status": "completed"
    },
    "tags": []
   },
   "outputs": [
    {
     "name": "stdout",
     "output_type": "stream",
     "text": [
      "Test Accuracy 96.67%\n"
     ]
    }
   ],
   "source": [
    "from sklearn.linear_model import LogisticRegression\n",
    "modlrm = LogisticRegression()\n",
    "\n",
    "modlrm.fit(X_train, y_train)\n",
    "\n",
    "accuracies = {}\n",
    "acc = modlrm.score(X_test,y_test)*100\n",
    "\n",
    "accuracies['Logistic Regression'] = acc\n",
    "print(\"Test Accuracy {:.2f}%\".format(acc))"
   ]
  },
  {
   "cell_type": "code",
   "execution_count": 12,
   "id": "b8427651",
   "metadata": {
    "execution": {
     "iopub.execute_input": "2022-05-08T04:22:36.141131Z",
     "iopub.status.busy": "2022-05-08T04:22:36.140805Z",
     "iopub.status.idle": "2022-05-08T04:22:36.150965Z",
     "shell.execute_reply": "2022-05-08T04:22:36.149733Z"
    },
    "papermill": {
     "duration": 0.0477,
     "end_time": "2022-05-08T04:22:36.153747",
     "exception": false,
     "start_time": "2022-05-08T04:22:36.106047",
     "status": "completed"
    },
    "tags": []
   },
   "outputs": [
    {
     "name": "stderr",
     "output_type": "stream",
     "text": [
      "/opt/conda/lib/python3.7/site-packages/sklearn/base.py:451: UserWarning: X does not have valid feature names, but LogisticRegression was fitted with feature names\n",
      "  \"X does not have valid feature names, but\"\n"
     ]
    },
    {
     "data": {
      "text/plain": [
       "array([0])"
      ]
     },
     "execution_count": 12,
     "metadata": {},
     "output_type": "execute_result"
    }
   ],
   "source": [
    "modlrm.predict([[4.8,3.0,1.5,0.3]])"
   ]
  },
  {
   "cell_type": "markdown",
   "id": "09f0a6b9",
   "metadata": {
    "papermill": {
     "duration": 0.03373,
     "end_time": "2022-05-08T04:22:36.221989",
     "exception": false,
     "start_time": "2022-05-08T04:22:36.188259",
     "status": "completed"
    },
    "tags": []
   },
   "source": [
    "# Support Vector Machine (SVM) Model"
   ]
  },
  {
   "cell_type": "code",
   "execution_count": 13,
   "id": "01dc8420",
   "metadata": {
    "execution": {
     "iopub.execute_input": "2022-05-08T04:22:36.292007Z",
     "iopub.status.busy": "2022-05-08T04:22:36.291706Z",
     "iopub.status.idle": "2022-05-08T04:22:36.302776Z",
     "shell.execute_reply": "2022-05-08T04:22:36.301753Z"
    },
    "papermill": {
     "duration": 0.049158,
     "end_time": "2022-05-08T04:22:36.305046",
     "exception": false,
     "start_time": "2022-05-08T04:22:36.255888",
     "status": "completed"
    },
    "tags": []
   },
   "outputs": [
    {
     "name": "stdout",
     "output_type": "stream",
     "text": [
      "Test Accuracy of SVM : 96.67%\n"
     ]
    }
   ],
   "source": [
    "from sklearn.svm import SVC\n",
    "modsvm = SVC()\n",
    "\n",
    "# SVC() = {‘linear’, ‘poly’, ‘rbf’, ‘sigmoid’, ‘precomputed’} or callable, default=’rbf’\n",
    "# use one to diffrent score\n",
    "\n",
    "modsvm.fit(X_train, y_train)\n",
    "\n",
    "acc = modsvm.score(X_test,y_test)*100\n",
    "accuracies['Support Vector Machine'] = acc\n",
    "print(\"Test Accuracy of SVM : {:.2f}%\".format(acc))"
   ]
  },
  {
   "cell_type": "code",
   "execution_count": 14,
   "id": "282a5020",
   "metadata": {
    "execution": {
     "iopub.execute_input": "2022-05-08T04:22:36.377411Z",
     "iopub.status.busy": "2022-05-08T04:22:36.377139Z",
     "iopub.status.idle": "2022-05-08T04:22:36.384383Z",
     "shell.execute_reply": "2022-05-08T04:22:36.383528Z"
    },
    "papermill": {
     "duration": 0.045444,
     "end_time": "2022-05-08T04:22:36.387003",
     "exception": false,
     "start_time": "2022-05-08T04:22:36.341559",
     "status": "completed"
    },
    "tags": []
   },
   "outputs": [
    {
     "name": "stderr",
     "output_type": "stream",
     "text": [
      "/opt/conda/lib/python3.7/site-packages/sklearn/base.py:451: UserWarning: X does not have valid feature names, but SVC was fitted with feature names\n",
      "  \"X does not have valid feature names, but\"\n"
     ]
    },
    {
     "data": {
      "text/plain": [
       "array([0])"
      ]
     },
     "execution_count": 14,
     "metadata": {},
     "output_type": "execute_result"
    }
   ],
   "source": [
    "modsvm.predict([[4.8,3.0,1.5,0.3]])"
   ]
  },
  {
   "cell_type": "markdown",
   "id": "799f8df3",
   "metadata": {
    "papermill": {
     "duration": 0.034938,
     "end_time": "2022-05-08T04:22:36.457009",
     "exception": false,
     "start_time": "2022-05-08T04:22:36.422071",
     "status": "completed"
    },
    "tags": []
   },
   "source": [
    "# Decision Tree Model"
   ]
  },
  {
   "cell_type": "code",
   "execution_count": 15,
   "id": "8c1ef713",
   "metadata": {
    "execution": {
     "iopub.execute_input": "2022-05-08T04:22:36.529749Z",
     "iopub.status.busy": "2022-05-08T04:22:36.529441Z",
     "iopub.status.idle": "2022-05-08T04:22:36.620175Z",
     "shell.execute_reply": "2022-05-08T04:22:36.618460Z"
    },
    "papermill": {
     "duration": 0.13107,
     "end_time": "2022-05-08T04:22:36.624065",
     "exception": false,
     "start_time": "2022-05-08T04:22:36.492995",
     "status": "completed"
    },
    "tags": []
   },
   "outputs": [
    {
     "name": "stdout",
     "output_type": "stream",
     "text": [
      "Decision Tree Test Accuracy 96.67%\n"
     ]
    }
   ],
   "source": [
    "from sklearn import tree\n",
    "moddt = tree.DecisionTreeClassifier()\n",
    "moddt.fit(X_train, y_train)\n",
    "\n",
    "acc = moddt.score(X_test, y_test)*100\n",
    "accuracies['Decision Tree'] = acc\n",
    "print(\"Decision Tree Test Accuracy {:.2f}%\".format(acc))"
   ]
  },
  {
   "cell_type": "code",
   "execution_count": 16,
   "id": "a4560b09",
   "metadata": {
    "execution": {
     "iopub.execute_input": "2022-05-08T04:22:36.702219Z",
     "iopub.status.busy": "2022-05-08T04:22:36.701958Z",
     "iopub.status.idle": "2022-05-08T04:22:36.708469Z",
     "shell.execute_reply": "2022-05-08T04:22:36.707553Z"
    },
    "papermill": {
     "duration": 0.050499,
     "end_time": "2022-05-08T04:22:36.712254",
     "exception": false,
     "start_time": "2022-05-08T04:22:36.661755",
     "status": "completed"
    },
    "tags": []
   },
   "outputs": [
    {
     "name": "stderr",
     "output_type": "stream",
     "text": [
      "/opt/conda/lib/python3.7/site-packages/sklearn/base.py:451: UserWarning: X does not have valid feature names, but DecisionTreeClassifier was fitted with feature names\n",
      "  \"X does not have valid feature names, but\"\n"
     ]
    },
    {
     "data": {
      "text/plain": [
       "array([0])"
      ]
     },
     "execution_count": 16,
     "metadata": {},
     "output_type": "execute_result"
    }
   ],
   "source": [
    "moddt.predict([[4.8,3.0,1.5,0.3]])"
   ]
  },
  {
   "cell_type": "markdown",
   "id": "3e0e70c9",
   "metadata": {
    "papermill": {
     "duration": 0.036671,
     "end_time": "2022-05-08T04:22:36.786816",
     "exception": false,
     "start_time": "2022-05-08T04:22:36.750145",
     "status": "completed"
    },
    "tags": []
   },
   "source": [
    "# Random Forest Model"
   ]
  },
  {
   "cell_type": "code",
   "execution_count": 17,
   "id": "7293c563",
   "metadata": {
    "execution": {
     "iopub.execute_input": "2022-05-08T04:22:36.861968Z",
     "iopub.status.busy": "2022-05-08T04:22:36.861439Z",
     "iopub.status.idle": "2022-05-08T04:22:37.129783Z",
     "shell.execute_reply": "2022-05-08T04:22:37.128605Z"
    },
    "papermill": {
     "duration": 0.30989,
     "end_time": "2022-05-08T04:22:37.133175",
     "exception": false,
     "start_time": "2022-05-08T04:22:36.823285",
     "status": "completed"
    },
    "tags": []
   },
   "outputs": [
    {
     "name": "stdout",
     "output_type": "stream",
     "text": [
      "Random Forest Test Accuracy 96.67%\n"
     ]
    }
   ],
   "source": [
    "from sklearn.ensemble import RandomForestClassifier\n",
    "modrf = RandomForestClassifier()\n",
    "modrf.fit(X_train, y_train)\n",
    "modrf.score(X_test, y_test)\n",
    "\n",
    "acc = modrf.score(X_test, y_test)*100\n",
    "accuracies['Random Forest'] = acc\n",
    "print(\"Random Forest Test Accuracy {:.2f}%\".format(acc))"
   ]
  },
  {
   "cell_type": "code",
   "execution_count": 18,
   "id": "80fe7d0c",
   "metadata": {
    "execution": {
     "iopub.execute_input": "2022-05-08T04:22:37.209202Z",
     "iopub.status.busy": "2022-05-08T04:22:37.208526Z",
     "iopub.status.idle": "2022-05-08T04:22:37.225980Z",
     "shell.execute_reply": "2022-05-08T04:22:37.224886Z"
    },
    "papermill": {
     "duration": 0.057757,
     "end_time": "2022-05-08T04:22:37.228398",
     "exception": false,
     "start_time": "2022-05-08T04:22:37.170641",
     "status": "completed"
    },
    "tags": []
   },
   "outputs": [
    {
     "name": "stderr",
     "output_type": "stream",
     "text": [
      "/opt/conda/lib/python3.7/site-packages/sklearn/base.py:451: UserWarning: X does not have valid feature names, but RandomForestClassifier was fitted with feature names\n",
      "  \"X does not have valid feature names, but\"\n"
     ]
    },
    {
     "data": {
      "text/plain": [
       "array([0])"
      ]
     },
     "execution_count": 18,
     "metadata": {},
     "output_type": "execute_result"
    }
   ],
   "source": [
    "modrf.predict([[4.8,3.0,1.5,0.3]])"
   ]
  },
  {
   "cell_type": "markdown",
   "id": "7f45be0e",
   "metadata": {
    "papermill": {
     "duration": 0.037141,
     "end_time": "2022-05-08T04:22:37.303068",
     "exception": false,
     "start_time": "2022-05-08T04:22:37.265927",
     "status": "completed"
    },
    "tags": []
   },
   "source": [
    "# Comparing Model"
   ]
  },
  {
   "cell_type": "code",
   "execution_count": 19,
   "id": "e982297c",
   "metadata": {
    "execution": {
     "iopub.execute_input": "2022-05-08T04:22:37.380467Z",
     "iopub.status.busy": "2022-05-08T04:22:37.379510Z",
     "iopub.status.idle": "2022-05-08T04:22:37.617416Z",
     "shell.execute_reply": "2022-05-08T04:22:37.616555Z"
    },
    "papermill": {
     "duration": 0.279153,
     "end_time": "2022-05-08T04:22:37.619753",
     "exception": false,
     "start_time": "2022-05-08T04:22:37.340600",
     "status": "completed"
    },
    "tags": []
   },
   "outputs": [
    {
     "data": {
      "image/png": "[encoded data removed]",
      "text/plain": [
       "<Figure size 1152x360 with 1 Axes>"
      ]
     },
     "metadata": {},
     "output_type": "display_data"
    }
   ],
   "source": [
    "colors = [\"red\", \"green\", \"orange\", \"blue\"]\n",
    "\n",
    "sns.set_style(\"whitegrid\")\n",
    "plt.figure(figsize=(16,5))\n",
    "plt.yticks(np.arange(0,100,10))\n",
    "plt.ylabel(\"Accuracy %\")\n",
    "plt.xlabel(\"Model\", size=18)\n",
    "sns.barplot(x=list(accuracies.keys()), y=list(accuracies.values()), palette=colors)\n",
    "plt.show()"
   ]
  },
  {
   "cell_type": "markdown",
   "id": "6c6417a2",
   "metadata": {
    "papermill": {
     "duration": 0.038382,
     "end_time": "2022-05-08T04:22:37.697345",
     "exception": false,
     "start_time": "2022-05-08T04:22:37.658963",
     "status": "completed"
    },
    "tags": []
   },
   "source": [
    "# Confusion Matrix"
   ]
  },
  {
   "cell_type": "code",
   "execution_count": 20,
   "id": "09165f14",
   "metadata": {
    "execution": {
     "iopub.execute_input": "2022-05-08T04:22:37.777302Z",
     "iopub.status.busy": "2022-05-08T04:22:37.776708Z",
     "iopub.status.idle": "2022-05-08T04:22:37.798138Z",
     "shell.execute_reply": "2022-05-08T04:22:37.797233Z"
    },
    "papermill": {
     "duration": 0.063512,
     "end_time": "2022-05-08T04:22:37.800432",
     "exception": false,
     "start_time": "2022-05-08T04:22:37.736920",
     "status": "completed"
    },
    "tags": []
   },
   "outputs": [],
   "source": [
    "y_pred_modlrm = modlrm.predict(X_test)\n",
    "y_pred_modsvm = modsvm.predict(X_test)\n",
    "y_pred_moddt = moddt.predict(X_test)\n",
    "y_pred_modrf = modrf.predict(X_test)"
   ]
  },
  {
   "cell_type": "code",
   "execution_count": 21,
   "id": "98a4cd45",
   "metadata": {
    "execution": {
     "iopub.execute_input": "2022-05-08T04:22:37.879323Z",
     "iopub.status.busy": "2022-05-08T04:22:37.878758Z",
     "iopub.status.idle": "2022-05-08T04:22:37.888372Z",
     "shell.execute_reply": "2022-05-08T04:22:37.887488Z"
    },
    "papermill": {
     "duration": 0.051571,
     "end_time": "2022-05-08T04:22:37.890549",
     "exception": false,
     "start_time": "2022-05-08T04:22:37.838978",
     "status": "completed"
    },
    "tags": []
   },
   "outputs": [],
   "source": [
    "from sklearn.metrics import confusion_matrix\n",
    "cm_modlrm = confusion_matrix(y_test, y_pred_modlrm)\n",
    "cm_modsvm = confusion_matrix(y_test, y_pred_modsvm)\n",
    "cm_moddt = confusion_matrix(y_test, y_pred_moddt)\n",
    "cm_modrf = confusion_matrix(y_test, y_pred_moddt)"
   ]
  },
  {
   "cell_type": "code",
   "execution_count": 22,
   "id": "16c12abe",
   "metadata": {
    "execution": {
     "iopub.execute_input": "2022-05-08T04:22:37.970274Z",
     "iopub.status.busy": "2022-05-08T04:22:37.969689Z",
     "iopub.status.idle": "2022-05-08T04:22:38.483637Z",
     "shell.execute_reply": "2022-05-08T04:22:38.482908Z"
    },
    "papermill": {
     "duration": 0.556406,
     "end_time": "2022-05-08T04:22:38.485722",
     "exception": false,
     "start_time": "2022-05-08T04:22:37.929316",
     "status": "completed"
    },
    "tags": []
   },
   "outputs": [
    {
     "data": {
      "image/png": "[encoded data removed]",
      "text/plain": [
       "<Figure size 864x864 with 4 Axes>"
      ]
     },
     "metadata": {},
     "output_type": "display_data"
    }
   ],
   "source": [
    "plt.figure(figsize=(12,12))\n",
    "\n",
    "plt.suptitle(\"Confusion Matrixes\",fontsize=24)\n",
    "\n",
    "\n",
    "plt.subplot(2,2,1)\n",
    "plt.title(\"Logistic Regression Classifier\")\n",
    "sns.heatmap(cm_modlrm,annot=True,cmap=\"Blues\",fmt=\"d\",cbar=False, annot_kws={\"size\": 24})\n",
    "\n",
    "plt.subplot(2,2,2)\n",
    "plt.title(\"Support Vector Machine Classifier\")\n",
    "sns.heatmap(cm_modsvm,annot=True,cmap=\"Blues\",fmt=\"d\",cbar=False, annot_kws={\"size\": 24})\n",
    "\n",
    "plt.subplot(2,2,3)\n",
    "plt.title(\"Decision Tree Classifier\")\n",
    "sns.heatmap(cm_moddt,annot=True,cmap=\"Blues\",fmt=\"d\",cbar=False, annot_kws={\"size\": 24})\n",
    "\n",
    "plt.subplot(2,2,4)\n",
    "plt.title(\"Random Forest Classifier\")\n",
    "sns.heatmap(cm_modrf,annot=True,cmap=\"Blues\",fmt=\"d\",cbar=False, annot_kws={\"size\": 24})\n",
    "\n",
    "plt.show()"
   ]
  }
 ],
 "metadata": {
  "kernelspec": {
   "display_name": "Python 3",
   "language": "python",
   "name": "python3"
  },
  "language_info": {
   "codemirror_mode": {
    "name": "ipython",
    "version": 3
   },
   "file_extension": ".py",
   "mimetype": "text/x-python",
   "name": "python",
   "nbconvert_exporter": "python",
   "pygments_lexer": "ipython3",
   "version": "3.7.12"
  },
  "papermill": {
   "default_parameters": {},
   "duration": 16.094788,
   "end_time": "2022-05-08T04:22:39.246740",
   "environment_variables": {},
   "exception": null,
   "input_path": "__notebook__.ipynb",
   "output_path": "__notebook__.ipynb",
   "parameters": {},
   "start_time": "2022-05-08T04:22:23.151952",
   "version": "2.3.4"
  }
 },
 "nbformat": 4,
 "nbformat_minor": 5
}
