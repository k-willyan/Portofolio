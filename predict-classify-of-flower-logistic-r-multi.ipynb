{
 "cells": [
  {
   "cell_type": "markdown",
   "id": "4cd42550",
   "metadata": {
    "papermill": {
     "duration": 0.031612,
     "end_time": "2022-05-08T09:38:58.240990",
     "exception": false,
     "start_time": "2022-05-08T09:38:58.209378",
     "status": "completed"
    },
    "tags": []
   },
   "source": [
    "# Libraries & Dataset"
   ]
  },
  {
   "cell_type": "markdown",
   "id": "efefe3d5",
   "metadata": {
    "papermill": {
     "duration": 0.029052,
     "end_time": "2022-05-08T09:38:58.297784",
     "exception": false,
     "start_time": "2022-05-08T09:38:58.268732",
     "status": "completed"
    },
    "tags": []
   },
   "source": [
    "**Look inside of iris**"
   ]
  },
  {
   "cell_type": "code",
   "execution_count": 1,
   "id": "2e2cbbb8",
   "metadata": {
    "execution": {
     "iopub.execute_input": "2022-05-08T09:38:58.356413Z",
     "iopub.status.busy": "2022-05-08T09:38:58.355979Z",
     "iopub.status.idle": "2022-05-08T09:38:59.934169Z",
     "shell.execute_reply": "2022-05-08T09:38:59.932953Z"
    },
    "papermill": {
     "duration": 1.610637,
     "end_time": "2022-05-08T09:38:59.937781",
     "exception": false,
     "start_time": "2022-05-08T09:38:58.327144",
     "status": "completed"
    },
    "tags": []
   },
   "outputs": [
    {
     "data": {
      "text/plain": [
       "['DESCR',\n",
       " 'data',\n",
       " 'data_module',\n",
       " 'feature_names',\n",
       " 'filename',\n",
       " 'frame',\n",
       " 'target',\n",
       " 'target_names']"
      ]
     },
     "execution_count": 1,
     "metadata": {},
     "output_type": "execute_result"
    }
   ],
   "source": [
    "import numpy as np\n",
    "import pandas as pd\n",
    "import matplotlib.pyplot as plt\n",
    "import seaborn as sns\n",
    "from sklearn.datasets import load_iris\n",
    "iris = load_iris()\n",
    "\n",
    "dir(iris)"
   ]
  },
  {
   "cell_type": "markdown",
   "id": "3239ff75",
   "metadata": {
    "papermill": {
     "duration": 0.028189,
     "end_time": "2022-05-08T09:38:59.995191",
     "exception": false,
     "start_time": "2022-05-08T09:38:59.967002",
     "status": "completed"
    },
    "tags": []
   },
   "source": [
    "# Dataset"
   ]
  },
  {
   "cell_type": "markdown",
   "id": "8dc50974",
   "metadata": {
    "papermill": {
     "duration": 0.02826,
     "end_time": "2022-05-08T09:39:00.054994",
     "exception": false,
     "start_time": "2022-05-08T09:39:00.026734",
     "status": "completed"
    },
    "tags": []
   },
   "source": [
    "**Data Exploration**"
   ]
  },
  {
   "cell_type": "code",
   "execution_count": 2,
   "id": "70996ba6",
   "metadata": {
    "execution": {
     "iopub.execute_input": "2022-05-08T09:39:00.117272Z",
     "iopub.status.busy": "2022-05-08T09:39:00.116727Z",
     "iopub.status.idle": "2022-05-08T09:39:00.122811Z",
     "shell.execute_reply": "2022-05-08T09:39:00.121918Z"
    },
    "papermill": {
     "duration": 0.040586,
     "end_time": "2022-05-08T09:39:00.125823",
     "exception": false,
     "start_time": "2022-05-08T09:39:00.085237",
     "status": "completed"
    },
    "tags": []
   },
   "outputs": [
    {
     "data": {
      "text/plain": [
       "['sepal length (cm)',\n",
       " 'sepal width (cm)',\n",
       " 'petal length (cm)',\n",
       " 'petal width (cm)']"
      ]
     },
     "execution_count": 2,
     "metadata": {},
     "output_type": "execute_result"
    }
   ],
   "source": [
    "iris.feature_names"
   ]
  },
  {
   "cell_type": "code",
   "execution_count": 3,
   "id": "28d3f86a",
   "metadata": {
    "execution": {
     "iopub.execute_input": "2022-05-08T09:39:00.192224Z",
     "iopub.status.busy": "2022-05-08T09:39:00.191392Z",
     "iopub.status.idle": "2022-05-08T09:39:00.196685Z",
     "shell.execute_reply": "2022-05-08T09:39:00.196160Z"
    },
    "papermill": {
     "duration": 0.041961,
     "end_time": "2022-05-08T09:39:00.198516",
     "exception": false,
     "start_time": "2022-05-08T09:39:00.156555",
     "status": "completed"
    },
    "tags": []
   },
   "outputs": [
    {
     "data": {
      "text/plain": [
       "array(['setosa', 'versicolor', 'virginica'], dtype='<U10')"
      ]
     },
     "execution_count": 3,
     "metadata": {},
     "output_type": "execute_result"
    }
   ],
   "source": [
    "iris.target_names"
   ]
  },
  {
   "cell_type": "code",
   "execution_count": 4,
   "id": "25c26b4a",
   "metadata": {
    "execution": {
     "iopub.execute_input": "2022-05-08T09:39:00.257575Z",
     "iopub.status.busy": "2022-05-08T09:39:00.256826Z",
     "iopub.status.idle": "2022-05-08T09:39:00.297698Z",
     "shell.execute_reply": "2022-05-08T09:39:00.296996Z"
    },
    "papermill": {
     "duration": 0.07262,
     "end_time": "2022-05-08T09:39:00.299880",
     "exception": false,
     "start_time": "2022-05-08T09:39:00.227260",
     "status": "completed"
    },
    "tags": []
   },
   "outputs": [
    {
     "data": {
      "text/html": [
       "<div>\n",
       "<style scoped>\n",
       "    .dataframe tbody tr th:only-of-type {\n",
       "        vertical-align: middle;\n",
       "    }\n",
       "\n",
       "    .dataframe tbody tr th {\n",
       "        vertical-align: top;\n",
       "    }\n",
       "\n",
       "    .dataframe thead th {\n",
       "        text-align: right;\n",
       "    }\n",
       "</style>\n",
       "<table border=\"1\" class=\"dataframe\">\n",
       "  <thead>\n",
       "    <tr style=\"text-align: right;\">\n",
       "      <th></th>\n",
       "      <th>sepal length (cm)</th>\n",
       "      <th>sepal width (cm)</th>\n",
       "      <th>petal length (cm)</th>\n",
       "      <th>petal width (cm)</th>\n",
       "      <th>target</th>\n",
       "      <th>flower_name</th>\n",
       "    </tr>\n",
       "  </thead>\n",
       "  <tbody>\n",
       "    <tr>\n",
       "      <th>0</th>\n",
       "      <td>5.1</td>\n",
       "      <td>3.5</td>\n",
       "      <td>1.4</td>\n",
       "      <td>0.2</td>\n",
       "      <td>0</td>\n",
       "      <td>setosa</td>\n",
       "    </tr>\n",
       "    <tr>\n",
       "      <th>1</th>\n",
       "      <td>4.9</td>\n",
       "      <td>3.0</td>\n",
       "      <td>1.4</td>\n",
       "      <td>0.2</td>\n",
       "      <td>0</td>\n",
       "      <td>setosa</td>\n",
       "    </tr>\n",
       "    <tr>\n",
       "      <th>2</th>\n",
       "      <td>4.7</td>\n",
       "      <td>3.2</td>\n",
       "      <td>1.3</td>\n",
       "      <td>0.2</td>\n",
       "      <td>0</td>\n",
       "      <td>setosa</td>\n",
       "    </tr>\n",
       "    <tr>\n",
       "      <th>3</th>\n",
       "      <td>4.6</td>\n",
       "      <td>3.1</td>\n",
       "      <td>1.5</td>\n",
       "      <td>0.2</td>\n",
       "      <td>0</td>\n",
       "      <td>setosa</td>\n",
       "    </tr>\n",
       "    <tr>\n",
       "      <th>4</th>\n",
       "      <td>5.0</td>\n",
       "      <td>3.6</td>\n",
       "      <td>1.4</td>\n",
       "      <td>0.2</td>\n",
       "      <td>0</td>\n",
       "      <td>setosa</td>\n",
       "    </tr>\n",
       "    <tr>\n",
       "      <th>...</th>\n",
       "      <td>...</td>\n",
       "      <td>...</td>\n",
       "      <td>...</td>\n",
       "      <td>...</td>\n",
       "      <td>...</td>\n",
       "      <td>...</td>\n",
       "    </tr>\n",
       "    <tr>\n",
       "      <th>145</th>\n",
       "      <td>6.7</td>\n",
       "      <td>3.0</td>\n",
       "      <td>5.2</td>\n",
       "      <td>2.3</td>\n",
       "      <td>2</td>\n",
       "      <td>virginica</td>\n",
       "    </tr>\n",
       "    <tr>\n",
       "      <th>146</th>\n",
       "      <td>6.3</td>\n",
       "      <td>2.5</td>\n",
       "      <td>5.0</td>\n",
       "      <td>1.9</td>\n",
       "      <td>2</td>\n",
       "      <td>virginica</td>\n",
       "    </tr>\n",
       "    <tr>\n",
       "      <th>147</th>\n",
       "      <td>6.5</td>\n",
       "      <td>3.0</td>\n",
       "      <td>5.2</td>\n",
       "      <td>2.0</td>\n",
       "      <td>2</td>\n",
       "      <td>virginica</td>\n",
       "    </tr>\n",
       "    <tr>\n",
       "      <th>148</th>\n",
       "      <td>6.2</td>\n",
       "      <td>3.4</td>\n",
       "      <td>5.4</td>\n",
       "      <td>2.3</td>\n",
       "      <td>2</td>\n",
       "      <td>virginica</td>\n",
       "    </tr>\n",
       "    <tr>\n",
       "      <th>149</th>\n",
       "      <td>5.9</td>\n",
       "      <td>3.0</td>\n",
       "      <td>5.1</td>\n",
       "      <td>1.8</td>\n",
       "      <td>2</td>\n",
       "      <td>virginica</td>\n",
       "    </tr>\n",
       "  </tbody>\n",
       "</table>\n",
       "<p>150 rows × 6 columns</p>\n",
       "</div>"
      ],
      "text/plain": [
       "     sepal length (cm)  sepal width (cm)  petal length (cm)  petal width (cm)  \\\n",
       "0                  5.1               3.5                1.4               0.2   \n",
       "1                  4.9               3.0                1.4               0.2   \n",
       "2                  4.7               3.2                1.3               0.2   \n",
       "3                  4.6               3.1                1.5               0.2   \n",
       "4                  5.0               3.6                1.4               0.2   \n",
       "..                 ...               ...                ...               ...   \n",
       "145                6.7               3.0                5.2               2.3   \n",
       "146                6.3               2.5                5.0               1.9   \n",
       "147                6.5               3.0                5.2               2.0   \n",
       "148                6.2               3.4                5.4               2.3   \n",
       "149                5.9               3.0                5.1               1.8   \n",
       "\n",
       "     target flower_name  \n",
       "0         0      setosa  \n",
       "1         0      setosa  \n",
       "2         0      setosa  \n",
       "3         0      setosa  \n",
       "4         0      setosa  \n",
       "..      ...         ...  \n",
       "145       2   virginica  \n",
       "146       2   virginica  \n",
       "147       2   virginica  \n",
       "148       2   virginica  \n",
       "149       2   virginica  \n",
       "\n",
       "[150 rows x 6 columns]"
      ]
     },
     "execution_count": 4,
     "metadata": {},
     "output_type": "execute_result"
    }
   ],
   "source": [
    "df = pd.DataFrame(iris.data,columns=iris.feature_names)\n",
    "df['target'] = iris.target\n",
    "df['flower_name'] =df.target.apply(lambda x: iris.target_names[x])\n",
    "df"
   ]
  },
  {
   "cell_type": "markdown",
   "id": "683bae6f",
   "metadata": {
    "papermill": {
     "duration": 0.028563,
     "end_time": "2022-05-08T09:39:00.357382",
     "exception": false,
     "start_time": "2022-05-08T09:39:00.328819",
     "status": "completed"
    },
    "tags": []
   },
   "source": [
    "# Splitting Data"
   ]
  },
  {
   "cell_type": "code",
   "execution_count": 5,
   "id": "4543183b",
   "metadata": {
    "execution": {
     "iopub.execute_input": "2022-05-08T09:39:00.419921Z",
     "iopub.status.busy": "2022-05-08T09:39:00.419574Z",
     "iopub.status.idle": "2022-05-08T09:39:00.496735Z",
     "shell.execute_reply": "2022-05-08T09:39:00.495530Z"
    },
    "papermill": {
     "duration": 0.112415,
     "end_time": "2022-05-08T09:39:00.499464",
     "exception": false,
     "start_time": "2022-05-08T09:39:00.387049",
     "status": "completed"
    },
    "tags": []
   },
   "outputs": [],
   "source": [
    "from sklearn.model_selection import train_test_split\n",
    "X = df.drop(['target','flower_name'], axis='columns')\n",
    "y = df.target\n",
    "X_train, X_test, y_train, y_test = train_test_split(X, y, test_size=0.1)"
   ]
  },
  {
   "cell_type": "markdown",
   "id": "e9ecbd50",
   "metadata": {
    "papermill": {
     "duration": 0.028803,
     "end_time": "2022-05-08T09:39:00.558538",
     "exception": false,
     "start_time": "2022-05-08T09:39:00.529735",
     "status": "completed"
    },
    "tags": []
   },
   "source": [
    "# Logistic Regression Model"
   ]
  },
  {
   "cell_type": "code",
   "execution_count": 6,
   "id": "6a5ea578",
   "metadata": {
    "execution": {
     "iopub.execute_input": "2022-05-08T09:39:00.618513Z",
     "iopub.status.busy": "2022-05-08T09:39:00.618126Z",
     "iopub.status.idle": "2022-05-08T09:39:00.761288Z",
     "shell.execute_reply": "2022-05-08T09:39:00.759984Z"
    },
    "papermill": {
     "duration": 0.176885,
     "end_time": "2022-05-08T09:39:00.764356",
     "exception": false,
     "start_time": "2022-05-08T09:39:00.587471",
     "status": "completed"
    },
    "tags": []
   },
   "outputs": [
    {
     "name": "stdout",
     "output_type": "stream",
     "text": [
      "Test Accuracy 93.33%\n"
     ]
    },
    {
     "name": "stderr",
     "output_type": "stream",
     "text": [
      "/opt/conda/lib/python3.7/site-packages/sklearn/linear_model/_logistic.py:818: ConvergenceWarning: lbfgs failed to converge (status=1):\n",
      "STOP: TOTAL NO. of ITERATIONS REACHED LIMIT.\n",
      "\n",
      "Increase the number of iterations (max_iter) or scale the data as shown in:\n",
      "    https://scikit-learn.org/stable/modules/preprocessing.html\n",
      "Please also refer to the documentation for alternative solver options:\n",
      "    https://scikit-learn.org/stable/modules/linear_model.html#logistic-regression\n",
      "  extra_warning_msg=_LOGISTIC_SOLVER_CONVERGENCE_MSG,\n"
     ]
    }
   ],
   "source": [
    "from sklearn.linear_model import LogisticRegression\n",
    "modlrm = LogisticRegression()\n",
    "\n",
    "modlrm.fit(X_train, y_train)\n",
    "\n",
    "accuracies = {}\n",
    "acc = modlrm.score(X_test,y_test)*100\n",
    "\n",
    "accuracies['Logistic Regression'] = acc\n",
    "print(\"Test Accuracy {:.2f}%\".format(acc))"
   ]
  },
  {
   "cell_type": "code",
   "execution_count": 7,
   "id": "afec1aba",
   "metadata": {
    "execution": {
     "iopub.execute_input": "2022-05-08T09:39:00.826407Z",
     "iopub.status.busy": "2022-05-08T09:39:00.826089Z",
     "iopub.status.idle": "2022-05-08T09:39:00.836421Z",
     "shell.execute_reply": "2022-05-08T09:39:00.834994Z"
    },
    "papermill": {
     "duration": 0.04499,
     "end_time": "2022-05-08T09:39:00.839340",
     "exception": false,
     "start_time": "2022-05-08T09:39:00.794350",
     "status": "completed"
    },
    "tags": []
   },
   "outputs": [
    {
     "name": "stderr",
     "output_type": "stream",
     "text": [
      "/opt/conda/lib/python3.7/site-packages/sklearn/base.py:451: UserWarning: X does not have valid feature names, but LogisticRegression was fitted with feature names\n",
      "  \"X does not have valid feature names, but\"\n"
     ]
    },
    {
     "data": {
      "text/plain": [
       "array([0])"
      ]
     },
     "execution_count": 7,
     "metadata": {},
     "output_type": "execute_result"
    }
   ],
   "source": [
    "modlrm.predict([[4.8,3.0,1.5,0.3]])"
   ]
  },
  {
   "cell_type": "markdown",
   "id": "fa111e97",
   "metadata": {
    "papermill": {
     "duration": 0.030042,
     "end_time": "2022-05-08T09:39:00.900528",
     "exception": false,
     "start_time": "2022-05-08T09:39:00.870486",
     "status": "completed"
    },
    "tags": []
   },
   "source": [
    "# Support Vector Machine (SVM) Model"
   ]
  },
  {
   "cell_type": "code",
   "execution_count": 8,
   "id": "e192b0a7",
   "metadata": {
    "execution": {
     "iopub.execute_input": "2022-05-08T09:39:00.965771Z",
     "iopub.status.busy": "2022-05-08T09:39:00.964902Z",
     "iopub.status.idle": "2022-05-08T09:39:00.978129Z",
     "shell.execute_reply": "2022-05-08T09:39:00.977171Z"
    },
    "papermill": {
     "duration": 0.048045,
     "end_time": "2022-05-08T09:39:00.980852",
     "exception": false,
     "start_time": "2022-05-08T09:39:00.932807",
     "status": "completed"
    },
    "tags": []
   },
   "outputs": [
    {
     "name": "stdout",
     "output_type": "stream",
     "text": [
      "Test Accuracy of SVM : 93.33%\n"
     ]
    }
   ],
   "source": [
    "from sklearn.svm import SVC\n",
    "modsvm = SVC()\n",
    "\n",
    "# SVC() = {‘linear’, ‘poly’, ‘rbf’, ‘sigmoid’, ‘precomputed’} or callable, default=’rbf’\n",
    "# use one to diffrent score\n",
    "\n",
    "modsvm.fit(X_train, y_train)\n",
    "\n",
    "acc = modsvm.score(X_test,y_test)*100\n",
    "accuracies['Support Vector Machine'] = acc\n",
    "print(\"Test Accuracy of SVM : {:.2f}%\".format(acc))"
   ]
  },
  {
   "cell_type": "code",
   "execution_count": 9,
   "id": "b91936ec",
   "metadata": {
    "execution": {
     "iopub.execute_input": "2022-05-08T09:39:01.047101Z",
     "iopub.status.busy": "2022-05-08T09:39:01.046494Z",
     "iopub.status.idle": "2022-05-08T09:39:01.054906Z",
     "shell.execute_reply": "2022-05-08T09:39:01.053193Z"
    },
    "papermill": {
     "duration": 0.044046,
     "end_time": "2022-05-08T09:39:01.057446",
     "exception": false,
     "start_time": "2022-05-08T09:39:01.013400",
     "status": "completed"
    },
    "tags": []
   },
   "outputs": [
    {
     "name": "stderr",
     "output_type": "stream",
     "text": [
      "/opt/conda/lib/python3.7/site-packages/sklearn/base.py:451: UserWarning: X does not have valid feature names, but SVC was fitted with feature names\n",
      "  \"X does not have valid feature names, but\"\n"
     ]
    },
    {
     "data": {
      "text/plain": [
       "array([0])"
      ]
     },
     "execution_count": 9,
     "metadata": {},
     "output_type": "execute_result"
    }
   ],
   "source": [
    "modsvm.predict([[4.8,3.0,1.5,0.3]])"
   ]
  },
  {
   "cell_type": "markdown",
   "id": "18e46296",
   "metadata": {
    "papermill": {
     "duration": 0.03119,
     "end_time": "2022-05-08T09:39:01.119892",
     "exception": false,
     "start_time": "2022-05-08T09:39:01.088702",
     "status": "completed"
    },
    "tags": []
   },
   "source": [
    "# Decision Tree Model"
   ]
  },
  {
   "cell_type": "code",
   "execution_count": 10,
   "id": "d813f6ca",
   "metadata": {
    "execution": {
     "iopub.execute_input": "2022-05-08T09:39:01.184343Z",
     "iopub.status.busy": "2022-05-08T09:39:01.184055Z",
     "iopub.status.idle": "2022-05-08T09:39:01.281177Z",
     "shell.execute_reply": "2022-05-08T09:39:01.279238Z"
    },
    "papermill": {
     "duration": 0.132399,
     "end_time": "2022-05-08T09:39:01.283650",
     "exception": false,
     "start_time": "2022-05-08T09:39:01.151251",
     "status": "completed"
    },
    "tags": []
   },
   "outputs": [
    {
     "name": "stdout",
     "output_type": "stream",
     "text": [
      "Decision Tree Test Accuracy 93.33%\n"
     ]
    }
   ],
   "source": [
    "from sklearn import tree\n",
    "moddt = tree.DecisionTreeClassifier()\n",
    "moddt.fit(X_train, y_train)\n",
    "\n",
    "acc = moddt.score(X_test, y_test)*100\n",
    "accuracies['Decision Tree'] = acc\n",
    "print(\"Decision Tree Test Accuracy {:.2f}%\".format(acc))"
   ]
  },
  {
   "cell_type": "code",
   "execution_count": 11,
   "id": "3148c085",
   "metadata": {
    "execution": {
     "iopub.execute_input": "2022-05-08T09:39:01.350096Z",
     "iopub.status.busy": "2022-05-08T09:39:01.349562Z",
     "iopub.status.idle": "2022-05-08T09:39:01.357127Z",
     "shell.execute_reply": "2022-05-08T09:39:01.356069Z"
    },
    "papermill": {
     "duration": 0.045354,
     "end_time": "2022-05-08T09:39:01.360931",
     "exception": false,
     "start_time": "2022-05-08T09:39:01.315577",
     "status": "completed"
    },
    "tags": []
   },
   "outputs": [
    {
     "name": "stderr",
     "output_type": "stream",
     "text": [
      "/opt/conda/lib/python3.7/site-packages/sklearn/base.py:451: UserWarning: X does not have valid feature names, but DecisionTreeClassifier was fitted with feature names\n",
      "  \"X does not have valid feature names, but\"\n"
     ]
    },
    {
     "data": {
      "text/plain": [
       "array([0])"
      ]
     },
     "execution_count": 11,
     "metadata": {},
     "output_type": "execute_result"
    }
   ],
   "source": [
    "moddt.predict([[4.8,3.0,1.5,0.3]])"
   ]
  },
  {
   "cell_type": "markdown",
   "id": "ef5feceb",
   "metadata": {
    "papermill": {
     "duration": 0.035174,
     "end_time": "2022-05-08T09:39:01.430590",
     "exception": false,
     "start_time": "2022-05-08T09:39:01.395416",
     "status": "completed"
    },
    "tags": []
   },
   "source": [
    "# Random Forest Model"
   ]
  },
  {
   "cell_type": "code",
   "execution_count": 12,
   "id": "3b3a4104",
   "metadata": {
    "execution": {
     "iopub.execute_input": "2022-05-08T09:39:01.499767Z",
     "iopub.status.busy": "2022-05-08T09:39:01.499422Z",
     "iopub.status.idle": "2022-05-08T09:39:01.785592Z",
     "shell.execute_reply": "2022-05-08T09:39:01.784746Z"
    },
    "papermill": {
     "duration": 0.324012,
     "end_time": "2022-05-08T09:39:01.788011",
     "exception": false,
     "start_time": "2022-05-08T09:39:01.463999",
     "status": "completed"
    },
    "tags": []
   },
   "outputs": [
    {
     "name": "stdout",
     "output_type": "stream",
     "text": [
      "Random Forest Test Accuracy 93.33%\n"
     ]
    }
   ],
   "source": [
    "from sklearn.ensemble import RandomForestClassifier\n",
    "modrf = RandomForestClassifier()\n",
    "modrf.fit(X_train, y_train)\n",
    "modrf.score(X_test, y_test)\n",
    "\n",
    "acc = modrf.score(X_test, y_test)*100\n",
    "accuracies['Random Forest'] = acc\n",
    "print(\"Random Forest Test Accuracy {:.2f}%\".format(acc))"
   ]
  },
  {
   "cell_type": "code",
   "execution_count": 13,
   "id": "9ab085d9",
   "metadata": {
    "execution": {
     "iopub.execute_input": "2022-05-08T09:39:01.858274Z",
     "iopub.status.busy": "2022-05-08T09:39:01.856955Z",
     "iopub.status.idle": "2022-05-08T09:39:01.881926Z",
     "shell.execute_reply": "2022-05-08T09:39:01.880886Z"
    },
    "papermill": {
     "duration": 0.063648,
     "end_time": "2022-05-08T09:39:01.885252",
     "exception": false,
     "start_time": "2022-05-08T09:39:01.821604",
     "status": "completed"
    },
    "tags": []
   },
   "outputs": [
    {
     "name": "stderr",
     "output_type": "stream",
     "text": [
      "/opt/conda/lib/python3.7/site-packages/sklearn/base.py:451: UserWarning: X does not have valid feature names, but RandomForestClassifier was fitted with feature names\n",
      "  \"X does not have valid feature names, but\"\n"
     ]
    },
    {
     "data": {
      "text/plain": [
       "array([0])"
      ]
     },
     "execution_count": 13,
     "metadata": {},
     "output_type": "execute_result"
    }
   ],
   "source": [
    "modrf.predict([[4.8,3.0,1.5,0.3]])"
   ]
  },
  {
   "cell_type": "markdown",
   "id": "186c0811",
   "metadata": {
    "papermill": {
     "duration": 0.034256,
     "end_time": "2022-05-08T09:39:01.955597",
     "exception": false,
     "start_time": "2022-05-08T09:39:01.921341",
     "status": "completed"
    },
    "tags": []
   },
   "source": [
    "# Naive Bayes"
   ]
  },
  {
   "cell_type": "code",
   "execution_count": 14,
   "id": "fbdf8ea2",
   "metadata": {
    "execution": {
     "iopub.execute_input": "2022-05-08T09:39:02.027881Z",
     "iopub.status.busy": "2022-05-08T09:39:02.027515Z",
     "iopub.status.idle": "2022-05-08T09:39:02.045080Z",
     "shell.execute_reply": "2022-05-08T09:39:02.043894Z"
    },
    "papermill": {
     "duration": 0.056937,
     "end_time": "2022-05-08T09:39:02.048536",
     "exception": false,
     "start_time": "2022-05-08T09:39:01.991599",
     "status": "completed"
    },
    "tags": []
   },
   "outputs": [
    {
     "name": "stdout",
     "output_type": "stream",
     "text": [
      "Naive Bayes Test Accuracy 93.33%\n"
     ]
    }
   ],
   "source": [
    "from sklearn.naive_bayes import GaussianNB\n",
    "modnb = GaussianNB()\n",
    "modnb.fit(X_train,y_train)\n",
    "modnb.score(X_test,y_test)\n",
    "\n",
    "acc = modnb.score(X_test, y_test)*100\n",
    "accuracies['Naive Bayes'] = acc\n",
    "print(\"Naive Bayes Test Accuracy {:.2f}%\".format(acc))"
   ]
  },
  {
   "cell_type": "code",
   "execution_count": 15,
   "id": "17dc8186",
   "metadata": {
    "execution": {
     "iopub.execute_input": "2022-05-08T09:39:02.125042Z",
     "iopub.status.busy": "2022-05-08T09:39:02.123991Z",
     "iopub.status.idle": "2022-05-08T09:39:02.136936Z",
     "shell.execute_reply": "2022-05-08T09:39:02.135150Z"
    },
    "papermill": {
     "duration": 0.054002,
     "end_time": "2022-05-08T09:39:02.140404",
     "exception": false,
     "start_time": "2022-05-08T09:39:02.086402",
     "status": "completed"
    },
    "tags": []
   },
   "outputs": [
    {
     "name": "stderr",
     "output_type": "stream",
     "text": [
      "/opt/conda/lib/python3.7/site-packages/sklearn/base.py:451: UserWarning: X does not have valid feature names, but GaussianNB was fitted with feature names\n",
      "  \"X does not have valid feature names, but\"\n"
     ]
    },
    {
     "data": {
      "text/plain": [
       "array([0])"
      ]
     },
     "execution_count": 15,
     "metadata": {},
     "output_type": "execute_result"
    }
   ],
   "source": [
    "modnb.predict([[4.8,3.0,1.5,0.3]])"
   ]
  },
  {
   "cell_type": "markdown",
   "id": "aa4c13b2",
   "metadata": {
    "papermill": {
     "duration": 0.035418,
     "end_time": "2022-05-08T09:39:02.214583",
     "exception": false,
     "start_time": "2022-05-08T09:39:02.179165",
     "status": "completed"
    },
    "tags": []
   },
   "source": [
    "# Comparing Model"
   ]
  },
  {
   "cell_type": "code",
   "execution_count": 16,
   "id": "1bdd82cf",
   "metadata": {
    "execution": {
     "iopub.execute_input": "2022-05-08T09:39:02.291344Z",
     "iopub.status.busy": "2022-05-08T09:39:02.290712Z",
     "iopub.status.idle": "2022-05-08T09:39:02.575653Z",
     "shell.execute_reply": "2022-05-08T09:39:02.575002Z"
    },
    "papermill": {
     "duration": 0.328063,
     "end_time": "2022-05-08T09:39:02.578480",
     "exception": false,
     "start_time": "2022-05-08T09:39:02.250417",
     "status": "completed"
    },
    "tags": []
   },
   "outputs": [
    {
     "data": {
      "image/png": "[encoded data removed]",
      "text/plain": [
       "<Figure size 1152x360 with 1 Axes>"
      ]
     },
     "metadata": {},
     "output_type": "display_data"
    }
   ],
   "source": [
    "colors = [\"red\", \"green\", \"orange\", \"blue\", \"black\"]\n",
    "\n",
    "sns.set_style(\"whitegrid\")\n",
    "plt.figure(figsize=(16,5))\n",
    "plt.yticks(np.arange(0,100,10))\n",
    "plt.ylabel(\"Accuracy %\")\n",
    "plt.xlabel(\"Model\", size=18)\n",
    "sns.barplot(x=list(accuracies.keys()), y=list(accuracies.values()), palette=colors)\n",
    "plt.show()"
   ]
  },
  {
   "cell_type": "markdown",
   "id": "7d2d24ca",
   "metadata": {
    "papermill": {
     "duration": 0.037897,
     "end_time": "2022-05-08T09:39:02.653747",
     "exception": false,
     "start_time": "2022-05-08T09:39:02.615850",
     "status": "completed"
    },
    "tags": []
   },
   "source": [
    "# Confusion Matrix"
   ]
  },
  {
   "cell_type": "code",
   "execution_count": 17,
   "id": "bff55da0",
   "metadata": {
    "execution": {
     "iopub.execute_input": "2022-05-08T09:39:02.733340Z",
     "iopub.status.busy": "2022-05-08T09:39:02.732206Z",
     "iopub.status.idle": "2022-05-08T09:39:02.759325Z",
     "shell.execute_reply": "2022-05-08T09:39:02.758279Z"
    },
    "papermill": {
     "duration": 0.070562,
     "end_time": "2022-05-08T09:39:02.762154",
     "exception": false,
     "start_time": "2022-05-08T09:39:02.691592",
     "status": "completed"
    },
    "tags": []
   },
   "outputs": [],
   "source": [
    "y_pred_modlrm = modlrm.predict(X_test)\n",
    "y_pred_modsvm = modsvm.predict(X_test)\n",
    "y_pred_moddt = moddt.predict(X_test)\n",
    "y_pred_modrf = modrf.predict(X_test)\n",
    "y_pred_modnb = modnb.predict(X_test)"
   ]
  },
  {
   "cell_type": "code",
   "execution_count": 18,
   "id": "a9cff20b",
   "metadata": {
    "execution": {
     "iopub.execute_input": "2022-05-08T09:39:02.844770Z",
     "iopub.status.busy": "2022-05-08T09:39:02.844385Z",
     "iopub.status.idle": "2022-05-08T09:39:02.860792Z",
     "shell.execute_reply": "2022-05-08T09:39:02.859490Z"
    },
    "papermill": {
     "duration": 0.06254,
     "end_time": "2022-05-08T09:39:02.863744",
     "exception": false,
     "start_time": "2022-05-08T09:39:02.801204",
     "status": "completed"
    },
    "tags": []
   },
   "outputs": [],
   "source": [
    "from sklearn.metrics import confusion_matrix\n",
    "cm_modlrm = confusion_matrix(y_test, y_pred_modlrm)\n",
    "cm_modsvm = confusion_matrix(y_test, y_pred_modsvm)\n",
    "cm_moddt = confusion_matrix(y_test, y_pred_moddt)\n",
    "cm_modrf = confusion_matrix(y_test, y_pred_modrf)\n",
    "cm_modnb = confusion_matrix(y_test, y_pred_modnb)"
   ]
  },
  {
   "cell_type": "code",
   "execution_count": 19,
   "id": "14b73367",
   "metadata": {
    "execution": {
     "iopub.execute_input": "2022-05-08T09:39:02.947306Z",
     "iopub.status.busy": "2022-05-08T09:39:02.946000Z",
     "iopub.status.idle": "2022-05-08T09:39:03.752498Z",
     "shell.execute_reply": "2022-05-08T09:39:03.751605Z"
    },
    "papermill": {
     "duration": 0.850166,
     "end_time": "2022-05-08T09:39:03.755214",
     "exception": false,
     "start_time": "2022-05-08T09:39:02.905048",
     "status": "completed"
    },
    "tags": []
   },
   "outputs": [
    {
     "data": {
      "image/png": "[encoded data removed]",
      "text/plain": [
       "<Figure size 1296x864 with 5 Axes>"
      ]
     },
     "metadata": {},
     "output_type": "display_data"
    }
   ],
   "source": [
    "plt.figure(figsize=(18,12))\n",
    "\n",
    "plt.suptitle(\"Confusion Matrixes\",fontsize=24)\n",
    "\n",
    "\n",
    "plt.subplot(2,3,1)\n",
    "plt.title(\"Logistic Regression Classifier\")\n",
    "sns.heatmap(cm_modlrm,annot=True,cmap=\"Blues\",fmt=\"d\",cbar=False, annot_kws={\"size\": 24})\n",
    "\n",
    "plt.subplot(2,3,2)\n",
    "plt.title(\"Support Vector Machine Classifier\")\n",
    "sns.heatmap(cm_modsvm,annot=True,cmap=\"Blues\",fmt=\"d\",cbar=False, annot_kws={\"size\": 24})\n",
    "\n",
    "plt.subplot(2,3,3)\n",
    "plt.title(\"Decision Tree Classifier\")\n",
    "sns.heatmap(cm_moddt,annot=True,cmap=\"Blues\",fmt=\"d\",cbar=False, annot_kws={\"size\": 24})\n",
    "\n",
    "plt.subplot(2,3,4)\n",
    "plt.title(\"Random Forest Classifier\")\n",
    "sns.heatmap(cm_modrf,annot=True,cmap=\"Blues\",fmt=\"d\",cbar=False, annot_kws={\"size\": 24})\n",
    "\n",
    "plt.subplot(2,3,5)\n",
    "plt.title(\"Naive Bayes Classifier\")\n",
    "sns.heatmap(cm_modnb,annot=True,cmap=\"Blues\",fmt=\"d\",cbar=False, annot_kws={\"size\": 24})\n",
    "\n",
    "plt.show()"
   ]
  }
 ],
 "metadata": {
  "kernelspec": {
   "display_name": "Python 3",
   "language": "python",
   "name": "python3"
  },
  "language_info": {
   "codemirror_mode": {
    "name": "ipython",
    "version": 3
   },
   "file_extension": ".py",
   "mimetype": "text/x-python",
   "name": "python",
   "nbconvert_exporter": "python",
   "pygments_lexer": "ipython3",
   "version": "3.7.12"
  },
  "papermill": {
   "default_parameters": {},
   "duration": 18.782548,
   "end_time": "2022-05-08T09:39:04.921670",
   "environment_variables": {},
   "exception": null,
   "input_path": "__notebook__.ipynb",
   "output_path": "__notebook__.ipynb",
   "parameters": {},
   "start_time": "2022-05-08T09:38:46.139122",
   "version": "2.3.4"
  }
 },
 "nbformat": 4,
 "nbformat_minor": 5
}
