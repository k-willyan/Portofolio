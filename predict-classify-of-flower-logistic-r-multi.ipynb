{
 "cells": [
  {
   "cell_type": "markdown",
   "id": "e985a6ae",
   "metadata": {
    "papermill": {
     "duration": 0.030079,
     "end_time": "2022-05-08T08:57:29.863328",
     "exception": false,
     "start_time": "2022-05-08T08:57:29.833249",
     "status": "completed"
    },
    "tags": []
   },
   "source": [
    "# Import Libraries"
   ]
  },
  {
   "cell_type": "code",
   "execution_count": 1,
   "id": "87bfd806",
   "metadata": {
    "_cell_guid": "b1076dfc-b9ad-4769-8c92-a6c4dae69d19",
    "_uuid": "8f2839f25d086af736a60e9eeb907d3b93b6e0e5",
    "execution": {
     "iopub.execute_input": "2022-05-08T08:57:29.920782Z",
     "iopub.status.busy": "2022-05-08T08:57:29.919768Z",
     "iopub.status.idle": "2022-05-08T08:57:31.300312Z",
     "shell.execute_reply": "2022-05-08T08:57:31.299538Z"
    },
    "papermill": {
     "duration": 1.41486,
     "end_time": "2022-05-08T08:57:31.303092",
     "exception": false,
     "start_time": "2022-05-08T08:57:29.888232",
     "status": "completed"
    },
    "tags": []
   },
   "outputs": [],
   "source": [
    "import numpy as np\n",
    "import pandas as pd\n",
    "import matplotlib.pyplot as plt\n",
    "import seaborn as sns\n",
    "from sklearn.datasets import load_iris\n",
    "iris = load_iris()"
   ]
  },
  {
   "cell_type": "markdown",
   "id": "6ea55ee6",
   "metadata": {
    "papermill": {
     "duration": 0.024217,
     "end_time": "2022-05-08T08:57:31.351783",
     "exception": false,
     "start_time": "2022-05-08T08:57:31.327566",
     "status": "completed"
    },
    "tags": []
   },
   "source": [
    "**Look inside of iris**"
   ]
  },
  {
   "cell_type": "code",
   "execution_count": 2,
   "id": "128b9baa",
   "metadata": {
    "execution": {
     "iopub.execute_input": "2022-05-08T08:57:31.403997Z",
     "iopub.status.busy": "2022-05-08T08:57:31.403453Z",
     "iopub.status.idle": "2022-05-08T08:57:31.412183Z",
     "shell.execute_reply": "2022-05-08T08:57:31.411073Z"
    },
    "papermill": {
     "duration": 0.037623,
     "end_time": "2022-05-08T08:57:31.414302",
     "exception": false,
     "start_time": "2022-05-08T08:57:31.376679",
     "status": "completed"
    },
    "tags": []
   },
   "outputs": [
    {
     "data": {
      "text/plain": [
       "['DESCR',\n",
       " 'data',\n",
       " 'data_module',\n",
       " 'feature_names',\n",
       " 'filename',\n",
       " 'frame',\n",
       " 'target',\n",
       " 'target_names']"
      ]
     },
     "execution_count": 2,
     "metadata": {},
     "output_type": "execute_result"
    }
   ],
   "source": [
    "dir(iris)"
   ]
  },
  {
   "cell_type": "markdown",
   "id": "9a318b66",
   "metadata": {
    "papermill": {
     "duration": 0.026456,
     "end_time": "2022-05-08T08:57:31.465932",
     "exception": false,
     "start_time": "2022-05-08T08:57:31.439476",
     "status": "completed"
    },
    "tags": []
   },
   "source": [
    "# Dataset"
   ]
  },
  {
   "cell_type": "markdown",
   "id": "dfb55420",
   "metadata": {
    "papermill": {
     "duration": 0.024617,
     "end_time": "2022-05-08T08:57:31.515286",
     "exception": false,
     "start_time": "2022-05-08T08:57:31.490669",
     "status": "completed"
    },
    "tags": []
   },
   "source": [
    "**Pick feature_names**"
   ]
  },
  {
   "cell_type": "code",
   "execution_count": 3,
   "id": "300914f3",
   "metadata": {
    "execution": {
     "iopub.execute_input": "2022-05-08T08:57:31.567617Z",
     "iopub.status.busy": "2022-05-08T08:57:31.566644Z",
     "iopub.status.idle": "2022-05-08T08:57:31.571969Z",
     "shell.execute_reply": "2022-05-08T08:57:31.571411Z"
    },
    "papermill": {
     "duration": 0.033749,
     "end_time": "2022-05-08T08:57:31.573915",
     "exception": false,
     "start_time": "2022-05-08T08:57:31.540166",
     "status": "completed"
    },
    "tags": []
   },
   "outputs": [
    {
     "data": {
      "text/plain": [
       "['sepal length (cm)',\n",
       " 'sepal width (cm)',\n",
       " 'petal length (cm)',\n",
       " 'petal width (cm)']"
      ]
     },
     "execution_count": 3,
     "metadata": {},
     "output_type": "execute_result"
    }
   ],
   "source": [
    "iris.feature_names"
   ]
  },
  {
   "cell_type": "code",
   "execution_count": 4,
   "id": "da408593",
   "metadata": {
    "execution": {
     "iopub.execute_input": "2022-05-08T08:57:31.626210Z",
     "iopub.status.busy": "2022-05-08T08:57:31.625652Z",
     "iopub.status.idle": "2022-05-08T08:57:31.652956Z",
     "shell.execute_reply": "2022-05-08T08:57:31.652328Z"
    },
    "papermill": {
     "duration": 0.055968,
     "end_time": "2022-05-08T08:57:31.654876",
     "exception": false,
     "start_time": "2022-05-08T08:57:31.598908",
     "status": "completed"
    },
    "tags": []
   },
   "outputs": [
    {
     "data": {
      "text/html": [
       "<div>\n",
       "<style scoped>\n",
       "    .dataframe tbody tr th:only-of-type {\n",
       "        vertical-align: middle;\n",
       "    }\n",
       "\n",
       "    .dataframe tbody tr th {\n",
       "        vertical-align: top;\n",
       "    }\n",
       "\n",
       "    .dataframe thead th {\n",
       "        text-align: right;\n",
       "    }\n",
       "</style>\n",
       "<table border=\"1\" class=\"dataframe\">\n",
       "  <thead>\n",
       "    <tr style=\"text-align: right;\">\n",
       "      <th></th>\n",
       "      <th>sepal length (cm)</th>\n",
       "      <th>sepal width (cm)</th>\n",
       "      <th>petal length (cm)</th>\n",
       "      <th>petal width (cm)</th>\n",
       "    </tr>\n",
       "  </thead>\n",
       "  <tbody>\n",
       "    <tr>\n",
       "      <th>0</th>\n",
       "      <td>5.1</td>\n",
       "      <td>3.5</td>\n",
       "      <td>1.4</td>\n",
       "      <td>0.2</td>\n",
       "    </tr>\n",
       "    <tr>\n",
       "      <th>1</th>\n",
       "      <td>4.9</td>\n",
       "      <td>3.0</td>\n",
       "      <td>1.4</td>\n",
       "      <td>0.2</td>\n",
       "    </tr>\n",
       "    <tr>\n",
       "      <th>2</th>\n",
       "      <td>4.7</td>\n",
       "      <td>3.2</td>\n",
       "      <td>1.3</td>\n",
       "      <td>0.2</td>\n",
       "    </tr>\n",
       "    <tr>\n",
       "      <th>3</th>\n",
       "      <td>4.6</td>\n",
       "      <td>3.1</td>\n",
       "      <td>1.5</td>\n",
       "      <td>0.2</td>\n",
       "    </tr>\n",
       "    <tr>\n",
       "      <th>4</th>\n",
       "      <td>5.0</td>\n",
       "      <td>3.6</td>\n",
       "      <td>1.4</td>\n",
       "      <td>0.2</td>\n",
       "    </tr>\n",
       "    <tr>\n",
       "      <th>...</th>\n",
       "      <td>...</td>\n",
       "      <td>...</td>\n",
       "      <td>...</td>\n",
       "      <td>...</td>\n",
       "    </tr>\n",
       "    <tr>\n",
       "      <th>145</th>\n",
       "      <td>6.7</td>\n",
       "      <td>3.0</td>\n",
       "      <td>5.2</td>\n",
       "      <td>2.3</td>\n",
       "    </tr>\n",
       "    <tr>\n",
       "      <th>146</th>\n",
       "      <td>6.3</td>\n",
       "      <td>2.5</td>\n",
       "      <td>5.0</td>\n",
       "      <td>1.9</td>\n",
       "    </tr>\n",
       "    <tr>\n",
       "      <th>147</th>\n",
       "      <td>6.5</td>\n",
       "      <td>3.0</td>\n",
       "      <td>5.2</td>\n",
       "      <td>2.0</td>\n",
       "    </tr>\n",
       "    <tr>\n",
       "      <th>148</th>\n",
       "      <td>6.2</td>\n",
       "      <td>3.4</td>\n",
       "      <td>5.4</td>\n",
       "      <td>2.3</td>\n",
       "    </tr>\n",
       "    <tr>\n",
       "      <th>149</th>\n",
       "      <td>5.9</td>\n",
       "      <td>3.0</td>\n",
       "      <td>5.1</td>\n",
       "      <td>1.8</td>\n",
       "    </tr>\n",
       "  </tbody>\n",
       "</table>\n",
       "<p>150 rows × 4 columns</p>\n",
       "</div>"
      ],
      "text/plain": [
       "     sepal length (cm)  sepal width (cm)  petal length (cm)  petal width (cm)\n",
       "0                  5.1               3.5                1.4               0.2\n",
       "1                  4.9               3.0                1.4               0.2\n",
       "2                  4.7               3.2                1.3               0.2\n",
       "3                  4.6               3.1                1.5               0.2\n",
       "4                  5.0               3.6                1.4               0.2\n",
       "..                 ...               ...                ...               ...\n",
       "145                6.7               3.0                5.2               2.3\n",
       "146                6.3               2.5                5.0               1.9\n",
       "147                6.5               3.0                5.2               2.0\n",
       "148                6.2               3.4                5.4               2.3\n",
       "149                5.9               3.0                5.1               1.8\n",
       "\n",
       "[150 rows x 4 columns]"
      ]
     },
     "execution_count": 4,
     "metadata": {},
     "output_type": "execute_result"
    }
   ],
   "source": [
    "df = pd.DataFrame(iris.data,columns=iris.feature_names)\n",
    "df"
   ]
  },
  {
   "cell_type": "markdown",
   "id": "0030e18d",
   "metadata": {
    "papermill": {
     "duration": 0.025141,
     "end_time": "2022-05-08T08:57:31.705427",
     "exception": false,
     "start_time": "2022-05-08T08:57:31.680286",
     "status": "completed"
    },
    "tags": []
   },
   "source": [
    "**Add Target on Dataframe**"
   ]
  },
  {
   "cell_type": "code",
   "execution_count": 5,
   "id": "4b63bd9b",
   "metadata": {
    "execution": {
     "iopub.execute_input": "2022-05-08T08:57:31.758854Z",
     "iopub.status.busy": "2022-05-08T08:57:31.758373Z",
     "iopub.status.idle": "2022-05-08T08:57:31.776183Z",
     "shell.execute_reply": "2022-05-08T08:57:31.775129Z"
    },
    "papermill": {
     "duration": 0.047447,
     "end_time": "2022-05-08T08:57:31.778640",
     "exception": false,
     "start_time": "2022-05-08T08:57:31.731193",
     "status": "completed"
    },
    "tags": []
   },
   "outputs": [
    {
     "data": {
      "text/html": [
       "<div>\n",
       "<style scoped>\n",
       "    .dataframe tbody tr th:only-of-type {\n",
       "        vertical-align: middle;\n",
       "    }\n",
       "\n",
       "    .dataframe tbody tr th {\n",
       "        vertical-align: top;\n",
       "    }\n",
       "\n",
       "    .dataframe thead th {\n",
       "        text-align: right;\n",
       "    }\n",
       "</style>\n",
       "<table border=\"1\" class=\"dataframe\">\n",
       "  <thead>\n",
       "    <tr style=\"text-align: right;\">\n",
       "      <th></th>\n",
       "      <th>sepal length (cm)</th>\n",
       "      <th>sepal width (cm)</th>\n",
       "      <th>petal length (cm)</th>\n",
       "      <th>petal width (cm)</th>\n",
       "      <th>target</th>\n",
       "    </tr>\n",
       "  </thead>\n",
       "  <tbody>\n",
       "    <tr>\n",
       "      <th>0</th>\n",
       "      <td>5.1</td>\n",
       "      <td>3.5</td>\n",
       "      <td>1.4</td>\n",
       "      <td>0.2</td>\n",
       "      <td>0</td>\n",
       "    </tr>\n",
       "    <tr>\n",
       "      <th>1</th>\n",
       "      <td>4.9</td>\n",
       "      <td>3.0</td>\n",
       "      <td>1.4</td>\n",
       "      <td>0.2</td>\n",
       "      <td>0</td>\n",
       "    </tr>\n",
       "    <tr>\n",
       "      <th>2</th>\n",
       "      <td>4.7</td>\n",
       "      <td>3.2</td>\n",
       "      <td>1.3</td>\n",
       "      <td>0.2</td>\n",
       "      <td>0</td>\n",
       "    </tr>\n",
       "    <tr>\n",
       "      <th>3</th>\n",
       "      <td>4.6</td>\n",
       "      <td>3.1</td>\n",
       "      <td>1.5</td>\n",
       "      <td>0.2</td>\n",
       "      <td>0</td>\n",
       "    </tr>\n",
       "    <tr>\n",
       "      <th>4</th>\n",
       "      <td>5.0</td>\n",
       "      <td>3.6</td>\n",
       "      <td>1.4</td>\n",
       "      <td>0.2</td>\n",
       "      <td>0</td>\n",
       "    </tr>\n",
       "  </tbody>\n",
       "</table>\n",
       "</div>"
      ],
      "text/plain": [
       "   sepal length (cm)  sepal width (cm)  petal length (cm)  petal width (cm)  \\\n",
       "0                5.1               3.5                1.4               0.2   \n",
       "1                4.9               3.0                1.4               0.2   \n",
       "2                4.7               3.2                1.3               0.2   \n",
       "3                4.6               3.1                1.5               0.2   \n",
       "4                5.0               3.6                1.4               0.2   \n",
       "\n",
       "   target  \n",
       "0       0  \n",
       "1       0  \n",
       "2       0  \n",
       "3       0  \n",
       "4       0  "
      ]
     },
     "execution_count": 5,
     "metadata": {},
     "output_type": "execute_result"
    }
   ],
   "source": [
    "df['target'] = iris.target\n",
    "df.head()"
   ]
  },
  {
   "cell_type": "markdown",
   "id": "4b1f7104",
   "metadata": {
    "papermill": {
     "duration": 0.02551,
     "end_time": "2022-05-08T08:57:31.831691",
     "exception": false,
     "start_time": "2022-05-08T08:57:31.806181",
     "status": "completed"
    },
    "tags": []
   },
   "source": [
    "**Add target_names**"
   ]
  },
  {
   "cell_type": "code",
   "execution_count": 6,
   "id": "d49ba039",
   "metadata": {
    "execution": {
     "iopub.execute_input": "2022-05-08T08:57:31.888559Z",
     "iopub.status.busy": "2022-05-08T08:57:31.887569Z",
     "iopub.status.idle": "2022-05-08T08:57:31.894004Z",
     "shell.execute_reply": "2022-05-08T08:57:31.893167Z"
    },
    "papermill": {
     "duration": 0.037284,
     "end_time": "2022-05-08T08:57:31.896023",
     "exception": false,
     "start_time": "2022-05-08T08:57:31.858739",
     "status": "completed"
    },
    "tags": []
   },
   "outputs": [
    {
     "data": {
      "text/plain": [
       "array(['setosa', 'versicolor', 'virginica'], dtype='<U10')"
      ]
     },
     "execution_count": 6,
     "metadata": {},
     "output_type": "execute_result"
    }
   ],
   "source": [
    "iris.target_names"
   ]
  },
  {
   "cell_type": "code",
   "execution_count": 7,
   "id": "47635e28",
   "metadata": {
    "execution": {
     "iopub.execute_input": "2022-05-08T08:57:31.952343Z",
     "iopub.status.busy": "2022-05-08T08:57:31.951986Z",
     "iopub.status.idle": "2022-05-08T08:57:31.971187Z",
     "shell.execute_reply": "2022-05-08T08:57:31.970278Z"
    },
    "papermill": {
     "duration": 0.049455,
     "end_time": "2022-05-08T08:57:31.973349",
     "exception": false,
     "start_time": "2022-05-08T08:57:31.923894",
     "status": "completed"
    },
    "tags": []
   },
   "outputs": [
    {
     "data": {
      "text/html": [
       "<div>\n",
       "<style scoped>\n",
       "    .dataframe tbody tr th:only-of-type {\n",
       "        vertical-align: middle;\n",
       "    }\n",
       "\n",
       "    .dataframe tbody tr th {\n",
       "        vertical-align: top;\n",
       "    }\n",
       "\n",
       "    .dataframe thead th {\n",
       "        text-align: right;\n",
       "    }\n",
       "</style>\n",
       "<table border=\"1\" class=\"dataframe\">\n",
       "  <thead>\n",
       "    <tr style=\"text-align: right;\">\n",
       "      <th></th>\n",
       "      <th>sepal length (cm)</th>\n",
       "      <th>sepal width (cm)</th>\n",
       "      <th>petal length (cm)</th>\n",
       "      <th>petal width (cm)</th>\n",
       "      <th>target</th>\n",
       "      <th>flower_name</th>\n",
       "    </tr>\n",
       "  </thead>\n",
       "  <tbody>\n",
       "    <tr>\n",
       "      <th>0</th>\n",
       "      <td>5.1</td>\n",
       "      <td>3.5</td>\n",
       "      <td>1.4</td>\n",
       "      <td>0.2</td>\n",
       "      <td>0</td>\n",
       "      <td>setosa</td>\n",
       "    </tr>\n",
       "    <tr>\n",
       "      <th>1</th>\n",
       "      <td>4.9</td>\n",
       "      <td>3.0</td>\n",
       "      <td>1.4</td>\n",
       "      <td>0.2</td>\n",
       "      <td>0</td>\n",
       "      <td>setosa</td>\n",
       "    </tr>\n",
       "    <tr>\n",
       "      <th>2</th>\n",
       "      <td>4.7</td>\n",
       "      <td>3.2</td>\n",
       "      <td>1.3</td>\n",
       "      <td>0.2</td>\n",
       "      <td>0</td>\n",
       "      <td>setosa</td>\n",
       "    </tr>\n",
       "    <tr>\n",
       "      <th>3</th>\n",
       "      <td>4.6</td>\n",
       "      <td>3.1</td>\n",
       "      <td>1.5</td>\n",
       "      <td>0.2</td>\n",
       "      <td>0</td>\n",
       "      <td>setosa</td>\n",
       "    </tr>\n",
       "    <tr>\n",
       "      <th>4</th>\n",
       "      <td>5.0</td>\n",
       "      <td>3.6</td>\n",
       "      <td>1.4</td>\n",
       "      <td>0.2</td>\n",
       "      <td>0</td>\n",
       "      <td>setosa</td>\n",
       "    </tr>\n",
       "    <tr>\n",
       "      <th>...</th>\n",
       "      <td>...</td>\n",
       "      <td>...</td>\n",
       "      <td>...</td>\n",
       "      <td>...</td>\n",
       "      <td>...</td>\n",
       "      <td>...</td>\n",
       "    </tr>\n",
       "    <tr>\n",
       "      <th>145</th>\n",
       "      <td>6.7</td>\n",
       "      <td>3.0</td>\n",
       "      <td>5.2</td>\n",
       "      <td>2.3</td>\n",
       "      <td>2</td>\n",
       "      <td>virginica</td>\n",
       "    </tr>\n",
       "    <tr>\n",
       "      <th>146</th>\n",
       "      <td>6.3</td>\n",
       "      <td>2.5</td>\n",
       "      <td>5.0</td>\n",
       "      <td>1.9</td>\n",
       "      <td>2</td>\n",
       "      <td>virginica</td>\n",
       "    </tr>\n",
       "    <tr>\n",
       "      <th>147</th>\n",
       "      <td>6.5</td>\n",
       "      <td>3.0</td>\n",
       "      <td>5.2</td>\n",
       "      <td>2.0</td>\n",
       "      <td>2</td>\n",
       "      <td>virginica</td>\n",
       "    </tr>\n",
       "    <tr>\n",
       "      <th>148</th>\n",
       "      <td>6.2</td>\n",
       "      <td>3.4</td>\n",
       "      <td>5.4</td>\n",
       "      <td>2.3</td>\n",
       "      <td>2</td>\n",
       "      <td>virginica</td>\n",
       "    </tr>\n",
       "    <tr>\n",
       "      <th>149</th>\n",
       "      <td>5.9</td>\n",
       "      <td>3.0</td>\n",
       "      <td>5.1</td>\n",
       "      <td>1.8</td>\n",
       "      <td>2</td>\n",
       "      <td>virginica</td>\n",
       "    </tr>\n",
       "  </tbody>\n",
       "</table>\n",
       "<p>150 rows × 6 columns</p>\n",
       "</div>"
      ],
      "text/plain": [
       "     sepal length (cm)  sepal width (cm)  petal length (cm)  petal width (cm)  \\\n",
       "0                  5.1               3.5                1.4               0.2   \n",
       "1                  4.9               3.0                1.4               0.2   \n",
       "2                  4.7               3.2                1.3               0.2   \n",
       "3                  4.6               3.1                1.5               0.2   \n",
       "4                  5.0               3.6                1.4               0.2   \n",
       "..                 ...               ...                ...               ...   \n",
       "145                6.7               3.0                5.2               2.3   \n",
       "146                6.3               2.5                5.0               1.9   \n",
       "147                6.5               3.0                5.2               2.0   \n",
       "148                6.2               3.4                5.4               2.3   \n",
       "149                5.9               3.0                5.1               1.8   \n",
       "\n",
       "     target flower_name  \n",
       "0         0      setosa  \n",
       "1         0      setosa  \n",
       "2         0      setosa  \n",
       "3         0      setosa  \n",
       "4         0      setosa  \n",
       "..      ...         ...  \n",
       "145       2   virginica  \n",
       "146       2   virginica  \n",
       "147       2   virginica  \n",
       "148       2   virginica  \n",
       "149       2   virginica  \n",
       "\n",
       "[150 rows x 6 columns]"
      ]
     },
     "execution_count": 7,
     "metadata": {},
     "output_type": "execute_result"
    }
   ],
   "source": [
    "df['flower_name'] =df.target.apply(lambda x: iris.target_names[x])\n",
    "df"
   ]
  },
  {
   "cell_type": "markdown",
   "id": "a63d7b39",
   "metadata": {
    "papermill": {
     "duration": 0.027988,
     "end_time": "2022-05-08T08:57:32.028156",
     "exception": false,
     "start_time": "2022-05-08T08:57:32.000168",
     "status": "completed"
    },
    "tags": []
   },
   "source": [
    "# Splitting Data"
   ]
  },
  {
   "cell_type": "code",
   "execution_count": 8,
   "id": "f7e26016",
   "metadata": {
    "execution": {
     "iopub.execute_input": "2022-05-08T08:57:32.083841Z",
     "iopub.status.busy": "2022-05-08T08:57:32.083482Z",
     "iopub.status.idle": "2022-05-08T08:57:32.144639Z",
     "shell.execute_reply": "2022-05-08T08:57:32.143746Z"
    },
    "papermill": {
     "duration": 0.092077,
     "end_time": "2022-05-08T08:57:32.147243",
     "exception": false,
     "start_time": "2022-05-08T08:57:32.055166",
     "status": "completed"
    },
    "tags": []
   },
   "outputs": [],
   "source": [
    "from sklearn.model_selection import train_test_split"
   ]
  },
  {
   "cell_type": "code",
   "execution_count": 9,
   "id": "06afae99",
   "metadata": {
    "execution": {
     "iopub.execute_input": "2022-05-08T08:57:32.208812Z",
     "iopub.status.busy": "2022-05-08T08:57:32.207962Z",
     "iopub.status.idle": "2022-05-08T08:57:32.218497Z",
     "shell.execute_reply": "2022-05-08T08:57:32.217482Z"
    },
    "papermill": {
     "duration": 0.045234,
     "end_time": "2022-05-08T08:57:32.221129",
     "exception": false,
     "start_time": "2022-05-08T08:57:32.175895",
     "status": "completed"
    },
    "tags": []
   },
   "outputs": [],
   "source": [
    "X = df.drop(['target','flower_name'], axis='columns')\n",
    "y = df.target"
   ]
  },
  {
   "cell_type": "code",
   "execution_count": 10,
   "id": "ff0a6061",
   "metadata": {
    "execution": {
     "iopub.execute_input": "2022-05-08T08:57:32.276959Z",
     "iopub.status.busy": "2022-05-08T08:57:32.276635Z",
     "iopub.status.idle": "2022-05-08T08:57:32.282891Z",
     "shell.execute_reply": "2022-05-08T08:57:32.281914Z"
    },
    "papermill": {
     "duration": 0.036958,
     "end_time": "2022-05-08T08:57:32.285225",
     "exception": false,
     "start_time": "2022-05-08T08:57:32.248267",
     "status": "completed"
    },
    "tags": []
   },
   "outputs": [],
   "source": [
    "X_train, X_test, y_train, y_test = train_test_split(X, y, test_size=0.1)"
   ]
  },
  {
   "cell_type": "markdown",
   "id": "18f2b1ef",
   "metadata": {
    "papermill": {
     "duration": 0.026734,
     "end_time": "2022-05-08T08:57:32.338965",
     "exception": false,
     "start_time": "2022-05-08T08:57:32.312231",
     "status": "completed"
    },
    "tags": []
   },
   "source": [
    "# Logistic Regression Model"
   ]
  },
  {
   "cell_type": "code",
   "execution_count": 11,
   "id": "1c28bccc",
   "metadata": {
    "execution": {
     "iopub.execute_input": "2022-05-08T08:57:32.394783Z",
     "iopub.status.busy": "2022-05-08T08:57:32.394449Z",
     "iopub.status.idle": "2022-05-08T08:57:32.523947Z",
     "shell.execute_reply": "2022-05-08T08:57:32.522972Z"
    },
    "papermill": {
     "duration": 0.16182,
     "end_time": "2022-05-08T08:57:32.527698",
     "exception": false,
     "start_time": "2022-05-08T08:57:32.365878",
     "status": "completed"
    },
    "tags": []
   },
   "outputs": [
    {
     "name": "stdout",
     "output_type": "stream",
     "text": [
      "Test Accuracy 100.00%\n"
     ]
    },
    {
     "name": "stderr",
     "output_type": "stream",
     "text": [
      "/opt/conda/lib/python3.7/site-packages/sklearn/linear_model/_logistic.py:818: ConvergenceWarning: lbfgs failed to converge (status=1):\n",
      "STOP: TOTAL NO. of ITERATIONS REACHED LIMIT.\n",
      "\n",
      "Increase the number of iterations (max_iter) or scale the data as shown in:\n",
      "    https://scikit-learn.org/stable/modules/preprocessing.html\n",
      "Please also refer to the documentation for alternative solver options:\n",
      "    https://scikit-learn.org/stable/modules/linear_model.html#logistic-regression\n",
      "  extra_warning_msg=_LOGISTIC_SOLVER_CONVERGENCE_MSG,\n"
     ]
    }
   ],
   "source": [
    "from sklearn.linear_model import LogisticRegression\n",
    "modlrm = LogisticRegression()\n",
    "\n",
    "modlrm.fit(X_train, y_train)\n",
    "\n",
    "accuracies = {}\n",
    "acc = modlrm.score(X_test,y_test)*100\n",
    "\n",
    "accuracies['Logistic Regression'] = acc\n",
    "print(\"Test Accuracy {:.2f}%\".format(acc))"
   ]
  },
  {
   "cell_type": "code",
   "execution_count": 12,
   "id": "45796818",
   "metadata": {
    "execution": {
     "iopub.execute_input": "2022-05-08T08:57:32.584860Z",
     "iopub.status.busy": "2022-05-08T08:57:32.584548Z",
     "iopub.status.idle": "2022-05-08T08:57:32.593610Z",
     "shell.execute_reply": "2022-05-08T08:57:32.592938Z"
    },
    "papermill": {
     "duration": 0.04133,
     "end_time": "2022-05-08T08:57:32.596560",
     "exception": false,
     "start_time": "2022-05-08T08:57:32.555230",
     "status": "completed"
    },
    "tags": []
   },
   "outputs": [
    {
     "name": "stderr",
     "output_type": "stream",
     "text": [
      "/opt/conda/lib/python3.7/site-packages/sklearn/base.py:451: UserWarning: X does not have valid feature names, but LogisticRegression was fitted with feature names\n",
      "  \"X does not have valid feature names, but\"\n"
     ]
    },
    {
     "data": {
      "text/plain": [
       "array([0])"
      ]
     },
     "execution_count": 12,
     "metadata": {},
     "output_type": "execute_result"
    }
   ],
   "source": [
    "modlrm.predict([[4.8,3.0,1.5,0.3]])"
   ]
  },
  {
   "cell_type": "markdown",
   "id": "fb59fd4e",
   "metadata": {
    "papermill": {
     "duration": 0.02793,
     "end_time": "2022-05-08T08:57:32.652709",
     "exception": false,
     "start_time": "2022-05-08T08:57:32.624779",
     "status": "completed"
    },
    "tags": []
   },
   "source": [
    "# Support Vector Machine (SVM) Model"
   ]
  },
  {
   "cell_type": "code",
   "execution_count": 13,
   "id": "d164630a",
   "metadata": {
    "execution": {
     "iopub.execute_input": "2022-05-08T08:57:32.711859Z",
     "iopub.status.busy": "2022-05-08T08:57:32.710660Z",
     "iopub.status.idle": "2022-05-08T08:57:32.722821Z",
     "shell.execute_reply": "2022-05-08T08:57:32.721937Z"
    },
    "papermill": {
     "duration": 0.043902,
     "end_time": "2022-05-08T08:57:32.724744",
     "exception": false,
     "start_time": "2022-05-08T08:57:32.680842",
     "status": "completed"
    },
    "tags": []
   },
   "outputs": [
    {
     "name": "stdout",
     "output_type": "stream",
     "text": [
      "Test Accuracy of SVM : 100.00%\n"
     ]
    }
   ],
   "source": [
    "from sklearn.svm import SVC\n",
    "modsvm = SVC()\n",
    "\n",
    "# SVC() = {‘linear’, ‘poly’, ‘rbf’, ‘sigmoid’, ‘precomputed’} or callable, default=’rbf’\n",
    "# use one to diffrent score\n",
    "\n",
    "modsvm.fit(X_train, y_train)\n",
    "\n",
    "acc = modsvm.score(X_test,y_test)*100\n",
    "accuracies['Support Vector Machine'] = acc\n",
    "print(\"Test Accuracy of SVM : {:.2f}%\".format(acc))"
   ]
  },
  {
   "cell_type": "code",
   "execution_count": 14,
   "id": "64652955",
   "metadata": {
    "execution": {
     "iopub.execute_input": "2022-05-08T08:57:32.783423Z",
     "iopub.status.busy": "2022-05-08T08:57:32.783076Z",
     "iopub.status.idle": "2022-05-08T08:57:32.791667Z",
     "shell.execute_reply": "2022-05-08T08:57:32.790166Z"
    },
    "papermill": {
     "duration": 0.042436,
     "end_time": "2022-05-08T08:57:32.795680",
     "exception": false,
     "start_time": "2022-05-08T08:57:32.753244",
     "status": "completed"
    },
    "tags": []
   },
   "outputs": [
    {
     "name": "stderr",
     "output_type": "stream",
     "text": [
      "/opt/conda/lib/python3.7/site-packages/sklearn/base.py:451: UserWarning: X does not have valid feature names, but SVC was fitted with feature names\n",
      "  \"X does not have valid feature names, but\"\n"
     ]
    },
    {
     "data": {
      "text/plain": [
       "array([0])"
      ]
     },
     "execution_count": 14,
     "metadata": {},
     "output_type": "execute_result"
    }
   ],
   "source": [
    "modsvm.predict([[4.8,3.0,1.5,0.3]])"
   ]
  },
  {
   "cell_type": "markdown",
   "id": "f35b73a1",
   "metadata": {
    "papermill": {
     "duration": 0.028692,
     "end_time": "2022-05-08T08:57:32.854250",
     "exception": false,
     "start_time": "2022-05-08T08:57:32.825558",
     "status": "completed"
    },
    "tags": []
   },
   "source": [
    "# Decision Tree Model"
   ]
  },
  {
   "cell_type": "code",
   "execution_count": 15,
   "id": "545647d1",
   "metadata": {
    "execution": {
     "iopub.execute_input": "2022-05-08T08:57:32.914222Z",
     "iopub.status.busy": "2022-05-08T08:57:32.913839Z",
     "iopub.status.idle": "2022-05-08T08:57:33.009852Z",
     "shell.execute_reply": "2022-05-08T08:57:33.008867Z"
    },
    "papermill": {
     "duration": 0.130034,
     "end_time": "2022-05-08T08:57:33.013396",
     "exception": false,
     "start_time": "2022-05-08T08:57:32.883362",
     "status": "completed"
    },
    "tags": []
   },
   "outputs": [
    {
     "name": "stdout",
     "output_type": "stream",
     "text": [
      "Decision Tree Test Accuracy 100.00%\n"
     ]
    }
   ],
   "source": [
    "from sklearn import tree\n",
    "moddt = tree.DecisionTreeClassifier()\n",
    "moddt.fit(X_train, y_train)\n",
    "\n",
    "acc = moddt.score(X_test, y_test)*100\n",
    "accuracies['Decision Tree'] = acc\n",
    "print(\"Decision Tree Test Accuracy {:.2f}%\".format(acc))"
   ]
  },
  {
   "cell_type": "code",
   "execution_count": 16,
   "id": "e67027a8",
   "metadata": {
    "execution": {
     "iopub.execute_input": "2022-05-08T08:57:33.076196Z",
     "iopub.status.busy": "2022-05-08T08:57:33.075823Z",
     "iopub.status.idle": "2022-05-08T08:57:33.083847Z",
     "shell.execute_reply": "2022-05-08T08:57:33.082717Z"
    },
    "papermill": {
     "duration": 0.042298,
     "end_time": "2022-05-08T08:57:33.086117",
     "exception": false,
     "start_time": "2022-05-08T08:57:33.043819",
     "status": "completed"
    },
    "tags": []
   },
   "outputs": [
    {
     "name": "stderr",
     "output_type": "stream",
     "text": [
      "/opt/conda/lib/python3.7/site-packages/sklearn/base.py:451: UserWarning: X does not have valid feature names, but DecisionTreeClassifier was fitted with feature names\n",
      "  \"X does not have valid feature names, but\"\n"
     ]
    },
    {
     "data": {
      "text/plain": [
       "array([0])"
      ]
     },
     "execution_count": 16,
     "metadata": {},
     "output_type": "execute_result"
    }
   ],
   "source": [
    "moddt.predict([[4.8,3.0,1.5,0.3]])"
   ]
  },
  {
   "cell_type": "markdown",
   "id": "fdcd061c",
   "metadata": {
    "papermill": {
     "duration": 0.029001,
     "end_time": "2022-05-08T08:57:33.145068",
     "exception": false,
     "start_time": "2022-05-08T08:57:33.116067",
     "status": "completed"
    },
    "tags": []
   },
   "source": [
    "# Random Forest Model"
   ]
  },
  {
   "cell_type": "code",
   "execution_count": 17,
   "id": "0ad1e16c",
   "metadata": {
    "execution": {
     "iopub.execute_input": "2022-05-08T08:57:33.206239Z",
     "iopub.status.busy": "2022-05-08T08:57:33.205879Z",
     "iopub.status.idle": "2022-05-08T08:57:33.436881Z",
     "shell.execute_reply": "2022-05-08T08:57:33.435865Z"
    },
    "papermill": {
     "duration": 0.264937,
     "end_time": "2022-05-08T08:57:33.439616",
     "exception": false,
     "start_time": "2022-05-08T08:57:33.174679",
     "status": "completed"
    },
    "tags": []
   },
   "outputs": [
    {
     "name": "stdout",
     "output_type": "stream",
     "text": [
      "Random Forest Test Accuracy 100.00%\n"
     ]
    }
   ],
   "source": [
    "from sklearn.ensemble import RandomForestClassifier\n",
    "modrf = RandomForestClassifier()\n",
    "modrf.fit(X_train, y_train)\n",
    "modrf.score(X_test, y_test)\n",
    "\n",
    "acc = modrf.score(X_test, y_test)*100\n",
    "accuracies['Random Forest'] = acc\n",
    "print(\"Random Forest Test Accuracy {:.2f}%\".format(acc))"
   ]
  },
  {
   "cell_type": "code",
   "execution_count": 18,
   "id": "3ebcb64e",
   "metadata": {
    "execution": {
     "iopub.execute_input": "2022-05-08T08:57:33.502424Z",
     "iopub.status.busy": "2022-05-08T08:57:33.501512Z",
     "iopub.status.idle": "2022-05-08T08:57:33.521937Z",
     "shell.execute_reply": "2022-05-08T08:57:33.520827Z"
    },
    "papermill": {
     "duration": 0.053918,
     "end_time": "2022-05-08T08:57:33.524316",
     "exception": false,
     "start_time": "2022-05-08T08:57:33.470398",
     "status": "completed"
    },
    "tags": []
   },
   "outputs": [
    {
     "name": "stderr",
     "output_type": "stream",
     "text": [
      "/opt/conda/lib/python3.7/site-packages/sklearn/base.py:451: UserWarning: X does not have valid feature names, but RandomForestClassifier was fitted with feature names\n",
      "  \"X does not have valid feature names, but\"\n"
     ]
    },
    {
     "data": {
      "text/plain": [
       "array([0])"
      ]
     },
     "execution_count": 18,
     "metadata": {},
     "output_type": "execute_result"
    }
   ],
   "source": [
    "modrf.predict([[4.8,3.0,1.5,0.3]])"
   ]
  },
  {
   "cell_type": "markdown",
   "id": "d315c9aa",
   "metadata": {
    "papermill": {
     "duration": 0.029955,
     "end_time": "2022-05-08T08:57:33.585347",
     "exception": false,
     "start_time": "2022-05-08T08:57:33.555392",
     "status": "completed"
    },
    "tags": []
   },
   "source": [
    "# Naive Bayes"
   ]
  },
  {
   "cell_type": "code",
   "execution_count": 19,
   "id": "8ad39eeb",
   "metadata": {
    "execution": {
     "iopub.execute_input": "2022-05-08T08:57:33.648023Z",
     "iopub.status.busy": "2022-05-08T08:57:33.647691Z",
     "iopub.status.idle": "2022-05-08T08:57:33.661740Z",
     "shell.execute_reply": "2022-05-08T08:57:33.660848Z"
    },
    "papermill": {
     "duration": 0.048943,
     "end_time": "2022-05-08T08:57:33.664754",
     "exception": false,
     "start_time": "2022-05-08T08:57:33.615811",
     "status": "completed"
    },
    "tags": []
   },
   "outputs": [
    {
     "name": "stdout",
     "output_type": "stream",
     "text": [
      "Naive Bayes Test Accuracy 100.00%\n"
     ]
    }
   ],
   "source": [
    "from sklearn.naive_bayes import GaussianNB\n",
    "modnb = GaussianNB()\n",
    "modnb.fit(X_train,y_train)\n",
    "modnb.score(X_test,y_test)\n",
    "\n",
    "acc = modnb.score(X_test, y_test)*100\n",
    "accuracies['Naive Bayes'] = acc\n",
    "print(\"Naive Bayes Test Accuracy {:.2f}%\".format(acc))"
   ]
  },
  {
   "cell_type": "code",
   "execution_count": 20,
   "id": "2989f167",
   "metadata": {
    "execution": {
     "iopub.execute_input": "2022-05-08T08:57:33.729556Z",
     "iopub.status.busy": "2022-05-08T08:57:33.729231Z",
     "iopub.status.idle": "2022-05-08T08:57:33.735628Z",
     "shell.execute_reply": "2022-05-08T08:57:33.735062Z"
    },
    "papermill": {
     "duration": 0.042859,
     "end_time": "2022-05-08T08:57:33.739589",
     "exception": false,
     "start_time": "2022-05-08T08:57:33.696730",
     "status": "completed"
    },
    "tags": []
   },
   "outputs": [
    {
     "name": "stderr",
     "output_type": "stream",
     "text": [
      "/opt/conda/lib/python3.7/site-packages/sklearn/base.py:451: UserWarning: X does not have valid feature names, but GaussianNB was fitted with feature names\n",
      "  \"X does not have valid feature names, but\"\n"
     ]
    },
    {
     "data": {
      "text/plain": [
       "array([0])"
      ]
     },
     "execution_count": 20,
     "metadata": {},
     "output_type": "execute_result"
    }
   ],
   "source": [
    "modnb.predict([[4.8,3.0,1.5,0.3]])"
   ]
  },
  {
   "cell_type": "markdown",
   "id": "e2498c41",
   "metadata": {
    "papermill": {
     "duration": 0.031324,
     "end_time": "2022-05-08T08:57:33.802713",
     "exception": false,
     "start_time": "2022-05-08T08:57:33.771389",
     "status": "completed"
    },
    "tags": []
   },
   "source": [
    "# Comparing Model"
   ]
  },
  {
   "cell_type": "code",
   "execution_count": 21,
   "id": "087bad9e",
   "metadata": {
    "execution": {
     "iopub.execute_input": "2022-05-08T08:57:33.867929Z",
     "iopub.status.busy": "2022-05-08T08:57:33.866825Z",
     "iopub.status.idle": "2022-05-08T08:57:34.117970Z",
     "shell.execute_reply": "2022-05-08T08:57:34.116954Z"
    },
    "papermill": {
     "duration": 0.287001,
     "end_time": "2022-05-08T08:57:34.120729",
     "exception": false,
     "start_time": "2022-05-08T08:57:33.833728",
     "status": "completed"
    },
    "tags": []
   },
   "outputs": [
    {
     "data": {
      "image/png": "[encoded data removed]",
      "text/plain": [
       "<Figure size 1152x360 with 1 Axes>"
      ]
     },
     "metadata": {},
     "output_type": "display_data"
    }
   ],
   "source": [
    "colors = [\"red\", \"green\", \"orange\", \"blue\", \"black\"]\n",
    "\n",
    "sns.set_style(\"whitegrid\")\n",
    "plt.figure(figsize=(16,5))\n",
    "plt.yticks(np.arange(0,100,10))\n",
    "plt.ylabel(\"Accuracy %\")\n",
    "plt.xlabel(\"Model\", size=18)\n",
    "sns.barplot(x=list(accuracies.keys()), y=list(accuracies.values()), palette=colors)\n",
    "plt.show()"
   ]
  },
  {
   "cell_type": "markdown",
   "id": "36b8e75e",
   "metadata": {
    "papermill": {
     "duration": 0.033671,
     "end_time": "2022-05-08T08:57:34.186816",
     "exception": false,
     "start_time": "2022-05-08T08:57:34.153145",
     "status": "completed"
    },
    "tags": []
   },
   "source": [
    "# Confusion Matrix"
   ]
  },
  {
   "cell_type": "code",
   "execution_count": 22,
   "id": "03bd7437",
   "metadata": {
    "execution": {
     "iopub.execute_input": "2022-05-08T08:57:34.254139Z",
     "iopub.status.busy": "2022-05-08T08:57:34.253519Z",
     "iopub.status.idle": "2022-05-08T08:57:34.275716Z",
     "shell.execute_reply": "2022-05-08T08:57:34.274967Z"
    },
    "papermill": {
     "duration": 0.058504,
     "end_time": "2022-05-08T08:57:34.278148",
     "exception": false,
     "start_time": "2022-05-08T08:57:34.219644",
     "status": "completed"
    },
    "tags": []
   },
   "outputs": [],
   "source": [
    "y_pred_modlrm = modlrm.predict(X_test)\n",
    "y_pred_modsvm = modsvm.predict(X_test)\n",
    "y_pred_moddt = moddt.predict(X_test)\n",
    "y_pred_modrf = modrf.predict(X_test)\n",
    "y_pred_modnb = modnb.predict(X_test)"
   ]
  },
  {
   "cell_type": "code",
   "execution_count": 23,
   "id": "b7bf9363",
   "metadata": {
    "execution": {
     "iopub.execute_input": "2022-05-08T08:57:34.346244Z",
     "iopub.status.busy": "2022-05-08T08:57:34.345618Z",
     "iopub.status.idle": "2022-05-08T08:57:34.355559Z",
     "shell.execute_reply": "2022-05-08T08:57:34.354677Z"
    },
    "papermill": {
     "duration": 0.046681,
     "end_time": "2022-05-08T08:57:34.358031",
     "exception": false,
     "start_time": "2022-05-08T08:57:34.311350",
     "status": "completed"
    },
    "tags": []
   },
   "outputs": [],
   "source": [
    "from sklearn.metrics import confusion_matrix\n",
    "cm_modlrm = confusion_matrix(y_test, y_pred_modlrm)\n",
    "cm_modsvm = confusion_matrix(y_test, y_pred_modsvm)\n",
    "cm_moddt = confusion_matrix(y_test, y_pred_moddt)\n",
    "cm_modrf = confusion_matrix(y_test, y_pred_moddt)\n",
    "cm_modnb = confusion_matrix(y_test, y_pred_moddt)"
   ]
  },
  {
   "cell_type": "code",
   "execution_count": 24,
   "id": "80e6a968",
   "metadata": {
    "execution": {
     "iopub.execute_input": "2022-05-08T08:57:34.427726Z",
     "iopub.status.busy": "2022-05-08T08:57:34.427208Z",
     "iopub.status.idle": "2022-05-08T08:57:35.180627Z",
     "shell.execute_reply": "2022-05-08T08:57:35.179463Z"
    },
    "papermill": {
     "duration": 0.791437,
     "end_time": "2022-05-08T08:57:35.183024",
     "exception": false,
     "start_time": "2022-05-08T08:57:34.391587",
     "status": "completed"
    },
    "tags": []
   },
   "outputs": [
    {
     "data": {
      "image/png": "[encoded data removed]",
      "text/plain": [
       "<Figure size 1296x864 with 5 Axes>"
      ]
     },
     "metadata": {},
     "output_type": "display_data"
    }
   ],
   "source": [
    "plt.figure(figsize=(18,12))\n",
    "\n",
    "plt.suptitle(\"Confusion Matrixes\",fontsize=24)\n",
    "\n",
    "\n",
    "plt.subplot(2,3,1)\n",
    "plt.title(\"Logistic Regression Classifier\")\n",
    "sns.heatmap(cm_modlrm,annot=True,cmap=\"Blues\",fmt=\"d\",cbar=False, annot_kws={\"size\": 24})\n",
    "\n",
    "plt.subplot(2,3,2)\n",
    "plt.title(\"Support Vector Machine Classifier\")\n",
    "sns.heatmap(cm_modsvm,annot=True,cmap=\"Blues\",fmt=\"d\",cbar=False, annot_kws={\"size\": 24})\n",
    "\n",
    "plt.subplot(2,3,3)\n",
    "plt.title(\"Decision Tree Classifier\")\n",
    "sns.heatmap(cm_moddt,annot=True,cmap=\"Blues\",fmt=\"d\",cbar=False, annot_kws={\"size\": 24})\n",
    "\n",
    "plt.subplot(2,3,4)\n",
    "plt.title(\"Random Forest Classifier\")\n",
    "sns.heatmap(cm_modrf,annot=True,cmap=\"Blues\",fmt=\"d\",cbar=False, annot_kws={\"size\": 24})\n",
    "\n",
    "plt.subplot(2,3,5)\n",
    "plt.title(\"Naive Bayes\")\n",
    "sns.heatmap(cm_modnb,annot=True,cmap=\"Blues\",fmt=\"d\",cbar=False, annot_kws={\"size\": 24})\n",
    "\n",
    "plt.show()"
   ]
  }
 ],
 "metadata": {
  "kernelspec": {
   "display_name": "Python 3",
   "language": "python",
   "name": "python3"
  },
  "language_info": {
   "codemirror_mode": {
    "name": "ipython",
    "version": 3
   },
   "file_extension": ".py",
   "mimetype": "text/x-python",
   "name": "python",
   "nbconvert_exporter": "python",
   "pygments_lexer": "ipython3",
   "version": "3.7.12"
  },
  "papermill": {
   "default_parameters": {},
   "duration": 15.612377,
   "end_time": "2022-05-08T08:57:36.242574",
   "environment_variables": {},
   "exception": null,
   "input_path": "__notebook__.ipynb",
   "output_path": "__notebook__.ipynb",
   "parameters": {},
   "start_time": "2022-05-08T08:57:20.630197",
   "version": "2.3.4"
  }
 },
 "nbformat": 4,
 "nbformat_minor": 5
}
