{
 "cells": [
  {
   "cell_type": "markdown",
   "id": "8dd6777d",
   "metadata": {
    "papermill": {
     "duration": 0.028746,
     "end_time": "2022-05-08T07:08:56.892285",
     "exception": false,
     "start_time": "2022-05-08T07:08:56.863539",
     "status": "completed"
    },
    "tags": []
   },
   "source": [
    "# Import Libraries"
   ]
  },
  {
   "cell_type": "code",
   "execution_count": 1,
   "id": "ab267d47",
   "metadata": {
    "_cell_guid": "b1076dfc-b9ad-4769-8c92-a6c4dae69d19",
    "_uuid": "8f2839f25d086af736a60e9eeb907d3b93b6e0e5",
    "execution": {
     "iopub.execute_input": "2022-05-08T07:08:56.963830Z",
     "iopub.status.busy": "2022-05-08T07:08:56.962950Z",
     "iopub.status.idle": "2022-05-08T07:08:58.280365Z",
     "shell.execute_reply": "2022-05-08T07:08:58.279353Z"
    },
    "papermill": {
     "duration": 1.359908,
     "end_time": "2022-05-08T07:08:58.283189",
     "exception": false,
     "start_time": "2022-05-08T07:08:56.923281",
     "status": "completed"
    },
    "tags": []
   },
   "outputs": [],
   "source": [
    "import numpy as np\n",
    "import pandas as pd\n",
    "import matplotlib.pyplot as plt\n",
    "import seaborn as sns\n",
    "from sklearn.datasets import load_iris\n",
    "iris = load_iris()"
   ]
  },
  {
   "cell_type": "markdown",
   "id": "253bed9f",
   "metadata": {
    "papermill": {
     "duration": 0.022578,
     "end_time": "2022-05-08T07:08:58.333783",
     "exception": false,
     "start_time": "2022-05-08T07:08:58.311205",
     "status": "completed"
    },
    "tags": []
   },
   "source": [
    "**Look inside of iris**"
   ]
  },
  {
   "cell_type": "code",
   "execution_count": 2,
   "id": "f7f5a0e0",
   "metadata": {
    "execution": {
     "iopub.execute_input": "2022-05-08T07:08:58.379522Z",
     "iopub.status.busy": "2022-05-08T07:08:58.379252Z",
     "iopub.status.idle": "2022-05-08T07:08:58.387697Z",
     "shell.execute_reply": "2022-05-08T07:08:58.386908Z"
    },
    "papermill": {
     "duration": 0.034646,
     "end_time": "2022-05-08T07:08:58.390381",
     "exception": false,
     "start_time": "2022-05-08T07:08:58.355735",
     "status": "completed"
    },
    "tags": []
   },
   "outputs": [
    {
     "data": {
      "text/plain": [
       "['DESCR',\n",
       " 'data',\n",
       " 'data_module',\n",
       " 'feature_names',\n",
       " 'filename',\n",
       " 'frame',\n",
       " 'target',\n",
       " 'target_names']"
      ]
     },
     "execution_count": 2,
     "metadata": {},
     "output_type": "execute_result"
    }
   ],
   "source": [
    "dir(iris)"
   ]
  },
  {
   "cell_type": "markdown",
   "id": "b6aabc75",
   "metadata": {
    "papermill": {
     "duration": 0.02198,
     "end_time": "2022-05-08T07:08:58.434846",
     "exception": false,
     "start_time": "2022-05-08T07:08:58.412866",
     "status": "completed"
    },
    "tags": []
   },
   "source": [
    "# Dataset"
   ]
  },
  {
   "cell_type": "markdown",
   "id": "df85c199",
   "metadata": {
    "papermill": {
     "duration": 0.02376,
     "end_time": "2022-05-08T07:08:58.480788",
     "exception": false,
     "start_time": "2022-05-08T07:08:58.457028",
     "status": "completed"
    },
    "tags": []
   },
   "source": [
    "**Pick feature_names**"
   ]
  },
  {
   "cell_type": "code",
   "execution_count": 3,
   "id": "c7a4e444",
   "metadata": {
    "execution": {
     "iopub.execute_input": "2022-05-08T07:08:58.527151Z",
     "iopub.status.busy": "2022-05-08T07:08:58.526616Z",
     "iopub.status.idle": "2022-05-08T07:08:58.532042Z",
     "shell.execute_reply": "2022-05-08T07:08:58.531445Z"
    },
    "papermill": {
     "duration": 0.030751,
     "end_time": "2022-05-08T07:08:58.533790",
     "exception": false,
     "start_time": "2022-05-08T07:08:58.503039",
     "status": "completed"
    },
    "tags": []
   },
   "outputs": [
    {
     "data": {
      "text/plain": [
       "['sepal length (cm)',\n",
       " 'sepal width (cm)',\n",
       " 'petal length (cm)',\n",
       " 'petal width (cm)']"
      ]
     },
     "execution_count": 3,
     "metadata": {},
     "output_type": "execute_result"
    }
   ],
   "source": [
    "iris.feature_names"
   ]
  },
  {
   "cell_type": "code",
   "execution_count": 4,
   "id": "c86deed1",
   "metadata": {
    "execution": {
     "iopub.execute_input": "2022-05-08T07:08:58.580247Z",
     "iopub.status.busy": "2022-05-08T07:08:58.579966Z",
     "iopub.status.idle": "2022-05-08T07:08:58.605247Z",
     "shell.execute_reply": "2022-05-08T07:08:58.604456Z"
    },
    "papermill": {
     "duration": 0.050903,
     "end_time": "2022-05-08T07:08:58.607165",
     "exception": false,
     "start_time": "2022-05-08T07:08:58.556262",
     "status": "completed"
    },
    "tags": []
   },
   "outputs": [
    {
     "data": {
      "text/html": [
       "<div>\n",
       "<style scoped>\n",
       "    .dataframe tbody tr th:only-of-type {\n",
       "        vertical-align: middle;\n",
       "    }\n",
       "\n",
       "    .dataframe tbody tr th {\n",
       "        vertical-align: top;\n",
       "    }\n",
       "\n",
       "    .dataframe thead th {\n",
       "        text-align: right;\n",
       "    }\n",
       "</style>\n",
       "<table border=\"1\" class=\"dataframe\">\n",
       "  <thead>\n",
       "    <tr style=\"text-align: right;\">\n",
       "      <th></th>\n",
       "      <th>sepal length (cm)</th>\n",
       "      <th>sepal width (cm)</th>\n",
       "      <th>petal length (cm)</th>\n",
       "      <th>petal width (cm)</th>\n",
       "    </tr>\n",
       "  </thead>\n",
       "  <tbody>\n",
       "    <tr>\n",
       "      <th>0</th>\n",
       "      <td>5.1</td>\n",
       "      <td>3.5</td>\n",
       "      <td>1.4</td>\n",
       "      <td>0.2</td>\n",
       "    </tr>\n",
       "    <tr>\n",
       "      <th>1</th>\n",
       "      <td>4.9</td>\n",
       "      <td>3.0</td>\n",
       "      <td>1.4</td>\n",
       "      <td>0.2</td>\n",
       "    </tr>\n",
       "    <tr>\n",
       "      <th>2</th>\n",
       "      <td>4.7</td>\n",
       "      <td>3.2</td>\n",
       "      <td>1.3</td>\n",
       "      <td>0.2</td>\n",
       "    </tr>\n",
       "    <tr>\n",
       "      <th>3</th>\n",
       "      <td>4.6</td>\n",
       "      <td>3.1</td>\n",
       "      <td>1.5</td>\n",
       "      <td>0.2</td>\n",
       "    </tr>\n",
       "    <tr>\n",
       "      <th>4</th>\n",
       "      <td>5.0</td>\n",
       "      <td>3.6</td>\n",
       "      <td>1.4</td>\n",
       "      <td>0.2</td>\n",
       "    </tr>\n",
       "    <tr>\n",
       "      <th>...</th>\n",
       "      <td>...</td>\n",
       "      <td>...</td>\n",
       "      <td>...</td>\n",
       "      <td>...</td>\n",
       "    </tr>\n",
       "    <tr>\n",
       "      <th>145</th>\n",
       "      <td>6.7</td>\n",
       "      <td>3.0</td>\n",
       "      <td>5.2</td>\n",
       "      <td>2.3</td>\n",
       "    </tr>\n",
       "    <tr>\n",
       "      <th>146</th>\n",
       "      <td>6.3</td>\n",
       "      <td>2.5</td>\n",
       "      <td>5.0</td>\n",
       "      <td>1.9</td>\n",
       "    </tr>\n",
       "    <tr>\n",
       "      <th>147</th>\n",
       "      <td>6.5</td>\n",
       "      <td>3.0</td>\n",
       "      <td>5.2</td>\n",
       "      <td>2.0</td>\n",
       "    </tr>\n",
       "    <tr>\n",
       "      <th>148</th>\n",
       "      <td>6.2</td>\n",
       "      <td>3.4</td>\n",
       "      <td>5.4</td>\n",
       "      <td>2.3</td>\n",
       "    </tr>\n",
       "    <tr>\n",
       "      <th>149</th>\n",
       "      <td>5.9</td>\n",
       "      <td>3.0</td>\n",
       "      <td>5.1</td>\n",
       "      <td>1.8</td>\n",
       "    </tr>\n",
       "  </tbody>\n",
       "</table>\n",
       "<p>150 rows × 4 columns</p>\n",
       "</div>"
      ],
      "text/plain": [
       "     sepal length (cm)  sepal width (cm)  petal length (cm)  petal width (cm)\n",
       "0                  5.1               3.5                1.4               0.2\n",
       "1                  4.9               3.0                1.4               0.2\n",
       "2                  4.7               3.2                1.3               0.2\n",
       "3                  4.6               3.1                1.5               0.2\n",
       "4                  5.0               3.6                1.4               0.2\n",
       "..                 ...               ...                ...               ...\n",
       "145                6.7               3.0                5.2               2.3\n",
       "146                6.3               2.5                5.0               1.9\n",
       "147                6.5               3.0                5.2               2.0\n",
       "148                6.2               3.4                5.4               2.3\n",
       "149                5.9               3.0                5.1               1.8\n",
       "\n",
       "[150 rows x 4 columns]"
      ]
     },
     "execution_count": 4,
     "metadata": {},
     "output_type": "execute_result"
    }
   ],
   "source": [
    "df = pd.DataFrame(iris.data,columns=iris.feature_names)\n",
    "df"
   ]
  },
  {
   "cell_type": "markdown",
   "id": "60c5f7c6",
   "metadata": {
    "papermill": {
     "duration": 0.023598,
     "end_time": "2022-05-08T07:08:58.654095",
     "exception": false,
     "start_time": "2022-05-08T07:08:58.630497",
     "status": "completed"
    },
    "tags": []
   },
   "source": [
    "**Add Target on Dataframe**"
   ]
  },
  {
   "cell_type": "code",
   "execution_count": 5,
   "id": "6e5c912e",
   "metadata": {
    "execution": {
     "iopub.execute_input": "2022-05-08T07:08:58.701635Z",
     "iopub.status.busy": "2022-05-08T07:08:58.701336Z",
     "iopub.status.idle": "2022-05-08T07:08:58.718714Z",
     "shell.execute_reply": "2022-05-08T07:08:58.717863Z"
    },
    "papermill": {
     "duration": 0.043355,
     "end_time": "2022-05-08T07:08:58.720588",
     "exception": false,
     "start_time": "2022-05-08T07:08:58.677233",
     "status": "completed"
    },
    "tags": []
   },
   "outputs": [
    {
     "data": {
      "text/html": [
       "<div>\n",
       "<style scoped>\n",
       "    .dataframe tbody tr th:only-of-type {\n",
       "        vertical-align: middle;\n",
       "    }\n",
       "\n",
       "    .dataframe tbody tr th {\n",
       "        vertical-align: top;\n",
       "    }\n",
       "\n",
       "    .dataframe thead th {\n",
       "        text-align: right;\n",
       "    }\n",
       "</style>\n",
       "<table border=\"1\" class=\"dataframe\">\n",
       "  <thead>\n",
       "    <tr style=\"text-align: right;\">\n",
       "      <th></th>\n",
       "      <th>sepal length (cm)</th>\n",
       "      <th>sepal width (cm)</th>\n",
       "      <th>petal length (cm)</th>\n",
       "      <th>petal width (cm)</th>\n",
       "      <th>target</th>\n",
       "    </tr>\n",
       "  </thead>\n",
       "  <tbody>\n",
       "    <tr>\n",
       "      <th>0</th>\n",
       "      <td>5.1</td>\n",
       "      <td>3.5</td>\n",
       "      <td>1.4</td>\n",
       "      <td>0.2</td>\n",
       "      <td>0</td>\n",
       "    </tr>\n",
       "    <tr>\n",
       "      <th>1</th>\n",
       "      <td>4.9</td>\n",
       "      <td>3.0</td>\n",
       "      <td>1.4</td>\n",
       "      <td>0.2</td>\n",
       "      <td>0</td>\n",
       "    </tr>\n",
       "    <tr>\n",
       "      <th>2</th>\n",
       "      <td>4.7</td>\n",
       "      <td>3.2</td>\n",
       "      <td>1.3</td>\n",
       "      <td>0.2</td>\n",
       "      <td>0</td>\n",
       "    </tr>\n",
       "    <tr>\n",
       "      <th>3</th>\n",
       "      <td>4.6</td>\n",
       "      <td>3.1</td>\n",
       "      <td>1.5</td>\n",
       "      <td>0.2</td>\n",
       "      <td>0</td>\n",
       "    </tr>\n",
       "    <tr>\n",
       "      <th>4</th>\n",
       "      <td>5.0</td>\n",
       "      <td>3.6</td>\n",
       "      <td>1.4</td>\n",
       "      <td>0.2</td>\n",
       "      <td>0</td>\n",
       "    </tr>\n",
       "  </tbody>\n",
       "</table>\n",
       "</div>"
      ],
      "text/plain": [
       "   sepal length (cm)  sepal width (cm)  petal length (cm)  petal width (cm)  \\\n",
       "0                5.1               3.5                1.4               0.2   \n",
       "1                4.9               3.0                1.4               0.2   \n",
       "2                4.7               3.2                1.3               0.2   \n",
       "3                4.6               3.1                1.5               0.2   \n",
       "4                5.0               3.6                1.4               0.2   \n",
       "\n",
       "   target  \n",
       "0       0  \n",
       "1       0  \n",
       "2       0  \n",
       "3       0  \n",
       "4       0  "
      ]
     },
     "execution_count": 5,
     "metadata": {},
     "output_type": "execute_result"
    }
   ],
   "source": [
    "df['target'] = iris.target\n",
    "df.head()"
   ]
  },
  {
   "cell_type": "markdown",
   "id": "8d64998e",
   "metadata": {
    "papermill": {
     "duration": 0.024125,
     "end_time": "2022-05-08T07:08:58.768502",
     "exception": false,
     "start_time": "2022-05-08T07:08:58.744377",
     "status": "completed"
    },
    "tags": []
   },
   "source": [
    "**Add target_names**"
   ]
  },
  {
   "cell_type": "code",
   "execution_count": 6,
   "id": "6e378876",
   "metadata": {
    "execution": {
     "iopub.execute_input": "2022-05-08T07:08:58.818721Z",
     "iopub.status.busy": "2022-05-08T07:08:58.818327Z",
     "iopub.status.idle": "2022-05-08T07:08:58.823731Z",
     "shell.execute_reply": "2022-05-08T07:08:58.822786Z"
    },
    "papermill": {
     "duration": 0.033148,
     "end_time": "2022-05-08T07:08:58.825695",
     "exception": false,
     "start_time": "2022-05-08T07:08:58.792547",
     "status": "completed"
    },
    "tags": []
   },
   "outputs": [
    {
     "data": {
      "text/plain": [
       "array(['setosa', 'versicolor', 'virginica'], dtype='<U10')"
      ]
     },
     "execution_count": 6,
     "metadata": {},
     "output_type": "execute_result"
    }
   ],
   "source": [
    "iris.target_names"
   ]
  },
  {
   "cell_type": "code",
   "execution_count": 7,
   "id": "e08210c2",
   "metadata": {
    "execution": {
     "iopub.execute_input": "2022-05-08T07:08:58.874672Z",
     "iopub.status.busy": "2022-05-08T07:08:58.874417Z",
     "iopub.status.idle": "2022-05-08T07:08:58.890048Z",
     "shell.execute_reply": "2022-05-08T07:08:58.889503Z"
    },
    "papermill": {
     "duration": 0.043034,
     "end_time": "2022-05-08T07:08:58.892449",
     "exception": false,
     "start_time": "2022-05-08T07:08:58.849415",
     "status": "completed"
    },
    "tags": []
   },
   "outputs": [
    {
     "data": {
      "text/html": [
       "<div>\n",
       "<style scoped>\n",
       "    .dataframe tbody tr th:only-of-type {\n",
       "        vertical-align: middle;\n",
       "    }\n",
       "\n",
       "    .dataframe tbody tr th {\n",
       "        vertical-align: top;\n",
       "    }\n",
       "\n",
       "    .dataframe thead th {\n",
       "        text-align: right;\n",
       "    }\n",
       "</style>\n",
       "<table border=\"1\" class=\"dataframe\">\n",
       "  <thead>\n",
       "    <tr style=\"text-align: right;\">\n",
       "      <th></th>\n",
       "      <th>sepal length (cm)</th>\n",
       "      <th>sepal width (cm)</th>\n",
       "      <th>petal length (cm)</th>\n",
       "      <th>petal width (cm)</th>\n",
       "      <th>target</th>\n",
       "      <th>flower_name</th>\n",
       "    </tr>\n",
       "  </thead>\n",
       "  <tbody>\n",
       "    <tr>\n",
       "      <th>0</th>\n",
       "      <td>5.1</td>\n",
       "      <td>3.5</td>\n",
       "      <td>1.4</td>\n",
       "      <td>0.2</td>\n",
       "      <td>0</td>\n",
       "      <td>setosa</td>\n",
       "    </tr>\n",
       "    <tr>\n",
       "      <th>1</th>\n",
       "      <td>4.9</td>\n",
       "      <td>3.0</td>\n",
       "      <td>1.4</td>\n",
       "      <td>0.2</td>\n",
       "      <td>0</td>\n",
       "      <td>setosa</td>\n",
       "    </tr>\n",
       "    <tr>\n",
       "      <th>2</th>\n",
       "      <td>4.7</td>\n",
       "      <td>3.2</td>\n",
       "      <td>1.3</td>\n",
       "      <td>0.2</td>\n",
       "      <td>0</td>\n",
       "      <td>setosa</td>\n",
       "    </tr>\n",
       "    <tr>\n",
       "      <th>3</th>\n",
       "      <td>4.6</td>\n",
       "      <td>3.1</td>\n",
       "      <td>1.5</td>\n",
       "      <td>0.2</td>\n",
       "      <td>0</td>\n",
       "      <td>setosa</td>\n",
       "    </tr>\n",
       "    <tr>\n",
       "      <th>4</th>\n",
       "      <td>5.0</td>\n",
       "      <td>3.6</td>\n",
       "      <td>1.4</td>\n",
       "      <td>0.2</td>\n",
       "      <td>0</td>\n",
       "      <td>setosa</td>\n",
       "    </tr>\n",
       "    <tr>\n",
       "      <th>...</th>\n",
       "      <td>...</td>\n",
       "      <td>...</td>\n",
       "      <td>...</td>\n",
       "      <td>...</td>\n",
       "      <td>...</td>\n",
       "      <td>...</td>\n",
       "    </tr>\n",
       "    <tr>\n",
       "      <th>145</th>\n",
       "      <td>6.7</td>\n",
       "      <td>3.0</td>\n",
       "      <td>5.2</td>\n",
       "      <td>2.3</td>\n",
       "      <td>2</td>\n",
       "      <td>virginica</td>\n",
       "    </tr>\n",
       "    <tr>\n",
       "      <th>146</th>\n",
       "      <td>6.3</td>\n",
       "      <td>2.5</td>\n",
       "      <td>5.0</td>\n",
       "      <td>1.9</td>\n",
       "      <td>2</td>\n",
       "      <td>virginica</td>\n",
       "    </tr>\n",
       "    <tr>\n",
       "      <th>147</th>\n",
       "      <td>6.5</td>\n",
       "      <td>3.0</td>\n",
       "      <td>5.2</td>\n",
       "      <td>2.0</td>\n",
       "      <td>2</td>\n",
       "      <td>virginica</td>\n",
       "    </tr>\n",
       "    <tr>\n",
       "      <th>148</th>\n",
       "      <td>6.2</td>\n",
       "      <td>3.4</td>\n",
       "      <td>5.4</td>\n",
       "      <td>2.3</td>\n",
       "      <td>2</td>\n",
       "      <td>virginica</td>\n",
       "    </tr>\n",
       "    <tr>\n",
       "      <th>149</th>\n",
       "      <td>5.9</td>\n",
       "      <td>3.0</td>\n",
       "      <td>5.1</td>\n",
       "      <td>1.8</td>\n",
       "      <td>2</td>\n",
       "      <td>virginica</td>\n",
       "    </tr>\n",
       "  </tbody>\n",
       "</table>\n",
       "<p>150 rows × 6 columns</p>\n",
       "</div>"
      ],
      "text/plain": [
       "     sepal length (cm)  sepal width (cm)  petal length (cm)  petal width (cm)  \\\n",
       "0                  5.1               3.5                1.4               0.2   \n",
       "1                  4.9               3.0                1.4               0.2   \n",
       "2                  4.7               3.2                1.3               0.2   \n",
       "3                  4.6               3.1                1.5               0.2   \n",
       "4                  5.0               3.6                1.4               0.2   \n",
       "..                 ...               ...                ...               ...   \n",
       "145                6.7               3.0                5.2               2.3   \n",
       "146                6.3               2.5                5.0               1.9   \n",
       "147                6.5               3.0                5.2               2.0   \n",
       "148                6.2               3.4                5.4               2.3   \n",
       "149                5.9               3.0                5.1               1.8   \n",
       "\n",
       "     target flower_name  \n",
       "0         0      setosa  \n",
       "1         0      setosa  \n",
       "2         0      setosa  \n",
       "3         0      setosa  \n",
       "4         0      setosa  \n",
       "..      ...         ...  \n",
       "145       2   virginica  \n",
       "146       2   virginica  \n",
       "147       2   virginica  \n",
       "148       2   virginica  \n",
       "149       2   virginica  \n",
       "\n",
       "[150 rows x 6 columns]"
      ]
     },
     "execution_count": 7,
     "metadata": {},
     "output_type": "execute_result"
    }
   ],
   "source": [
    "df['flower_name'] =df.target.apply(lambda x: iris.target_names[x])\n",
    "df"
   ]
  },
  {
   "cell_type": "markdown",
   "id": "18701d09",
   "metadata": {
    "papermill": {
     "duration": 0.024251,
     "end_time": "2022-05-08T07:08:58.940990",
     "exception": false,
     "start_time": "2022-05-08T07:08:58.916739",
     "status": "completed"
    },
    "tags": []
   },
   "source": [
    "# Splitting Data"
   ]
  },
  {
   "cell_type": "code",
   "execution_count": 8,
   "id": "6bff2f7b",
   "metadata": {
    "execution": {
     "iopub.execute_input": "2022-05-08T07:08:58.991329Z",
     "iopub.status.busy": "2022-05-08T07:08:58.990504Z",
     "iopub.status.idle": "2022-05-08T07:08:59.044600Z",
     "shell.execute_reply": "2022-05-08T07:08:59.043681Z"
    },
    "papermill": {
     "duration": 0.081437,
     "end_time": "2022-05-08T07:08:59.046859",
     "exception": false,
     "start_time": "2022-05-08T07:08:58.965422",
     "status": "completed"
    },
    "tags": []
   },
   "outputs": [],
   "source": [
    "from sklearn.model_selection import train_test_split"
   ]
  },
  {
   "cell_type": "code",
   "execution_count": 9,
   "id": "c5ad0387",
   "metadata": {
    "execution": {
     "iopub.execute_input": "2022-05-08T07:08:59.097442Z",
     "iopub.status.busy": "2022-05-08T07:08:59.096794Z",
     "iopub.status.idle": "2022-05-08T07:08:59.105729Z",
     "shell.execute_reply": "2022-05-08T07:08:59.105162Z"
    },
    "papermill": {
     "duration": 0.036709,
     "end_time": "2022-05-08T07:08:59.107588",
     "exception": false,
     "start_time": "2022-05-08T07:08:59.070879",
     "status": "completed"
    },
    "tags": []
   },
   "outputs": [],
   "source": [
    "X = df.drop(['target','flower_name'], axis='columns')\n",
    "y = df.target"
   ]
  },
  {
   "cell_type": "code",
   "execution_count": 10,
   "id": "2c55f03a",
   "metadata": {
    "execution": {
     "iopub.execute_input": "2022-05-08T07:08:59.157767Z",
     "iopub.status.busy": "2022-05-08T07:08:59.156976Z",
     "iopub.status.idle": "2022-05-08T07:08:59.162514Z",
     "shell.execute_reply": "2022-05-08T07:08:59.161976Z"
    },
    "papermill": {
     "duration": 0.032513,
     "end_time": "2022-05-08T07:08:59.164190",
     "exception": false,
     "start_time": "2022-05-08T07:08:59.131677",
     "status": "completed"
    },
    "tags": []
   },
   "outputs": [],
   "source": [
    "X_train, X_test, y_train, y_test = train_test_split(X, y, test_size=0.2)"
   ]
  },
  {
   "cell_type": "markdown",
   "id": "ad394182",
   "metadata": {
    "papermill": {
     "duration": 0.024711,
     "end_time": "2022-05-08T07:08:59.213173",
     "exception": false,
     "start_time": "2022-05-08T07:08:59.188462",
     "status": "completed"
    },
    "tags": []
   },
   "source": [
    "# Logistic Regression Model"
   ]
  },
  {
   "cell_type": "code",
   "execution_count": 11,
   "id": "a5cdc6b3",
   "metadata": {
    "execution": {
     "iopub.execute_input": "2022-05-08T07:08:59.263731Z",
     "iopub.status.busy": "2022-05-08T07:08:59.263326Z",
     "iopub.status.idle": "2022-05-08T07:08:59.375833Z",
     "shell.execute_reply": "2022-05-08T07:08:59.374802Z"
    },
    "papermill": {
     "duration": 0.140683,
     "end_time": "2022-05-08T07:08:59.378127",
     "exception": false,
     "start_time": "2022-05-08T07:08:59.237444",
     "status": "completed"
    },
    "tags": []
   },
   "outputs": [
    {
     "name": "stdout",
     "output_type": "stream",
     "text": [
      "Test Accuracy 100.00%\n"
     ]
    },
    {
     "name": "stderr",
     "output_type": "stream",
     "text": [
      "/opt/conda/lib/python3.7/site-packages/sklearn/linear_model/_logistic.py:818: ConvergenceWarning: lbfgs failed to converge (status=1):\n",
      "STOP: TOTAL NO. of ITERATIONS REACHED LIMIT.\n",
      "\n",
      "Increase the number of iterations (max_iter) or scale the data as shown in:\n",
      "    https://scikit-learn.org/stable/modules/preprocessing.html\n",
      "Please also refer to the documentation for alternative solver options:\n",
      "    https://scikit-learn.org/stable/modules/linear_model.html#logistic-regression\n",
      "  extra_warning_msg=_LOGISTIC_SOLVER_CONVERGENCE_MSG,\n"
     ]
    }
   ],
   "source": [
    "from sklearn.linear_model import LogisticRegression\n",
    "modlrm = LogisticRegression()\n",
    "\n",
    "modlrm.fit(X_train, y_train)\n",
    "\n",
    "accuracies = {}\n",
    "acc = modlrm.score(X_test,y_test)*100\n",
    "\n",
    "accuracies['Logistic Regression'] = acc\n",
    "print(\"Test Accuracy {:.2f}%\".format(acc))"
   ]
  },
  {
   "cell_type": "code",
   "execution_count": 12,
   "id": "4d8f2375",
   "metadata": {
    "execution": {
     "iopub.execute_input": "2022-05-08T07:08:59.429890Z",
     "iopub.status.busy": "2022-05-08T07:08:59.429246Z",
     "iopub.status.idle": "2022-05-08T07:08:59.438449Z",
     "shell.execute_reply": "2022-05-08T07:08:59.437587Z"
    },
    "papermill": {
     "duration": 0.038105,
     "end_time": "2022-05-08T07:08:59.440987",
     "exception": false,
     "start_time": "2022-05-08T07:08:59.402882",
     "status": "completed"
    },
    "tags": []
   },
   "outputs": [
    {
     "name": "stderr",
     "output_type": "stream",
     "text": [
      "/opt/conda/lib/python3.7/site-packages/sklearn/base.py:451: UserWarning: X does not have valid feature names, but LogisticRegression was fitted with feature names\n",
      "  \"X does not have valid feature names, but\"\n"
     ]
    },
    {
     "data": {
      "text/plain": [
       "array([0])"
      ]
     },
     "execution_count": 12,
     "metadata": {},
     "output_type": "execute_result"
    }
   ],
   "source": [
    "modlrm.predict([[4.8,3.0,1.5,0.3]])"
   ]
  },
  {
   "cell_type": "markdown",
   "id": "02105dfe",
   "metadata": {
    "papermill": {
     "duration": 0.025002,
     "end_time": "2022-05-08T07:08:59.491982",
     "exception": false,
     "start_time": "2022-05-08T07:08:59.466980",
     "status": "completed"
    },
    "tags": []
   },
   "source": [
    "# Support Vector Machine (SVM) Model"
   ]
  },
  {
   "cell_type": "code",
   "execution_count": 13,
   "id": "60c9b06d",
   "metadata": {
    "execution": {
     "iopub.execute_input": "2022-05-08T07:08:59.544347Z",
     "iopub.status.busy": "2022-05-08T07:08:59.544045Z",
     "iopub.status.idle": "2022-05-08T07:08:59.553691Z",
     "shell.execute_reply": "2022-05-08T07:08:59.552691Z"
    },
    "papermill": {
     "duration": 0.038505,
     "end_time": "2022-05-08T07:08:59.555661",
     "exception": false,
     "start_time": "2022-05-08T07:08:59.517156",
     "status": "completed"
    },
    "tags": []
   },
   "outputs": [
    {
     "name": "stdout",
     "output_type": "stream",
     "text": [
      "Test Accuracy of SVM : 100.00%\n"
     ]
    }
   ],
   "source": [
    "from sklearn.svm import SVC\n",
    "modsvm = SVC()\n",
    "\n",
    "# SVC() = {‘linear’, ‘poly’, ‘rbf’, ‘sigmoid’, ‘precomputed’} or callable, default=’rbf’\n",
    "# use one to diffrent score\n",
    "\n",
    "modsvm.fit(X_train, y_train)\n",
    "\n",
    "acc = modsvm.score(X_test,y_test)*100\n",
    "accuracies['Support Vector Machine'] = acc\n",
    "print(\"Test Accuracy of SVM : {:.2f}%\".format(acc))"
   ]
  },
  {
   "cell_type": "code",
   "execution_count": 14,
   "id": "2f844eef",
   "metadata": {
    "execution": {
     "iopub.execute_input": "2022-05-08T07:08:59.608849Z",
     "iopub.status.busy": "2022-05-08T07:08:59.608569Z",
     "iopub.status.idle": "2022-05-08T07:08:59.614852Z",
     "shell.execute_reply": "2022-05-08T07:08:59.614200Z"
    },
    "papermill": {
     "duration": 0.034777,
     "end_time": "2022-05-08T07:08:59.616447",
     "exception": false,
     "start_time": "2022-05-08T07:08:59.581670",
     "status": "completed"
    },
    "tags": []
   },
   "outputs": [
    {
     "name": "stderr",
     "output_type": "stream",
     "text": [
      "/opt/conda/lib/python3.7/site-packages/sklearn/base.py:451: UserWarning: X does not have valid feature names, but SVC was fitted with feature names\n",
      "  \"X does not have valid feature names, but\"\n"
     ]
    },
    {
     "data": {
      "text/plain": [
       "array([0])"
      ]
     },
     "execution_count": 14,
     "metadata": {},
     "output_type": "execute_result"
    }
   ],
   "source": [
    "modsvm.predict([[4.8,3.0,1.5,0.3]])"
   ]
  },
  {
   "cell_type": "markdown",
   "id": "0be35c96",
   "metadata": {
    "papermill": {
     "duration": 0.025706,
     "end_time": "2022-05-08T07:08:59.668227",
     "exception": false,
     "start_time": "2022-05-08T07:08:59.642521",
     "status": "completed"
    },
    "tags": []
   },
   "source": [
    "# Decision Tree Model"
   ]
  },
  {
   "cell_type": "code",
   "execution_count": 15,
   "id": "84582220",
   "metadata": {
    "execution": {
     "iopub.execute_input": "2022-05-08T07:08:59.722408Z",
     "iopub.status.busy": "2022-05-08T07:08:59.721607Z",
     "iopub.status.idle": "2022-05-08T07:08:59.809769Z",
     "shell.execute_reply": "2022-05-08T07:08:59.809157Z"
    },
    "papermill": {
     "duration": 0.117193,
     "end_time": "2022-05-08T07:08:59.811723",
     "exception": false,
     "start_time": "2022-05-08T07:08:59.694530",
     "status": "completed"
    },
    "tags": []
   },
   "outputs": [
    {
     "name": "stdout",
     "output_type": "stream",
     "text": [
      "Decision Tree Test Accuracy 100.00%\n"
     ]
    }
   ],
   "source": [
    "from sklearn import tree\n",
    "moddt = tree.DecisionTreeClassifier()\n",
    "moddt.fit(X_train, y_train)\n",
    "\n",
    "acc = moddt.score(X_test, y_test)*100\n",
    "accuracies['Decision Tree'] = acc\n",
    "print(\"Decision Tree Test Accuracy {:.2f}%\".format(acc))"
   ]
  },
  {
   "cell_type": "code",
   "execution_count": 16,
   "id": "e353f8f3",
   "metadata": {
    "execution": {
     "iopub.execute_input": "2022-05-08T07:08:59.876188Z",
     "iopub.status.busy": "2022-05-08T07:08:59.875921Z",
     "iopub.status.idle": "2022-05-08T07:08:59.884321Z",
     "shell.execute_reply": "2022-05-08T07:08:59.883051Z"
    },
    "papermill": {
     "duration": 0.038612,
     "end_time": "2022-05-08T07:08:59.886952",
     "exception": false,
     "start_time": "2022-05-08T07:08:59.848340",
     "status": "completed"
    },
    "tags": []
   },
   "outputs": [
    {
     "name": "stderr",
     "output_type": "stream",
     "text": [
      "/opt/conda/lib/python3.7/site-packages/sklearn/base.py:451: UserWarning: X does not have valid feature names, but DecisionTreeClassifier was fitted with feature names\n",
      "  \"X does not have valid feature names, but\"\n"
     ]
    },
    {
     "data": {
      "text/plain": [
       "array([0])"
      ]
     },
     "execution_count": 16,
     "metadata": {},
     "output_type": "execute_result"
    }
   ],
   "source": [
    "moddt.predict([[4.8,3.0,1.5,0.3]])"
   ]
  },
  {
   "cell_type": "markdown",
   "id": "b7f6ded6",
   "metadata": {
    "papermill": {
     "duration": 0.026972,
     "end_time": "2022-05-08T07:08:59.942863",
     "exception": false,
     "start_time": "2022-05-08T07:08:59.915891",
     "status": "completed"
    },
    "tags": []
   },
   "source": [
    "# Random Forest Model"
   ]
  },
  {
   "cell_type": "code",
   "execution_count": 17,
   "id": "62760ac1",
   "metadata": {
    "execution": {
     "iopub.execute_input": "2022-05-08T07:08:59.999180Z",
     "iopub.status.busy": "2022-05-08T07:08:59.998899Z",
     "iopub.status.idle": "2022-05-08T07:09:00.212088Z",
     "shell.execute_reply": "2022-05-08T07:09:00.210867Z"
    },
    "papermill": {
     "duration": 0.244457,
     "end_time": "2022-05-08T07:09:00.214268",
     "exception": false,
     "start_time": "2022-05-08T07:08:59.969811",
     "status": "completed"
    },
    "tags": []
   },
   "outputs": [
    {
     "name": "stdout",
     "output_type": "stream",
     "text": [
      "Random Forest Test Accuracy 100.00%\n"
     ]
    }
   ],
   "source": [
    "from sklearn.ensemble import RandomForestClassifier\n",
    "modrf = RandomForestClassifier()\n",
    "modrf.fit(X_train, y_train)\n",
    "modrf.score(X_test, y_test)\n",
    "\n",
    "acc = modrf.score(X_test, y_test)*100\n",
    "accuracies['Random Forest'] = acc\n",
    "print(\"Random Forest Test Accuracy {:.2f}%\".format(acc))"
   ]
  },
  {
   "cell_type": "code",
   "execution_count": 18,
   "id": "94dee1de",
   "metadata": {
    "execution": {
     "iopub.execute_input": "2022-05-08T07:09:00.270569Z",
     "iopub.status.busy": "2022-05-08T07:09:00.270100Z",
     "iopub.status.idle": "2022-05-08T07:09:00.284672Z",
     "shell.execute_reply": "2022-05-08T07:09:00.284151Z"
    },
    "papermill": {
     "duration": 0.045246,
     "end_time": "2022-05-08T07:09:00.286658",
     "exception": false,
     "start_time": "2022-05-08T07:09:00.241412",
     "status": "completed"
    },
    "tags": []
   },
   "outputs": [
    {
     "name": "stderr",
     "output_type": "stream",
     "text": [
      "/opt/conda/lib/python3.7/site-packages/sklearn/base.py:451: UserWarning: X does not have valid feature names, but RandomForestClassifier was fitted with feature names\n",
      "  \"X does not have valid feature names, but\"\n"
     ]
    },
    {
     "data": {
      "text/plain": [
       "array([0])"
      ]
     },
     "execution_count": 18,
     "metadata": {},
     "output_type": "execute_result"
    }
   ],
   "source": [
    "modrf.predict([[4.8,3.0,1.5,0.3]])"
   ]
  },
  {
   "cell_type": "markdown",
   "id": "c416deb5",
   "metadata": {
    "papermill": {
     "duration": 0.029461,
     "end_time": "2022-05-08T07:09:00.343777",
     "exception": false,
     "start_time": "2022-05-08T07:09:00.314316",
     "status": "completed"
    },
    "tags": []
   },
   "source": [
    "# Comparing Model"
   ]
  },
  {
   "cell_type": "code",
   "execution_count": 19,
   "id": "b3493315",
   "metadata": {
    "execution": {
     "iopub.execute_input": "2022-05-08T07:09:00.401375Z",
     "iopub.status.busy": "2022-05-08T07:09:00.400602Z",
     "iopub.status.idle": "2022-05-08T07:09:00.628905Z",
     "shell.execute_reply": "2022-05-08T07:09:00.628005Z"
    },
    "papermill": {
     "duration": 0.260225,
     "end_time": "2022-05-08T07:09:00.631759",
     "exception": false,
     "start_time": "2022-05-08T07:09:00.371534",
     "status": "completed"
    },
    "tags": []
   },
   "outputs": [
    {
     "data": {
      "image/png": "[encoded data removed]",
      "text/plain": [
       "<Figure size 1152x360 with 1 Axes>"
      ]
     },
     "metadata": {},
     "output_type": "display_data"
    }
   ],
   "source": [
    "colors = [\"red\", \"green\", \"orange\", \"blue\"]\n",
    "\n",
    "sns.set_style(\"whitegrid\")\n",
    "plt.figure(figsize=(16,5))\n",
    "plt.yticks(np.arange(0,100,10))\n",
    "plt.ylabel(\"Accuracy %\")\n",
    "plt.xlabel(\"Model\", size=18)\n",
    "sns.barplot(x=list(accuracies.keys()), y=list(accuracies.values()), palette=colors)\n",
    "plt.show()"
   ]
  },
  {
   "cell_type": "markdown",
   "id": "2b25f7bf",
   "metadata": {
    "papermill": {
     "duration": 0.028901,
     "end_time": "2022-05-08T07:09:00.693151",
     "exception": false,
     "start_time": "2022-05-08T07:09:00.664250",
     "status": "completed"
    },
    "tags": []
   },
   "source": [
    "# Confusion Matrix"
   ]
  },
  {
   "cell_type": "code",
   "execution_count": 20,
   "id": "fa7b29aa",
   "metadata": {
    "execution": {
     "iopub.execute_input": "2022-05-08T07:09:00.752875Z",
     "iopub.status.busy": "2022-05-08T07:09:00.752019Z",
     "iopub.status.idle": "2022-05-08T07:09:00.771697Z",
     "shell.execute_reply": "2022-05-08T07:09:00.771136Z"
    },
    "papermill": {
     "duration": 0.051721,
     "end_time": "2022-05-08T07:09:00.773756",
     "exception": false,
     "start_time": "2022-05-08T07:09:00.722035",
     "status": "completed"
    },
    "tags": []
   },
   "outputs": [],
   "source": [
    "y_pred_modlrm = modlrm.predict(X_test)\n",
    "y_pred_modsvm = modsvm.predict(X_test)\n",
    "y_pred_moddt = moddt.predict(X_test)\n",
    "y_pred_modrf = modrf.predict(X_test)"
   ]
  },
  {
   "cell_type": "code",
   "execution_count": 21,
   "id": "38144c72",
   "metadata": {
    "execution": {
     "iopub.execute_input": "2022-05-08T07:09:00.835435Z",
     "iopub.status.busy": "2022-05-08T07:09:00.834690Z",
     "iopub.status.idle": "2022-05-08T07:09:00.844058Z",
     "shell.execute_reply": "2022-05-08T07:09:00.843295Z"
    },
    "papermill": {
     "duration": 0.043795,
     "end_time": "2022-05-08T07:09:00.846085",
     "exception": false,
     "start_time": "2022-05-08T07:09:00.802290",
     "status": "completed"
    },
    "tags": []
   },
   "outputs": [],
   "source": [
    "from sklearn.metrics import confusion_matrix\n",
    "cm_modlrm = confusion_matrix(y_test, y_pred_modlrm)\n",
    "cm_modsvm = confusion_matrix(y_test, y_pred_modsvm)\n",
    "cm_moddt = confusion_matrix(y_test, y_pred_moddt)\n",
    "cm_modrf = confusion_matrix(y_test, y_pred_moddt)"
   ]
  },
  {
   "cell_type": "code",
   "execution_count": 22,
   "id": "e5f3f51f",
   "metadata": {
    "execution": {
     "iopub.execute_input": "2022-05-08T07:09:00.906123Z",
     "iopub.status.busy": "2022-05-08T07:09:00.905852Z",
     "iopub.status.idle": "2022-05-08T07:09:01.413394Z",
     "shell.execute_reply": "2022-05-08T07:09:01.412641Z"
    },
    "papermill": {
     "duration": 0.540483,
     "end_time": "2022-05-08T07:09:01.415466",
     "exception": false,
     "start_time": "2022-05-08T07:09:00.874983",
     "status": "completed"
    },
    "tags": []
   },
   "outputs": [
    {
     "data": {
      "image/png": "[encoded data removed]",
      "text/plain": [
       "<Figure size 864x864 with 4 Axes>"
      ]
     },
     "metadata": {},
     "output_type": "display_data"
    }
   ],
   "source": [
    "plt.figure(figsize=(12,12))\n",
    "\n",
    "plt.suptitle(\"Confusion Matrixes\",fontsize=24)\n",
    "\n",
    "\n",
    "plt.subplot(2,2,1)\n",
    "plt.title(\"Logistic Regression Classifier\")\n",
    "sns.heatmap(cm_modlrm,annot=True,cmap=\"Blues\",fmt=\"d\",cbar=False, annot_kws={\"size\": 24})\n",
    "\n",
    "plt.subplot(2,2,2)\n",
    "plt.title(\"Support Vector Machine Classifier\")\n",
    "sns.heatmap(cm_modsvm,annot=True,cmap=\"Blues\",fmt=\"d\",cbar=False, annot_kws={\"size\": 24})\n",
    "\n",
    "plt.subplot(2,2,3)\n",
    "plt.title(\"Decision Tree Classifier\")\n",
    "sns.heatmap(cm_moddt,annot=True,cmap=\"Blues\",fmt=\"d\",cbar=False, annot_kws={\"size\": 24})\n",
    "\n",
    "plt.subplot(2,2,4)\n",
    "plt.title(\"Random Forest Classifier\")\n",
    "sns.heatmap(cm_modrf,annot=True,cmap=\"Blues\",fmt=\"d\",cbar=False, annot_kws={\"size\": 24})\n",
    "\n",
    "plt.show()"
   ]
  }
 ],
 "metadata": {
  "kernelspec": {
   "display_name": "Python 3",
   "language": "python",
   "name": "python3"
  },
  "language_info": {
   "codemirror_mode": {
    "name": "ipython",
    "version": 3
   },
   "file_extension": ".py",
   "mimetype": "text/x-python",
   "name": "python",
   "nbconvert_exporter": "python",
   "pygments_lexer": "ipython3",
   "version": "3.7.12"
  },
  "papermill": {
   "default_parameters": {},
   "duration": 13.852817,
   "end_time": "2022-05-08T07:09:02.166049",
   "environment_variables": {},
   "exception": null,
   "input_path": "__notebook__.ipynb",
   "output_path": "__notebook__.ipynb",
   "parameters": {},
   "start_time": "2022-05-08T07:08:48.313232",
   "version": "2.3.4"
  }
 },
 "nbformat": 4,
 "nbformat_minor": 5
}
